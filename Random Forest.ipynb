{
 "cells": [
  {
   "cell_type": "markdown",
   "id": "4a451107",
   "metadata": {},
   "source": [
    "# Random Forest Classifier"
   ]
  },
  {
   "cell_type": "markdown",
   "id": "f904f099",
   "metadata": {},
   "source": [
    "Random Forest Classifier will use different samples to create many decision trees in order to determine the best classificaiton method. "
   ]
  },
  {
   "cell_type": "code",
   "execution_count": 1,
   "id": "410d5f0d",
   "metadata": {},
   "outputs": [],
   "source": [
    "import pandas as pd\n",
    "import numpy as np\n",
    "import seaborn as sns\n",
    "import matplotlib.pyplot as plt\n",
    "from sklearn.model_selection import train_test_split\n",
    "from sklearn.preprocessing import StandardScaler\n",
    "from sklearn.ensemble import RandomForestClassifier\n",
    "from sklearn.metrics import classification_report\n",
    "from sklearn.metrics import mean_absolute_error, mean_squared_error\n",
    "from sklearn import tree\n",
    "from sklearn.metrics import accuracy_score, precision_score, recall_score, log_loss\n",
    "from sklearn.model_selection import RandomizedSearchCV\n",
    "from sklearn.metrics import confusion_matrix, plot_confusion_matrix\n",
    "from imblearn.over_sampling import SMOTE\n",
    "import warnings\n",
    "warnings.filterwarnings('ignore')"
   ]
  },
  {
   "cell_type": "code",
   "execution_count": 2,
   "id": "8edc692f",
   "metadata": {},
   "outputs": [],
   "source": [
    "df = pd.read_csv('df_dummies.csv')"
   ]
  },
  {
   "cell_type": "code",
   "execution_count": 3,
   "id": "0903f71f",
   "metadata": {},
   "outputs": [],
   "source": [
    "df= df.drop(columns=['Unnamed: 0'], axis=1)"
   ]
  },
  {
   "cell_type": "code",
   "execution_count": 4,
   "id": "3260edf4",
   "metadata": {},
   "outputs": [],
   "source": [
    "X = df.drop(columns=['DepDelay'], axis=1)\n",
    "y= df['DepDelay']"
   ]
  },
  {
   "cell_type": "code",
   "execution_count": 5,
   "id": "f4900b36",
   "metadata": {},
   "outputs": [],
   "source": [
    "#train test split\n",
    "X_train, X_test, y_train, y_test = train_test_split(X, y,test_size=.2, train_size=.8, random_state=42)"
   ]
  },
  {
   "cell_type": "code",
   "execution_count": 6,
   "id": "7a60081d",
   "metadata": {},
   "outputs": [
    {
     "data": {
      "text/plain": [
       "StandardScaler()"
      ]
     },
     "execution_count": 6,
     "metadata": {},
     "output_type": "execute_result"
    }
   ],
   "source": [
    "scaler = StandardScaler()\n",
    "scaler.fit(X_train)"
   ]
  },
  {
   "cell_type": "code",
   "execution_count": 7,
   "id": "3550a115",
   "metadata": {},
   "outputs": [],
   "source": [
    "scaler_X_train = scaler.transform(X_train)\n",
    "scaler_X_test = scaler.transform(X_test)"
   ]
  },
  {
   "cell_type": "markdown",
   "id": "817b1df6",
   "metadata": {},
   "source": [
    "#### Baseline RFC "
   ]
  },
  {
   "cell_type": "markdown",
   "id": "62d1a0d0",
   "metadata": {},
   "source": [
    "Rando Forest Classifier will be used to"
   ]
  },
  {
   "cell_type": "code",
   "execution_count": 8,
   "id": "ea817720",
   "metadata": {},
   "outputs": [
    {
     "data": {
      "text/plain": [
       "RandomForestClassifier()"
      ]
     },
     "execution_count": 8,
     "metadata": {},
     "output_type": "execute_result"
    }
   ],
   "source": [
    "rfc = RandomForestClassifier()\n",
    "rfc.fit(scaler_X_train, y_train)"
   ]
  },
  {
   "cell_type": "code",
   "execution_count": 9,
   "id": "5775b9bf",
   "metadata": {},
   "outputs": [],
   "source": [
    "df_col = list(df.columns)\n",
    "df_col.remove('DepDelay')"
   ]
  },
  {
   "cell_type": "code",
   "execution_count": 10,
   "id": "8f358094",
   "metadata": {},
   "outputs": [
    {
     "data": {
      "text/html": [
       "<div>\n",
       "<style scoped>\n",
       "    .dataframe tbody tr th:only-of-type {\n",
       "        vertical-align: middle;\n",
       "    }\n",
       "\n",
       "    .dataframe tbody tr th {\n",
       "        vertical-align: top;\n",
       "    }\n",
       "\n",
       "    .dataframe thead th {\n",
       "        text-align: right;\n",
       "    }\n",
       "</style>\n",
       "<table border=\"1\" class=\"dataframe\">\n",
       "  <thead>\n",
       "    <tr style=\"text-align: right;\">\n",
       "      <th></th>\n",
       "      <th>feature importance</th>\n",
       "    </tr>\n",
       "  </thead>\n",
       "  <tbody>\n",
       "    <tr>\n",
       "      <th>ArrTime</th>\n",
       "      <td>0.407422</td>\n",
       "    </tr>\n",
       "    <tr>\n",
       "      <th>Distance</th>\n",
       "      <td>0.262958</td>\n",
       "    </tr>\n",
       "    <tr>\n",
       "      <th>DayofMonth</th>\n",
       "      <td>0.153174</td>\n",
       "    </tr>\n",
       "    <tr>\n",
       "      <th>Month</th>\n",
       "      <td>0.086492</td>\n",
       "    </tr>\n",
       "    <tr>\n",
       "      <th>DayofWeek</th>\n",
       "      <td>0.072942</td>\n",
       "    </tr>\n",
       "    <tr>\n",
       "      <th>Dest_ORD</th>\n",
       "      <td>0.004835</td>\n",
       "    </tr>\n",
       "    <tr>\n",
       "      <th>Dest_DFW</th>\n",
       "      <td>0.003983</td>\n",
       "    </tr>\n",
       "    <tr>\n",
       "      <th>Dest_DEN</th>\n",
       "      <td>0.003403</td>\n",
       "    </tr>\n",
       "    <tr>\n",
       "      <th>Dest_LAX</th>\n",
       "      <td>0.003239</td>\n",
       "    </tr>\n",
       "    <tr>\n",
       "      <th>Dest_ATL</th>\n",
       "      <td>0.001551</td>\n",
       "    </tr>\n",
       "  </tbody>\n",
       "</table>\n",
       "</div>"
      ],
      "text/plain": [
       "            feature importance\n",
       "ArrTime               0.407422\n",
       "Distance              0.262958\n",
       "DayofMonth            0.153174\n",
       "Month                 0.086492\n",
       "DayofWeek             0.072942\n",
       "Dest_ORD              0.004835\n",
       "Dest_DFW              0.003983\n",
       "Dest_DEN              0.003403\n",
       "Dest_LAX              0.003239\n",
       "Dest_ATL              0.001551"
      ]
     },
     "execution_count": 10,
     "metadata": {},
     "output_type": "execute_result"
    }
   ],
   "source": [
    "df_feat = pd.DataFrame(rfc.feature_importances_, index=df_col, columns=['feature importance']).sort_values('feature importance', ascending=False)\n",
    "df_feat"
   ]
  },
  {
   "cell_type": "code",
   "execution_count": 11,
   "id": "63ed96f5",
   "metadata": {},
   "outputs": [
    {
     "data": {
      "image/png": "[encoded data removed]",
      "text/plain": [
       "<Figure size 432x288 with 1 Axes>"
      ]
     },
     "metadata": {
      "needs_background": "light"
     },
     "output_type": "display_data"
    }
   ],
   "source": [
    "df_feat.plot(kind='bar');"
   ]
  },
  {
   "cell_type": "markdown",
   "id": "cac4bfaa",
   "metadata": {},
   "source": [
    "##### Model Train"
   ]
  },
  {
   "cell_type": "code",
   "execution_count": 12,
   "id": "0dffe489",
   "metadata": {},
   "outputs": [],
   "source": [
    "rfc_pred_train = rfc.predict(scaler_X_train)"
   ]
  },
  {
   "cell_type": "code",
   "execution_count": 13,
   "id": "9ef1154d",
   "metadata": {},
   "outputs": [
    {
     "name": "stdout",
     "output_type": "stream",
     "text": [
      "              precision    recall  f1-score   support\n",
      "\n",
      "     On Time       1.00      1.00      1.00     44379\n",
      "       Delay       1.00      1.00      1.00     85501\n",
      "\n",
      "    accuracy                           1.00    129880\n",
      "   macro avg       1.00      1.00      1.00    129880\n",
      "weighted avg       1.00      1.00      1.00    129880\n",
      "\n"
     ]
    }
   ],
   "source": [
    "print(classification_report(y_train, rfc_pred_train, target_names=['On Time', 'Delay']))"
   ]
  },
  {
   "cell_type": "code",
   "execution_count": 14,
   "id": "5aebd190",
   "metadata": {},
   "outputs": [
    {
     "name": "stdout",
     "output_type": "stream",
     "text": [
      "Mean Absolute Error: 0.000384970742223591\n",
      "Mean Squared Error: 0.000384970742223591\n",
      "Root Mean Squared Error: 0.019620671299004806\n"
     ]
    }
   ],
   "source": [
    "print('Mean Absolute Error:', mean_absolute_error(y_train, rfc_pred_train))\n",
    "print('Mean Squared Error:', mean_squared_error(y_train, rfc_pred_train))  \n",
    "print('Root Mean Squared Error:', np.sqrt(mean_squared_error(y_train, rfc_pred_train)))"
   ]
  },
  {
   "cell_type": "markdown",
   "id": "29e88ffe",
   "metadata": {},
   "source": [
    "##### Model Test"
   ]
  },
  {
   "cell_type": "code",
   "execution_count": 15,
   "id": "e15632b9",
   "metadata": {},
   "outputs": [],
   "source": [
    "rfc_pred_test = rfc.predict(scaler_X_test)"
   ]
  },
  {
   "cell_type": "code",
   "execution_count": 16,
   "id": "f8b89d31",
   "metadata": {},
   "outputs": [
    {
     "name": "stdout",
     "output_type": "stream",
     "text": [
      "              precision    recall  f1-score   support\n",
      "\n",
      "     On Time       0.48      0.32      0.39     10962\n",
      "       Delay       0.70      0.82      0.76     21509\n",
      "\n",
      "    accuracy                           0.65     32471\n",
      "   macro avg       0.59      0.57      0.57     32471\n",
      "weighted avg       0.63      0.65      0.63     32471\n",
      "\n"
     ]
    }
   ],
   "source": [
    "print(classification_report(y_test, rfc_pred_test, target_names=['On Time', 'Delay']))"
   ]
  },
  {
   "cell_type": "code",
   "execution_count": 17,
   "id": "68e9e1f8",
   "metadata": {},
   "outputs": [
    {
     "name": "stdout",
     "output_type": "stream",
     "text": [
      "Mean Absolute Error: 0.3458470635336146\n",
      "Mean Squared Error: 0.3458470635336146\n",
      "Root Mean Squared Error: 0.588087632529043\n"
     ]
    }
   ],
   "source": [
    "print('Mean Absolute Error:', mean_absolute_error(y_test, rfc_pred_test))\n",
    "print('Mean Squared Error:', mean_squared_error(y_test, rfc_pred_test))  \n",
    "print('Root Mean Squared Error:', np.sqrt(mean_squared_error(y_test, rfc_pred_test)))"
   ]
  },
  {
   "cell_type": "markdown",
   "id": "3bde9c8c",
   "metadata": {},
   "source": [
    "##### Confusion Matrix"
   ]
  },
  {
   "cell_type": "code",
   "execution_count": 18,
   "id": "cb516901",
   "metadata": {},
   "outputs": [
    {
     "data": {
      "text/plain": [
       "array([[ 3522,  7440],\n",
       "       [ 3790, 17719]], dtype=int64)"
      ]
     },
     "execution_count": 18,
     "metadata": {},
     "output_type": "execute_result"
    }
   ],
   "source": [
    "base_cnf_matrix = confusion_matrix(y_test, rfc_pred_test)\n",
    "base_cnf_matrix"
   ]
  },
  {
   "cell_type": "code",
   "execution_count": 19,
   "id": "cbcda41e",
   "metadata": {},
   "outputs": [
    {
     "data": {
      "image/png": "[encoded data removed]",
      "text/plain": [
       "<Figure size 432x288 with 2 Axes>"
      ]
     },
     "metadata": {
      "needs_background": "light"
     },
     "output_type": "display_data"
    }
   ],
   "source": [
    "plot_confusion_matrix(rfc, scaler_X_test, y_test,\n",
    "                      cmap=plt.cm.Blues)\n",
    "plt.show()"
   ]
  },
  {
   "cell_type": "markdown",
   "id": "462a3510",
   "metadata": {},
   "source": [
    "#### Random Search"
   ]
  },
  {
   "cell_type": "code",
   "execution_count": 20,
   "id": "e27a49e1",
   "metadata": {},
   "outputs": [],
   "source": [
    "param_grid={\n",
    "    'criterion':['gini', 'entropy'],\n",
    "    'random_state': [1,20, 42, 100 ],\n",
    "    'max_depth':[5,10,20,30,40,50,60,70],\n",
    "    'min_samples_split':[5,10,20,25,30,40,50],\n",
    "    'min_samples_leaf':[1,100,200,300,400,500]\n",
    "            }"
   ]
  },
  {
   "cell_type": "code",
   "execution_count": 21,
   "id": "dc6a6bac",
   "metadata": {},
   "outputs": [],
   "source": [
    "rfc_rand_search = RandomizedSearchCV(rfc, param_grid)"
   ]
  },
  {
   "cell_type": "markdown",
   "id": "e8d4a0be",
   "metadata": {},
   "source": [
    "##### Model Train"
   ]
  },
  {
   "cell_type": "code",
   "execution_count": 22,
   "id": "b8b4146f",
   "metadata": {},
   "outputs": [
    {
     "data": {
      "text/plain": [
       "RandomizedSearchCV(estimator=RandomForestClassifier(),\n",
       "                   param_distributions={'criterion': ['gini', 'entropy'],\n",
       "                                        'max_depth': [5, 10, 20, 30, 40, 50, 60,\n",
       "                                                      70],\n",
       "                                        'min_samples_leaf': [1, 100, 200, 300,\n",
       "                                                             400, 500],\n",
       "                                        'min_samples_split': [5, 10, 20, 25, 30,\n",
       "                                                              40, 50],\n",
       "                                        'random_state': [1, 20, 42, 100]})"
      ]
     },
     "execution_count": 22,
     "metadata": {},
     "output_type": "execute_result"
    }
   ],
   "source": [
    "rfc_rand_search.fit(scaler_X_train, y_train)"
   ]
  },
  {
   "cell_type": "code",
   "execution_count": 23,
   "id": "4ef7f574",
   "metadata": {},
   "outputs": [
    {
     "data": {
      "text/plain": [
       "{'random_state': 1,\n",
       " 'min_samples_split': 30,\n",
       " 'min_samples_leaf': 1,\n",
       " 'max_depth': 40,\n",
       " 'criterion': 'entropy'}"
      ]
     },
     "execution_count": 23,
     "metadata": {},
     "output_type": "execute_result"
    }
   ],
   "source": [
    "rfc_rand_search.best_params_"
   ]
  },
  {
   "cell_type": "code",
   "execution_count": 24,
   "id": "4a61f7a4",
   "metadata": {},
   "outputs": [],
   "source": [
    "rfc_rs_pred_train = rfc_rand_search.predict(scaler_X_train)"
   ]
  },
  {
   "cell_type": "code",
   "execution_count": 25,
   "id": "c6800ec6",
   "metadata": {},
   "outputs": [
    {
     "name": "stdout",
     "output_type": "stream",
     "text": [
      "              precision    recall  f1-score   support\n",
      "\n",
      "     On Time       0.92      0.38      0.54     44379\n",
      "       Delay       0.75      0.98      0.85     85501\n",
      "\n",
      "    accuracy                           0.78    129880\n",
      "   macro avg       0.84      0.68      0.69    129880\n",
      "weighted avg       0.81      0.78      0.74    129880\n",
      "\n"
     ]
    }
   ],
   "source": [
    "print(classification_report(y_train, rfc_rs_pred_train, target_names=['On Time', 'Delay']))"
   ]
  },
  {
   "cell_type": "code",
   "execution_count": 26,
   "id": "681ca394",
   "metadata": {},
   "outputs": [
    {
     "name": "stdout",
     "output_type": "stream",
     "text": [
      "Mean Absolute Error: 0.22363720357252848\n",
      "Mean Squared Error: 0.22363720357252848\n",
      "Root Mean Squared Error: 0.4729029536517281\n"
     ]
    }
   ],
   "source": [
    "print('Mean Absolute Error:', mean_absolute_error(y_train, rfc_rs_pred_train))\n",
    "print('Mean Squared Error:', mean_squared_error(y_train, rfc_rs_pred_train))  \n",
    "print('Root Mean Squared Error:', np.sqrt(mean_squared_error(y_train, rfc_rs_pred_train)))"
   ]
  },
  {
   "cell_type": "markdown",
   "id": "daeefcbc",
   "metadata": {},
   "source": [
    "##### Model Test"
   ]
  },
  {
   "cell_type": "code",
   "execution_count": 27,
   "id": "fcbb78c1",
   "metadata": {},
   "outputs": [],
   "source": [
    "rfc_rs_pred_test = rfc_rand_search.predict(scaler_X_test)"
   ]
  },
  {
   "cell_type": "code",
   "execution_count": 28,
   "id": "2e7dac24",
   "metadata": {},
   "outputs": [
    {
     "name": "stdout",
     "output_type": "stream",
     "text": [
      "              precision    recall  f1-score   support\n",
      "\n",
      "     On Time       0.55      0.17      0.26     10962\n",
      "       Delay       0.69      0.93      0.79     21509\n",
      "\n",
      "    accuracy                           0.67     32471\n",
      "   macro avg       0.62      0.55      0.52     32471\n",
      "weighted avg       0.64      0.67      0.61     32471\n",
      "\n"
     ]
    }
   ],
   "source": [
    "print(classification_report(y_test, rfc_rs_pred_test, target_names=['On Time', 'Delay']))"
   ]
  },
  {
   "cell_type": "code",
   "execution_count": 29,
   "id": "51d9b2cb",
   "metadata": {},
   "outputs": [
    {
     "name": "stdout",
     "output_type": "stream",
     "text": [
      "Mean Absolute Error: 0.32724585014320473\n",
      "Mean Squared Error: 0.32724585014320473\n",
      "Root Mean Squared Error: 0.5720540622556619\n"
     ]
    }
   ],
   "source": [
    "print('Mean Absolute Error:', mean_absolute_error(y_test, rfc_rs_pred_test))\n",
    "print('Mean Squared Error:', mean_squared_error(y_test, rfc_rs_pred_test))  \n",
    "print('Root Mean Squared Error:', np.sqrt(mean_squared_error(y_test, rfc_rs_pred_test)))"
   ]
  },
  {
   "cell_type": "markdown",
   "id": "9bd5fa56",
   "metadata": {},
   "source": [
    "##### Confusion Matrix"
   ]
  },
  {
   "cell_type": "code",
   "execution_count": 30,
   "id": "cc960f0f",
   "metadata": {},
   "outputs": [
    {
     "data": {
      "text/plain": [
       "array([[ 1822,  9140],\n",
       "       [ 1486, 20023]], dtype=int64)"
      ]
     },
     "execution_count": 30,
     "metadata": {},
     "output_type": "execute_result"
    }
   ],
   "source": [
    "cnf_matrix = confusion_matrix(y_test, rfc_rs_pred_test)\n",
    "cnf_matrix"
   ]
  },
  {
   "cell_type": "code",
   "execution_count": 31,
   "id": "327faffe",
   "metadata": {},
   "outputs": [
    {
     "data": {
      "image/png": "[encoded data removed]",
      "text/plain": [
       "<Figure size 432x288 with 2 Axes>"
      ]
     },
     "metadata": {
      "needs_background": "light"
     },
     "output_type": "display_data"
    }
   ],
   "source": [
    "plot_confusion_matrix(rfc_rand_search, scaler_X_test, y_test,\n",
    "                      cmap=plt.cm.Blues)\n",
    "plt.show()"
   ]
  },
  {
   "cell_type": "markdown",
   "id": "7d593986",
   "metadata": {},
   "source": [
    "#### SMOTE "
   ]
  },
  {
   "cell_type": "code",
   "execution_count": 32,
   "id": "0a76f67f",
   "metadata": {},
   "outputs": [],
   "source": [
    "smote = SMOTE()"
   ]
  },
  {
   "cell_type": "markdown",
   "id": "8356d6a0",
   "metadata": {},
   "source": [
    "##### Model Train"
   ]
  },
  {
   "cell_type": "code",
   "execution_count": 33,
   "id": "0c0a2c27",
   "metadata": {},
   "outputs": [],
   "source": [
    "X_train_resampled, y_train_resampled = smote.fit_resample(scaler_X_train, y_train) "
   ]
  },
  {
   "cell_type": "code",
   "execution_count": 34,
   "id": "9b2265bf",
   "metadata": {},
   "outputs": [],
   "source": [
    "rfc_smote_pred_train = rfc_rand_search.predict(X_train_resampled)"
   ]
  },
  {
   "cell_type": "code",
   "execution_count": 35,
   "id": "746d413c",
   "metadata": {},
   "outputs": [
    {
     "name": "stdout",
     "output_type": "stream",
     "text": [
      "              precision    recall  f1-score   support\n",
      "\n",
      "     On Time       0.95      0.33      0.49     85501\n",
      "       Delay       0.60      0.98      0.74     85501\n",
      "\n",
      "    accuracy                           0.66    171002\n",
      "   macro avg       0.77      0.66      0.62    171002\n",
      "weighted avg       0.77      0.66      0.62    171002\n",
      "\n"
     ]
    }
   ],
   "source": [
    "print(classification_report(y_train_resampled, rfc_smote_pred_train, target_names=['On Time', 'Delay']))"
   ]
  },
  {
   "cell_type": "code",
   "execution_count": 36,
   "id": "431baf40",
   "metadata": {},
   "outputs": [
    {
     "name": "stdout",
     "output_type": "stream",
     "text": [
      "Mean Absolute Error: 0.34253400545022866\n",
      "Mean Squared Error: 0.34253400545022866\n",
      "Root Mean Squared Error: 0.5852640476316896\n"
     ]
    }
   ],
   "source": [
    "print('Mean Absolute Error:', mean_absolute_error(y_train_resampled, rfc_smote_pred_train))\n",
    "print('Mean Squared Error:', mean_squared_error(y_train_resampled, rfc_smote_pred_train))  \n",
    "print('Root Mean Squared Error:', np.sqrt(mean_squared_error(y_train_resampled, rfc_smote_pred_train)))"
   ]
  },
  {
   "cell_type": "markdown",
   "id": "a4e53ec6",
   "metadata": {},
   "source": [
    "##### Model Test"
   ]
  },
  {
   "cell_type": "code",
   "execution_count": 37,
   "id": "bc772c04",
   "metadata": {},
   "outputs": [],
   "source": [
    "X_test_resampled, y_test_resampled = smote.fit_resample(scaler_X_test, y_test) "
   ]
  },
  {
   "cell_type": "code",
   "execution_count": 38,
   "id": "4385c671",
   "metadata": {},
   "outputs": [],
   "source": [
    "rfc_smote_pred_test = rfc_rand_search.predict(X_test_resampled)"
   ]
  },
  {
   "cell_type": "code",
   "execution_count": 39,
   "id": "5fbfdf8d",
   "metadata": {},
   "outputs": [
    {
     "name": "stdout",
     "output_type": "stream",
     "text": [
      "              precision    recall  f1-score   support\n",
      "\n",
      "     On Time       0.69      0.15      0.25     21509\n",
      "       Delay       0.52      0.93      0.67     21509\n",
      "\n",
      "    accuracy                           0.54     43018\n",
      "   macro avg       0.61      0.54      0.46     43018\n",
      "weighted avg       0.61      0.54      0.46     43018\n",
      "\n"
     ]
    }
   ],
   "source": [
    "print(classification_report(y_test_resampled, rfc_smote_pred_test, target_names=['On Time', 'Delay']))"
   ]
  },
  {
   "cell_type": "code",
   "execution_count": 40,
   "id": "d0207075",
   "metadata": {},
   "outputs": [
    {
     "name": "stdout",
     "output_type": "stream",
     "text": [
      "Mean Absolute Error: 0.4575061602120043\n",
      "Mean Squared Error: 0.4575061602120043\n",
      "Root Mean Squared Error: 0.6763920166678524\n"
     ]
    }
   ],
   "source": [
    "print('Mean Absolute Error:', mean_absolute_error(y_test_resampled, rfc_smote_pred_test))\n",
    "print('Mean Squared Error:', mean_squared_error(y_test_resampled, rfc_smote_pred_test))  \n",
    "print('Root Mean Squared Error:', np.sqrt(mean_squared_error(y_test_resampled, rfc_smote_pred_test)))"
   ]
  },
  {
   "cell_type": "markdown",
   "id": "1771db3c",
   "metadata": {},
   "source": [
    "##### Confusion Matrix"
   ]
  },
  {
   "cell_type": "code",
   "execution_count": 41,
   "id": "a74e6bf3",
   "metadata": {},
   "outputs": [
    {
     "data": {
      "text/plain": [
       "array([[ 3314, 18195],\n",
       "       [ 1486, 20023]], dtype=int64)"
      ]
     },
     "execution_count": 41,
     "metadata": {},
     "output_type": "execute_result"
    }
   ],
   "source": [
    "cnf_matrix = confusion_matrix(y_test_resampled, rfc_smote_pred_test)\n",
    "cnf_matrix"
   ]
  },
  {
   "cell_type": "code",
   "execution_count": 42,
   "id": "b5047b8c",
   "metadata": {},
   "outputs": [
    {
     "data": {
      "image/png": "[encoded data removed]",
      "text/plain": [
       "<Figure size 432x288 with 2 Axes>"
      ]
     },
     "metadata": {
      "needs_background": "light"
     },
     "output_type": "display_data"
    }
   ],
   "source": [
    "plot_confusion_matrix(rfc_rand_search, X_test_resampled, y_test_resampled,\n",
    "                      cmap=plt.cm.Blues)\n",
    "plt.show()"
   ]
  },
  {
   "cell_type": "code",
   "execution_count": null,
   "id": "a5ba0a46",
   "metadata": {},
   "outputs": [],
   "source": []
  }
 ],
 "metadata": {
  "kernelspec": {
   "display_name": "Python 3",
   "language": "python",
   "name": "python3"
  },
  "language_info": {
   "codemirror_mode": {
    "name": "ipython",
    "version": 3
   },
   "file_extension": ".py",
   "mimetype": "text/x-python",
   "name": "python",
   "nbconvert_exporter": "python",
   "pygments_lexer": "ipython3",
   "version": "3.8.8"
  }
 },
 "nbformat": 4,
 "nbformat_minor": 5
}
