{
 "cells": [
  {
   "cell_type": "markdown",
   "id": "ace0c1db",
   "metadata": {},
   "source": [
    "### Dummy Variables"
   ]
  },
  {
   "cell_type": "code",
   "execution_count": 1,
   "id": "9c5e7d5f",
   "metadata": {},
   "outputs": [],
   "source": [
    "import pandas as pd\n",
    "import numpy as np\n",
    "from sklearn.preprocessing import OneHotEncoder"
   ]
  },
  {
   "cell_type": "code",
   "execution_count": 2,
   "id": "2a9f1933",
   "metadata": {},
   "outputs": [],
   "source": [
    "df = pd.read_csv('basic_df.csv')"
   ]
  },
  {
   "cell_type": "code",
   "execution_count": 3,
   "id": "f84f7194",
   "metadata": {},
   "outputs": [
    {
     "name": "stdout",
     "output_type": "stream",
     "text": [
      "<class 'pandas.core.frame.DataFrame'>\n",
      "RangeIndex: 168018 entries, 0 to 168017\n",
      "Data columns (total 8 columns):\n",
      " #   Column      Non-Null Count   Dtype \n",
      "---  ------      --------------   ----- \n",
      " 0   Unnamed: 0  168018 non-null  int64 \n",
      " 1   Month       168018 non-null  int64 \n",
      " 2   DayofMonth  168018 non-null  int64 \n",
      " 3   ArrTime     168018 non-null  int64 \n",
      " 4   DepDelay    168018 non-null  int64 \n",
      " 5   Dest        168018 non-null  object\n",
      " 6   Distance    168018 non-null  int64 \n",
      " 7   DayofWeek   168018 non-null  int64 \n",
      "dtypes: int64(7), object(1)\n",
      "memory usage: 10.3+ MB\n"
     ]
    }
   ],
   "source": [
    "df.info()"
   ]
  },
  {
   "cell_type": "code",
   "execution_count": 4,
   "id": "17305d83",
   "metadata": {},
   "outputs": [],
   "source": [
    "df = df.drop(columns=['Unnamed: 0'], axis=1)"
   ]
  },
  {
   "cell_type": "code",
   "execution_count": 5,
   "id": "de1cc161",
   "metadata": {},
   "outputs": [],
   "source": [
    "#fligths departure after 15 min will be considered delayed\n",
    "dep_delay = pd.DataFrame(df.DepDelay > 15)"
   ]
  },
  {
   "cell_type": "code",
   "execution_count": 6,
   "id": "9ff4f30c",
   "metadata": {
    "scrolled": true
   },
   "outputs": [],
   "source": [
    "#replace false/true with 0/1\n",
    "dep_delay = dep_delay.replace(to_replace=[False, True], value=[0,1])"
   ]
  },
  {
   "cell_type": "code",
   "execution_count": 7,
   "id": "19123f55",
   "metadata": {},
   "outputs": [],
   "source": [
    "#set departrue delay equal to new dummy departure\n",
    "df['DepDelay'] = dep_delay"
   ]
  },
  {
   "cell_type": "code",
   "execution_count": 8,
   "id": "ecf3eb4e",
   "metadata": {
    "scrolled": false
   },
   "outputs": [
    {
     "data": {
      "text/html": [
       "<div>\n",
       "<style scoped>\n",
       "    .dataframe tbody tr th:only-of-type {\n",
       "        vertical-align: middle;\n",
       "    }\n",
       "\n",
       "    .dataframe tbody tr th {\n",
       "        vertical-align: top;\n",
       "    }\n",
       "\n",
       "    .dataframe thead th {\n",
       "        text-align: right;\n",
       "    }\n",
       "</style>\n",
       "<table border=\"1\" class=\"dataframe\">\n",
       "  <thead>\n",
       "    <tr style=\"text-align: right;\">\n",
       "      <th></th>\n",
       "      <th>Month</th>\n",
       "      <th>DayofMonth</th>\n",
       "      <th>ArrTime</th>\n",
       "      <th>DepDelay</th>\n",
       "      <th>Distance</th>\n",
       "      <th>DayofWeek</th>\n",
       "      <th>Dest_ATL</th>\n",
       "      <th>Dest_DEN</th>\n",
       "      <th>Dest_DFW</th>\n",
       "      <th>Dest_LAX</th>\n",
       "      <th>Dest_ORD</th>\n",
       "    </tr>\n",
       "  </thead>\n",
       "  <tbody>\n",
       "    <tr>\n",
       "      <th>0</th>\n",
       "      <td>1</td>\n",
       "      <td>1</td>\n",
       "      <td>539</td>\n",
       "      <td>0</td>\n",
       "      <td>4243</td>\n",
       "      <td>2</td>\n",
       "      <td>0</td>\n",
       "      <td>0</td>\n",
       "      <td>0</td>\n",
       "      <td>0</td>\n",
       "      <td>1</td>\n",
       "    </tr>\n",
       "    <tr>\n",
       "      <th>1</th>\n",
       "      <td>1</td>\n",
       "      <td>4</td>\n",
       "      <td>448</td>\n",
       "      <td>0</td>\n",
       "      <td>4243</td>\n",
       "      <td>5</td>\n",
       "      <td>0</td>\n",
       "      <td>0</td>\n",
       "      <td>0</td>\n",
       "      <td>0</td>\n",
       "      <td>1</td>\n",
       "    </tr>\n",
       "    <tr>\n",
       "      <th>2</th>\n",
       "      <td>1</td>\n",
       "      <td>5</td>\n",
       "      <td>448</td>\n",
       "      <td>0</td>\n",
       "      <td>4243</td>\n",
       "      <td>6</td>\n",
       "      <td>0</td>\n",
       "      <td>0</td>\n",
       "      <td>0</td>\n",
       "      <td>0</td>\n",
       "      <td>1</td>\n",
       "    </tr>\n",
       "    <tr>\n",
       "      <th>3</th>\n",
       "      <td>1</td>\n",
       "      <td>6</td>\n",
       "      <td>529</td>\n",
       "      <td>1</td>\n",
       "      <td>4243</td>\n",
       "      <td>7</td>\n",
       "      <td>0</td>\n",
       "      <td>0</td>\n",
       "      <td>0</td>\n",
       "      <td>0</td>\n",
       "      <td>1</td>\n",
       "    </tr>\n",
       "    <tr>\n",
       "      <th>4</th>\n",
       "      <td>1</td>\n",
       "      <td>9</td>\n",
       "      <td>508</td>\n",
       "      <td>0</td>\n",
       "      <td>4243</td>\n",
       "      <td>3</td>\n",
       "      <td>0</td>\n",
       "      <td>0</td>\n",
       "      <td>0</td>\n",
       "      <td>0</td>\n",
       "      <td>1</td>\n",
       "    </tr>\n",
       "    <tr>\n",
       "      <th>...</th>\n",
       "      <td>...</td>\n",
       "      <td>...</td>\n",
       "      <td>...</td>\n",
       "      <td>...</td>\n",
       "      <td>...</td>\n",
       "      <td>...</td>\n",
       "      <td>...</td>\n",
       "      <td>...</td>\n",
       "      <td>...</td>\n",
       "      <td>...</td>\n",
       "      <td>...</td>\n",
       "    </tr>\n",
       "    <tr>\n",
       "      <th>168013</th>\n",
       "      <td>12</td>\n",
       "      <td>18</td>\n",
       "      <td>2158</td>\n",
       "      <td>1</td>\n",
       "      <td>448</td>\n",
       "      <td>4</td>\n",
       "      <td>0</td>\n",
       "      <td>0</td>\n",
       "      <td>1</td>\n",
       "      <td>0</td>\n",
       "      <td>0</td>\n",
       "    </tr>\n",
       "    <tr>\n",
       "      <th>168014</th>\n",
       "      <td>12</td>\n",
       "      <td>22</td>\n",
       "      <td>2142</td>\n",
       "      <td>1</td>\n",
       "      <td>448</td>\n",
       "      <td>1</td>\n",
       "      <td>0</td>\n",
       "      <td>0</td>\n",
       "      <td>1</td>\n",
       "      <td>0</td>\n",
       "      <td>0</td>\n",
       "    </tr>\n",
       "    <tr>\n",
       "      <th>168015</th>\n",
       "      <td>12</td>\n",
       "      <td>24</td>\n",
       "      <td>2058</td>\n",
       "      <td>1</td>\n",
       "      <td>448</td>\n",
       "      <td>3</td>\n",
       "      <td>0</td>\n",
       "      <td>0</td>\n",
       "      <td>1</td>\n",
       "      <td>0</td>\n",
       "      <td>0</td>\n",
       "    </tr>\n",
       "    <tr>\n",
       "      <th>168016</th>\n",
       "      <td>12</td>\n",
       "      <td>27</td>\n",
       "      <td>2131</td>\n",
       "      <td>1</td>\n",
       "      <td>448</td>\n",
       "      <td>6</td>\n",
       "      <td>0</td>\n",
       "      <td>0</td>\n",
       "      <td>1</td>\n",
       "      <td>0</td>\n",
       "      <td>0</td>\n",
       "    </tr>\n",
       "    <tr>\n",
       "      <th>168017</th>\n",
       "      <td>12</td>\n",
       "      <td>29</td>\n",
       "      <td>2044</td>\n",
       "      <td>0</td>\n",
       "      <td>448</td>\n",
       "      <td>1</td>\n",
       "      <td>0</td>\n",
       "      <td>0</td>\n",
       "      <td>1</td>\n",
       "      <td>0</td>\n",
       "      <td>0</td>\n",
       "    </tr>\n",
       "  </tbody>\n",
       "</table>\n",
       "<p>168018 rows × 11 columns</p>\n",
       "</div>"
      ],
      "text/plain": [
       "        Month  DayofMonth  ArrTime  DepDelay  Distance  DayofWeek  Dest_ATL  \\\n",
       "0           1           1      539         0      4243          2         0   \n",
       "1           1           4      448         0      4243          5         0   \n",
       "2           1           5      448         0      4243          6         0   \n",
       "3           1           6      529         1      4243          7         0   \n",
       "4           1           9      508         0      4243          3         0   \n",
       "...       ...         ...      ...       ...       ...        ...       ...   \n",
       "168013     12          18     2158         1       448          4         0   \n",
       "168014     12          22     2142         1       448          1         0   \n",
       "168015     12          24     2058         1       448          3         0   \n",
       "168016     12          27     2131         1       448          6         0   \n",
       "168017     12          29     2044         0       448          1         0   \n",
       "\n",
       "        Dest_DEN  Dest_DFW  Dest_LAX  Dest_ORD  \n",
       "0              0         0         0         1  \n",
       "1              0         0         0         1  \n",
       "2              0         0         0         1  \n",
       "3              0         0         0         1  \n",
       "4              0         0         0         1  \n",
       "...          ...       ...       ...       ...  \n",
       "168013         0         1         0         0  \n",
       "168014         0         1         0         0  \n",
       "168015         0         1         0         0  \n",
       "168016         0         1         0         0  \n",
       "168017         0         1         0         0  \n",
       "\n",
       "[168018 rows x 11 columns]"
      ]
     },
     "execution_count": 8,
     "metadata": {},
     "output_type": "execute_result"
    }
   ],
   "source": [
    "#destination dummies\n",
    "df_dummies = pd.get_dummies(df, columns=['Dest'])\n",
    "df_dummies"
   ]
  },
  {
   "cell_type": "code",
   "execution_count": 9,
   "id": "3a2932d7",
   "metadata": {},
   "outputs": [
    {
     "name": "stdout",
     "output_type": "stream",
     "text": [
      "<class 'pandas.core.frame.DataFrame'>\n",
      "RangeIndex: 168018 entries, 0 to 168017\n",
      "Data columns (total 11 columns):\n",
      " #   Column      Non-Null Count   Dtype\n",
      "---  ------      --------------   -----\n",
      " 0   Month       168018 non-null  int64\n",
      " 1   DayofMonth  168018 non-null  int64\n",
      " 2   ArrTime     168018 non-null  int64\n",
      " 3   DepDelay    168018 non-null  int64\n",
      " 4   Distance    168018 non-null  int64\n",
      " 5   DayofWeek   168018 non-null  int64\n",
      " 6   Dest_ATL    168018 non-null  uint8\n",
      " 7   Dest_DEN    168018 non-null  uint8\n",
      " 8   Dest_DFW    168018 non-null  uint8\n",
      " 9   Dest_LAX    168018 non-null  uint8\n",
      " 10  Dest_ORD    168018 non-null  uint8\n",
      "dtypes: int64(6), uint8(5)\n",
      "memory usage: 8.5 MB\n"
     ]
    }
   ],
   "source": [
    "df_dummies.info()"
   ]
  },
  {
   "cell_type": "code",
   "execution_count": 10,
   "id": "81bd9a34",
   "metadata": {},
   "outputs": [],
   "source": [
    "df_dummies.to_csv('df_dummies.csv')"
   ]
  },
  {
   "cell_type": "code",
   "execution_count": null,
   "id": "72506e75",
   "metadata": {},
   "outputs": [],
   "source": []
  }
 ],
 "metadata": {
  "kernelspec": {
   "display_name": "Python 3",
   "language": "python",
   "name": "python3"
  },
  "language_info": {
   "codemirror_mode": {
    "name": "ipython",
    "version": 3
   },
   "file_extension": ".py",
   "mimetype": "text/x-python",
   "name": "python",
   "nbconvert_exporter": "python",
   "pygments_lexer": "ipython3",
   "version": "3.8.8"
  }
 },
 "nbformat": 4,
 "nbformat_minor": 5
}
