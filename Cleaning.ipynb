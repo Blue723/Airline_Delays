{
 "cells": [
  {
   "cell_type": "markdown",
   "id": "3f09c31f",
   "metadata": {},
   "source": [
    "### Clean Dataframe"
   ]
  },
  {
   "cell_type": "code",
   "execution_count": 1,
   "id": "a2336846",
   "metadata": {},
   "outputs": [],
   "source": [
    "import pandas as pd\n",
    "import numpy as np"
   ]
  },
  {
   "cell_type": "code",
   "execution_count": 2,
   "id": "4529ac8c",
   "metadata": {},
   "outputs": [],
   "source": [
    "df = pd.read_csv('DelayedFlights.csv')"
   ]
  },
  {
   "cell_type": "code",
   "execution_count": 3,
   "id": "e66b0292",
   "metadata": {},
   "outputs": [
    {
     "name": "stdout",
     "output_type": "stream",
     "text": [
      "<class 'pandas.core.frame.DataFrame'>\n",
      "RangeIndex: 1936758 entries, 0 to 1936757\n",
      "Data columns (total 30 columns):\n",
      " #   Column             Dtype  \n",
      "---  ------             -----  \n",
      " 0   Unnamed: 0         int64  \n",
      " 1   Year               int64  \n",
      " 2   Month              int64  \n",
      " 3   DayofMonth         int64  \n",
      " 4   DayOfWeek          int64  \n",
      " 5   DepTime            float64\n",
      " 6   CRSDepTime         int64  \n",
      " 7   ArrTime            float64\n",
      " 8   CRSArrTime         int64  \n",
      " 9   UniqueCarrier      object \n",
      " 10  FlightNum          int64  \n",
      " 11  TailNum            object \n",
      " 12  ActualElapsedTime  float64\n",
      " 13  CRSElapsedTime     float64\n",
      " 14  AirTime            float64\n",
      " 15  ArrDelay           float64\n",
      " 16  DepDelay           float64\n",
      " 17  Origin             object \n",
      " 18  Dest               object \n",
      " 19  Distance           int64  \n",
      " 20  TaxiIn             float64\n",
      " 21  TaxiOut            float64\n",
      " 22  Cancelled          int64  \n",
      " 23  CancellationCode   object \n",
      " 24  Diverted           int64  \n",
      " 25  CarrierDelay       float64\n",
      " 26  WeatherDelay       float64\n",
      " 27  NASDelay           float64\n",
      " 28  SecurityDelay      float64\n",
      " 29  LateAircraftDelay  float64\n",
      "dtypes: float64(14), int64(11), object(5)\n",
      "memory usage: 443.3+ MB\n"
     ]
    }
   ],
   "source": [
    "df.info()"
   ]
  },
  {
   "cell_type": "markdown",
   "id": "f7e6dbd5",
   "metadata": {},
   "source": [
    "I want to focus on predicting classifying the type of delays, and inspecting he duration, but not predicting. "
   ]
  },
  {
   "cell_type": "markdown",
   "id": "f4fe2ede",
   "metadata": {},
   "source": [
    "The model will predict which type of delay a flight will incure under certain conditions/circumstances."
   ]
  },
  {
   "cell_type": "code",
   "execution_count": 4,
   "id": "b4cbff6b",
   "metadata": {},
   "outputs": [],
   "source": [
    "#taxi in and out are irrelevant features\n",
    "df = df.drop(columns=['TaxiIn', 'TaxiOut', 'Unnamed: 0'], axis=1)"
   ]
  },
  {
   "cell_type": "code",
   "execution_count": 5,
   "id": "d970c6a2",
   "metadata": {},
   "outputs": [],
   "source": [
    "#flight and tail number will not contirbute additional information to classifying a delay,\n",
    "df = df.drop(columns=['FlightNum', 'TailNum'], axis=1)"
   ]
  },
  {
   "cell_type": "code",
   "execution_count": 6,
   "id": "bb665bf4",
   "metadata": {},
   "outputs": [],
   "source": [
    "#time elapsed and airtime are also irrelevant information \n",
    "#to predicting the type of delay\n",
    "df = df.drop(columns=['AirTime', 'ActualElapsedTime', 'CRSElapsedTime'], axis=1)"
   ]
  },
  {
   "cell_type": "code",
   "execution_count": 7,
   "id": "1f8ed3b1",
   "metadata": {},
   "outputs": [],
   "source": [
    "#CRS is a computer reservation system used to help predict flight logistics\n",
    "df = df.drop(columns=['CRSDepTime', 'CRSArrTime'], axis=1)"
   ]
  },
  {
   "cell_type": "code",
   "execution_count": 8,
   "id": "e48e5025",
   "metadata": {},
   "outputs": [],
   "source": [
    "#Year this dataset is based on is 2008. This column is not relevant, \n",
    "#using month will be more informative\n",
    "df = df.drop(columns=['Year'], axis=1)"
   ]
  },
  {
   "cell_type": "code",
   "execution_count": 9,
   "id": "c0a73abf",
   "metadata": {},
   "outputs": [],
   "source": [
    "#Cancellation is not going to be considered a type of delay, \n",
    "#yet a separate category outside the framing of the model\n",
    "df = df.drop(columns=['Cancelled','CancellationCode'])"
   ]
  },
  {
   "cell_type": "code",
   "execution_count": 10,
   "id": "67dac4c0",
   "metadata": {},
   "outputs": [],
   "source": [
    "#diverted has no values\n",
    "df = df.drop(columns=['Diverted'], axis=1)"
   ]
  },
  {
   "cell_type": "code",
   "execution_count": 11,
   "id": "7eef10e2",
   "metadata": {},
   "outputs": [],
   "source": [
    "# not needed columns\n",
    "df = df.drop(columns=['DepTime', 'Origin'], axis=1)"
   ]
  },
  {
   "cell_type": "code",
   "execution_count": 12,
   "id": "e807510e",
   "metadata": {},
   "outputs": [],
   "source": [
    "df['DayofWeek'] = df['DayOfWeek']\n",
    "df.drop(columns=['DayOfWeek'], inplace=True, axis=1)"
   ]
  },
  {
   "cell_type": "code",
   "execution_count": 13,
   "id": "5fc62b58",
   "metadata": {},
   "outputs": [],
   "source": [
    "#do not need these delay classifications\n",
    "df = df.drop(columns=[\n",
    "    'CarrierDelay',\n",
    "    'WeatherDelay',\n",
    "    'NASDelay',\n",
    "    'SecurityDelay',\n",
    "    'LateAircraftDelay',\n",
    "    'ArrDelay'], axis=1)"
   ]
  },
  {
   "cell_type": "markdown",
   "id": "be92a8c1",
   "metadata": {},
   "source": [
    "Deleting rows with NA values"
   ]
  },
  {
   "cell_type": "code",
   "execution_count": 14,
   "id": "a677ea9d",
   "metadata": {
    "scrolled": true
   },
   "outputs": [
    {
     "data": {
      "text/plain": [
       "Month               0\n",
       "DayofMonth          0\n",
       "ArrTime          7110\n",
       "UniqueCarrier       0\n",
       "DepDelay            0\n",
       "Dest                0\n",
       "Distance            0\n",
       "DayofWeek           0\n",
       "dtype: int64"
      ]
     },
     "execution_count": 14,
     "metadata": {},
     "output_type": "execute_result"
    }
   ],
   "source": [
    "df.isna().sum()"
   ]
  },
  {
   "cell_type": "code",
   "execution_count": 15,
   "id": "7c6d3122",
   "metadata": {},
   "outputs": [],
   "source": [
    "df.dropna(inplace=True)"
   ]
  },
  {
   "cell_type": "code",
   "execution_count": 16,
   "id": "a39e6c99",
   "metadata": {},
   "outputs": [
    {
     "data": {
      "text/plain": [
       "Month            0\n",
       "DayofMonth       0\n",
       "ArrTime          0\n",
       "UniqueCarrier    0\n",
       "DepDelay         0\n",
       "Dest             0\n",
       "Distance         0\n",
       "DayofWeek        0\n",
       "dtype: int64"
      ]
     },
     "execution_count": 16,
     "metadata": {},
     "output_type": "execute_result"
    }
   ],
   "source": [
    "df.isna().sum()"
   ]
  },
  {
   "cell_type": "code",
   "execution_count": 17,
   "id": "71b660cd",
   "metadata": {},
   "outputs": [
    {
     "name": "stdout",
     "output_type": "stream",
     "text": [
      "<class 'pandas.core.frame.DataFrame'>\n",
      "Int64Index: 1929648 entries, 0 to 1936757\n",
      "Data columns (total 8 columns):\n",
      " #   Column         Dtype  \n",
      "---  ------         -----  \n",
      " 0   Month          int64  \n",
      " 1   DayofMonth     int64  \n",
      " 2   ArrTime        float64\n",
      " 3   UniqueCarrier  object \n",
      " 4   DepDelay       float64\n",
      " 5   Dest           object \n",
      " 6   Distance       int64  \n",
      " 7   DayofWeek      int64  \n",
      "dtypes: float64(2), int64(4), object(2)\n",
      "memory usage: 132.5+ MB\n"
     ]
    }
   ],
   "source": [
    "df.info()"
   ]
  },
  {
   "cell_type": "markdown",
   "id": "9dacc0d1",
   "metadata": {},
   "source": [
    "##### Top Destinations"
   ]
  },
  {
   "cell_type": "code",
   "execution_count": 18,
   "id": "462ffed4",
   "metadata": {},
   "outputs": [
    {
     "data": {
      "text/plain": [
       "ORD    108355\n",
       "ATL    106585\n",
       "DFW     70243\n",
       "DEN     62859\n",
       "LAX     59885\n",
       "        ...  \n",
       "BLI        13\n",
       "BJI        12\n",
       "INL         9\n",
       "PIR         3\n",
       "TUP         1\n",
       "Name: Dest, Length: 302, dtype: int64"
      ]
     },
     "execution_count": 18,
     "metadata": {},
     "output_type": "execute_result"
    }
   ],
   "source": [
    "df.Dest.value_counts()"
   ]
  },
  {
   "cell_type": "code",
   "execution_count": 19,
   "id": "0229de43",
   "metadata": {},
   "outputs": [],
   "source": [
    "# top destinations we will look at.\n",
    "destinations = ['ORD', 'ATL', 'DFW', 'DEN', 'LAX']"
   ]
  },
  {
   "cell_type": "code",
   "execution_count": 20,
   "id": "aea46fc4",
   "metadata": {
    "scrolled": true
   },
   "outputs": [
    {
     "data": {
      "text/plain": [
       "['TPA',\n",
       " 'BWI',\n",
       " 'JAX',\n",
       " 'LAS',\n",
       " 'MCO',\n",
       " 'MDW',\n",
       " 'PHX',\n",
       " 'FLL',\n",
       " 'PBI',\n",
       " 'RSW',\n",
       " 'HOU',\n",
       " 'BHM',\n",
       " 'BNA',\n",
       " 'IND',\n",
       " 'PHL',\n",
       " 'ABQ',\n",
       " 'ALB',\n",
       " 'AMA',\n",
       " 'AUS',\n",
       " 'BDL',\n",
       " 'BOI',\n",
       " 'BUF',\n",
       " 'BUR',\n",
       " 'CLE',\n",
       " 'CMH',\n",
       " 'DEN',\n",
       " 'ELP',\n",
       " 'GEG',\n",
       " 'IAD',\n",
       " 'ISP',\n",
       " 'LAX',\n",
       " 'LBB',\n",
       " 'LIT',\n",
       " 'MAF',\n",
       " 'MCI',\n",
       " 'MHT',\n",
       " 'MSY',\n",
       " 'OAK',\n",
       " 'OKC',\n",
       " 'OMA',\n",
       " 'ONT',\n",
       " 'ORF',\n",
       " 'PDX',\n",
       " 'PIT',\n",
       " 'PVD',\n",
       " 'RDU',\n",
       " 'RNO',\n",
       " 'SAN',\n",
       " 'SAT',\n",
       " 'SDF',\n",
       " 'SEA',\n",
       " 'SFO',\n",
       " 'SJC',\n",
       " 'SLC',\n",
       " 'SMF',\n",
       " 'SNA',\n",
       " 'STL',\n",
       " 'TUL',\n",
       " 'TUS',\n",
       " 'DAL',\n",
       " 'DTW',\n",
       " 'JAN',\n",
       " 'HRL',\n",
       " 'CRP',\n",
       " 'EWR',\n",
       " 'IAH',\n",
       " 'ROC',\n",
       " 'MYR',\n",
       " 'GSO',\n",
       " 'SAV',\n",
       " 'RIC',\n",
       " 'COS',\n",
       " 'FAT',\n",
       " 'MRY',\n",
       " 'LGB',\n",
       " 'BFL',\n",
       " 'EUG',\n",
       " 'ICT',\n",
       " 'CAE',\n",
       " 'DFW',\n",
       " 'DAY',\n",
       " 'MSP',\n",
       " 'GSP',\n",
       " 'MEM',\n",
       " 'TYS',\n",
       " 'SHV',\n",
       " 'BTV',\n",
       " 'MFE',\n",
       " 'PWM',\n",
       " 'ATL',\n",
       " 'SYR',\n",
       " 'MKE',\n",
       " 'HSV',\n",
       " 'BTR',\n",
       " 'CHS',\n",
       " 'MSN',\n",
       " 'LFT',\n",
       " 'LRD',\n",
       " 'SRQ',\n",
       " 'CLT',\n",
       " 'VPS',\n",
       " 'AVL',\n",
       " 'GPT',\n",
       " 'LGA',\n",
       " 'ABE',\n",
       " 'BGR',\n",
       " 'DCA',\n",
       " 'ORD',\n",
       " 'GRR',\n",
       " 'MOB',\n",
       " 'PNS',\n",
       " 'CHA',\n",
       " 'MGM',\n",
       " 'CVG',\n",
       " 'GRK',\n",
       " 'PSP',\n",
       " 'TLH',\n",
       " 'LCH',\n",
       " 'BOS',\n",
       " 'BRO',\n",
       " 'XNA',\n",
       " 'BPT',\n",
       " 'LEX',\n",
       " 'MTJ',\n",
       " 'AEX',\n",
       " 'MLU',\n",
       " 'DSM',\n",
       " 'CRW',\n",
       " 'CLL',\n",
       " 'ILM',\n",
       " 'JFK',\n",
       " 'ASE',\n",
       " 'CPR',\n",
       " 'DRO',\n",
       " 'RAP',\n",
       " 'KOA',\n",
       " 'LIH',\n",
       " 'OGG',\n",
       " 'MDT',\n",
       " 'ROA',\n",
       " 'SPI',\n",
       " 'HNL',\n",
       " 'MFR',\n",
       " 'ATW',\n",
       " 'BMI',\n",
       " 'CAK',\n",
       " 'CID',\n",
       " 'FSD',\n",
       " 'FWA',\n",
       " 'GRB',\n",
       " 'LAN',\n",
       " 'MBS',\n",
       " 'SBN',\n",
       " 'FLG',\n",
       " 'GJT',\n",
       " 'YUM',\n",
       " 'EGE',\n",
       " 'ITO',\n",
       " 'AVP',\n",
       " 'CWA',\n",
       " 'TVC',\n",
       " 'SBP',\n",
       " 'SBA',\n",
       " 'COD',\n",
       " 'HDN',\n",
       " 'CLD',\n",
       " 'TEX',\n",
       " 'MLB',\n",
       " 'SGF',\n",
       " 'MIA',\n",
       " 'HPN',\n",
       " 'TRI',\n",
       " 'SUN',\n",
       " 'SGU',\n",
       " 'TWF',\n",
       " 'IDA',\n",
       " 'MSO',\n",
       " 'BZN',\n",
       " 'YKM',\n",
       " 'SLE',\n",
       " 'HLN',\n",
       " 'LWS',\n",
       " 'GTF',\n",
       " 'BIL',\n",
       " 'BTM',\n",
       " 'JAC',\n",
       " 'FCA',\n",
       " 'PSC',\n",
       " 'ACV',\n",
       " 'RDD',\n",
       " 'IPL',\n",
       " 'MOD',\n",
       " 'PIA',\n",
       " 'LNK',\n",
       " 'GUC',\n",
       " 'AZO',\n",
       " 'FAR',\n",
       " 'MLI',\n",
       " 'PMD',\n",
       " 'BIS',\n",
       " 'PIH',\n",
       " 'EKO',\n",
       " 'RDM',\n",
       " 'BLI',\n",
       " 'IYK',\n",
       " 'SMX',\n",
       " 'CEC',\n",
       " 'CIC',\n",
       " 'OXR',\n",
       " 'RFD',\n",
       " 'CDC',\n",
       " 'STT',\n",
       " 'SJU',\n",
       " 'ANC',\n",
       " 'STX',\n",
       " 'DAB',\n",
       " 'PHF',\n",
       " 'MCN',\n",
       " 'VLD',\n",
       " 'CSG',\n",
       " 'SWF',\n",
       " 'BQK',\n",
       " 'MEI',\n",
       " 'FAY',\n",
       " 'EWN',\n",
       " 'SCE',\n",
       " 'DHN',\n",
       " 'EYW',\n",
       " 'EVV',\n",
       " 'PFN',\n",
       " 'GNV',\n",
       " 'FNT',\n",
       " 'AGS',\n",
       " 'ABY',\n",
       " 'CHO',\n",
       " 'OAJ',\n",
       " 'FSM',\n",
       " 'FLO',\n",
       " 'HHH',\n",
       " 'TOL',\n",
       " 'LYH',\n",
       " 'GTR',\n",
       " 'ACY',\n",
       " 'TUP',\n",
       " 'LAW',\n",
       " 'TYR',\n",
       " 'ABI',\n",
       " 'TXK',\n",
       " 'ACT',\n",
       " 'SPS',\n",
       " 'SJT',\n",
       " 'GGG',\n",
       " 'CMI',\n",
       " 'ROW',\n",
       " 'MQT',\n",
       " 'RST',\n",
       " 'LSE',\n",
       " 'DBQ',\n",
       " 'DLH',\n",
       " 'GFK',\n",
       " 'MOT',\n",
       " 'RHI',\n",
       " 'SUX',\n",
       " 'CMX',\n",
       " 'BGM',\n",
       " 'PLN',\n",
       " 'ERI',\n",
       " 'ALO',\n",
       " 'ELM',\n",
       " 'KTN',\n",
       " 'SIT',\n",
       " 'JNU',\n",
       " 'CDV',\n",
       " 'PSG',\n",
       " 'YAK',\n",
       " 'WRG',\n",
       " 'FAI',\n",
       " 'OME',\n",
       " 'BRW',\n",
       " 'SCC',\n",
       " 'OTZ',\n",
       " 'BET',\n",
       " 'ADQ',\n",
       " 'ADK',\n",
       " 'PSE',\n",
       " 'BQN',\n",
       " 'GCC',\n",
       " 'RKS',\n",
       " 'MKG',\n",
       " 'DLG',\n",
       " 'AKN',\n",
       " 'LWB',\n",
       " 'ACK',\n",
       " 'WYS',\n",
       " 'INL',\n",
       " 'BJI',\n",
       " 'GST',\n",
       " 'LMT',\n",
       " 'OTH',\n",
       " 'ITH',\n",
       " 'HTS',\n",
       " 'PIR']"
      ]
     },
     "execution_count": 20,
     "metadata": {},
     "output_type": "execute_result"
    }
   ],
   "source": [
    "#list of all destinations\n",
    "destinations_li = list(df.Dest.unique())\n",
    "destinations_li"
   ]
  },
  {
   "cell_type": "code",
   "execution_count": 21,
   "id": "5da016c2",
   "metadata": {},
   "outputs": [],
   "source": [
    "#remove top destinations from list\n",
    "for des in destinations:\n",
    "    destinations_li.remove(des)"
   ]
  },
  {
   "cell_type": "code",
   "execution_count": 22,
   "id": "70d77e19",
   "metadata": {},
   "outputs": [],
   "source": [
    "#setting df to top destinations\n",
    "for des_li in destinations_li:\n",
    "    df = df[df['Dest'].str.contains(des_li)==False]"
   ]
  },
  {
   "cell_type": "code",
   "execution_count": 23,
   "id": "79023b8a",
   "metadata": {},
   "outputs": [
    {
     "data": {
      "text/plain": [
       "ORD    108355\n",
       "ATL    106585\n",
       "DFW     70243\n",
       "DEN     62859\n",
       "LAX     59885\n",
       "Name: Dest, dtype: int64"
      ]
     },
     "execution_count": 23,
     "metadata": {},
     "output_type": "execute_result"
    }
   ],
   "source": [
    "df.Dest.value_counts()"
   ]
  },
  {
   "cell_type": "code",
   "execution_count": 24,
   "id": "ae636a8d",
   "metadata": {},
   "outputs": [],
   "source": [
    "#change time measurements to integers\n",
    "for col in df.columns:\n",
    "    if df[col].dtype == 'float64':\n",
    "        df[col] = df[col].apply(np.int64)"
   ]
  },
  {
   "cell_type": "code",
   "execution_count": 25,
   "id": "0ca000cc",
   "metadata": {
    "scrolled": true
   },
   "outputs": [
    {
     "name": "stdout",
     "output_type": "stream",
     "text": [
      "<class 'pandas.core.frame.DataFrame'>\n",
      "Int64Index: 407927 entries, 78 to 1936757\n",
      "Data columns (total 8 columns):\n",
      " #   Column         Non-Null Count   Dtype \n",
      "---  ------         --------------   ----- \n",
      " 0   Month          407927 non-null  int64 \n",
      " 1   DayofMonth     407927 non-null  int64 \n",
      " 2   ArrTime        407927 non-null  int64 \n",
      " 3   UniqueCarrier  407927 non-null  object\n",
      " 4   DepDelay       407927 non-null  int64 \n",
      " 5   Dest           407927 non-null  object\n",
      " 6   Distance       407927 non-null  int64 \n",
      " 7   DayofWeek      407927 non-null  int64 \n",
      "dtypes: int64(6), object(2)\n",
      "memory usage: 28.0+ MB\n"
     ]
    }
   ],
   "source": [
    "df.info()"
   ]
  },
  {
   "cell_type": "markdown",
   "id": "f6125b10",
   "metadata": {},
   "source": [
    "### Choosing Unique Carriers"
   ]
  },
  {
   "cell_type": "code",
   "execution_count": 26,
   "id": "52ee5bf9",
   "metadata": {
    "scrolled": true
   },
   "outputs": [
    {
     "data": {
      "text/plain": [
       "AA    78188\n",
       "UA    56345\n",
       "MQ    49620\n",
       "DL    42380\n",
       "EV    35513\n",
       "OO    34504\n",
       "WN    23712\n",
       "FL    23555\n",
       "F9    13748\n",
       "YV    12890\n",
       "CO     9144\n",
       "US     8229\n",
       "NW     6032\n",
       "XE     3750\n",
       "OH     3680\n",
       "AS     2965\n",
       "9E     2353\n",
       "B6     1118\n",
       "HA      201\n",
       "Name: UniqueCarrier, dtype: int64"
      ]
     },
     "execution_count": 26,
     "metadata": {},
     "output_type": "execute_result"
    }
   ],
   "source": [
    "df.UniqueCarrier.value_counts()"
   ]
  },
  {
   "cell_type": "code",
   "execution_count": 27,
   "id": "6da3f93f",
   "metadata": {},
   "outputs": [],
   "source": [
    "#choosing top carriers\n",
    "unique_carrier = ['AA', 'UA', 'MQ']"
   ]
  },
  {
   "cell_type": "code",
   "execution_count": 28,
   "id": "ce5f2f4c",
   "metadata": {},
   "outputs": [
    {
     "data": {
      "text/plain": [
       "['WN',\n",
       " 'XE',\n",
       " 'YV',\n",
       " 'OH',\n",
       " 'OO',\n",
       " 'UA',\n",
       " 'US',\n",
       " 'DL',\n",
       " 'EV',\n",
       " 'F9',\n",
       " 'FL',\n",
       " 'HA',\n",
       " 'MQ',\n",
       " 'NW',\n",
       " '9E',\n",
       " 'AA',\n",
       " 'AS',\n",
       " 'B6',\n",
       " 'CO']"
      ]
     },
     "execution_count": 28,
     "metadata": {},
     "output_type": "execute_result"
    }
   ],
   "source": [
    "#list of carriers\n",
    "unicarr_li = list(df.UniqueCarrier.unique())\n",
    "unicarr_li"
   ]
  },
  {
   "cell_type": "code",
   "execution_count": 29,
   "id": "3987a939",
   "metadata": {},
   "outputs": [],
   "source": [
    "#remove top carriers\n",
    "for uc in unique_carrier:\n",
    "    unicarr_li.remove(uc)"
   ]
  },
  {
   "cell_type": "code",
   "execution_count": 30,
   "id": "b425e0ba",
   "metadata": {},
   "outputs": [],
   "source": [
    "#filtering unique carrier data to the top carriers with data. \n",
    "for udl in unicarr_li:\n",
    "    df = df[df['UniqueCarrier'].str.contains(udl)==False]"
   ]
  },
  {
   "cell_type": "code",
   "execution_count": 31,
   "id": "ad4f8688",
   "metadata": {},
   "outputs": [
    {
     "data": {
      "text/plain": [
       "AA    78188\n",
       "UA    56345\n",
       "MQ    49620\n",
       "Name: UniqueCarrier, dtype: int64"
      ]
     },
     "execution_count": 31,
     "metadata": {},
     "output_type": "execute_result"
    }
   ],
   "source": [
    "df.UniqueCarrier.value_counts()"
   ]
  },
  {
   "cell_type": "code",
   "execution_count": 32,
   "id": "9881264c",
   "metadata": {},
   "outputs": [],
   "source": [
    "df = df.drop(columns=['UniqueCarrier'], axis=1)"
   ]
  },
  {
   "cell_type": "markdown",
   "id": "71d030d7",
   "metadata": {},
   "source": [
    "Keeping top 5 airlines with the most entries. Leaving about a 600,000 entries for the data set I will use. "
   ]
  },
  {
   "cell_type": "markdown",
   "id": "d905aebb",
   "metadata": {},
   "source": [
    "### Departure Delay Filter"
   ]
  },
  {
   "cell_type": "code",
   "execution_count": 33,
   "id": "6b492fc3",
   "metadata": {},
   "outputs": [
    {
     "name": "stdout",
     "output_type": "stream",
     "text": [
      "<class 'pandas.core.frame.DataFrame'>\n",
      "Int64Index: 184153 entries, 66599 to 1910542\n",
      "Data columns (total 7 columns):\n",
      " #   Column      Non-Null Count   Dtype \n",
      "---  ------      --------------   ----- \n",
      " 0   Month       184153 non-null  int64 \n",
      " 1   DayofMonth  184153 non-null  int64 \n",
      " 2   ArrTime     184153 non-null  int64 \n",
      " 3   DepDelay    184153 non-null  int64 \n",
      " 4   Dest        184153 non-null  object\n",
      " 5   Distance    184153 non-null  int64 \n",
      " 6   DayofWeek   184153 non-null  int64 \n",
      "dtypes: int64(6), object(1)\n",
      "memory usage: 11.2+ MB\n"
     ]
    }
   ],
   "source": [
    "df.info()"
   ]
  },
  {
   "cell_type": "code",
   "execution_count": 34,
   "id": "0d7f8d7d",
   "metadata": {},
   "outputs": [
    {
     "data": {
      "text/plain": [
       "count    184153.000000\n",
       "mean         49.034227\n",
       "std          64.142518\n",
       "min           6.000000\n",
       "25%          13.000000\n",
       "50%          28.000000\n",
       "75%          61.000000\n",
       "max        1710.000000\n",
       "Name: DepDelay, dtype: float64"
      ]
     },
     "execution_count": 34,
     "metadata": {},
     "output_type": "execute_result"
    }
   ],
   "source": [
    "df.DepDelay.describe()"
   ]
  },
  {
   "cell_type": "code",
   "execution_count": 35,
   "id": "1faf79d7",
   "metadata": {},
   "outputs": [
    {
     "data": {
      "text/html": [
       "<div>\n",
       "<style scoped>\n",
       "    .dataframe tbody tr th:only-of-type {\n",
       "        vertical-align: middle;\n",
       "    }\n",
       "\n",
       "    .dataframe tbody tr th {\n",
       "        vertical-align: top;\n",
       "    }\n",
       "\n",
       "    .dataframe thead th {\n",
       "        text-align: right;\n",
       "    }\n",
       "</style>\n",
       "<table border=\"1\" class=\"dataframe\">\n",
       "  <thead>\n",
       "    <tr style=\"text-align: right;\">\n",
       "      <th></th>\n",
       "      <th>Month</th>\n",
       "      <th>DayofMonth</th>\n",
       "      <th>ArrTime</th>\n",
       "      <th>DepDelay</th>\n",
       "      <th>Dest</th>\n",
       "      <th>Distance</th>\n",
       "      <th>DayofWeek</th>\n",
       "    </tr>\n",
       "  </thead>\n",
       "  <tbody>\n",
       "    <tr>\n",
       "      <th>66599</th>\n",
       "      <td>1</td>\n",
       "      <td>1</td>\n",
       "      <td>539</td>\n",
       "      <td>14</td>\n",
       "      <td>ORD</td>\n",
       "      <td>4243</td>\n",
       "      <td>2</td>\n",
       "    </tr>\n",
       "    <tr>\n",
       "      <th>66600</th>\n",
       "      <td>1</td>\n",
       "      <td>4</td>\n",
       "      <td>448</td>\n",
       "      <td>8</td>\n",
       "      <td>ORD</td>\n",
       "      <td>4243</td>\n",
       "      <td>5</td>\n",
       "    </tr>\n",
       "    <tr>\n",
       "      <th>66601</th>\n",
       "      <td>1</td>\n",
       "      <td>5</td>\n",
       "      <td>448</td>\n",
       "      <td>11</td>\n",
       "      <td>ORD</td>\n",
       "      <td>4243</td>\n",
       "      <td>6</td>\n",
       "    </tr>\n",
       "    <tr>\n",
       "      <th>66602</th>\n",
       "      <td>1</td>\n",
       "      <td>6</td>\n",
       "      <td>529</td>\n",
       "      <td>36</td>\n",
       "      <td>ORD</td>\n",
       "      <td>4243</td>\n",
       "      <td>7</td>\n",
       "    </tr>\n",
       "    <tr>\n",
       "      <th>66603</th>\n",
       "      <td>1</td>\n",
       "      <td>9</td>\n",
       "      <td>508</td>\n",
       "      <td>7</td>\n",
       "      <td>ORD</td>\n",
       "      <td>4243</td>\n",
       "      <td>3</td>\n",
       "    </tr>\n",
       "    <tr>\n",
       "      <th>...</th>\n",
       "      <td>...</td>\n",
       "      <td>...</td>\n",
       "      <td>...</td>\n",
       "      <td>...</td>\n",
       "      <td>...</td>\n",
       "      <td>...</td>\n",
       "      <td>...</td>\n",
       "    </tr>\n",
       "    <tr>\n",
       "      <th>1910538</th>\n",
       "      <td>12</td>\n",
       "      <td>18</td>\n",
       "      <td>2158</td>\n",
       "      <td>78</td>\n",
       "      <td>DFW</td>\n",
       "      <td>448</td>\n",
       "      <td>4</td>\n",
       "    </tr>\n",
       "    <tr>\n",
       "      <th>1910539</th>\n",
       "      <td>12</td>\n",
       "      <td>22</td>\n",
       "      <td>2142</td>\n",
       "      <td>63</td>\n",
       "      <td>DFW</td>\n",
       "      <td>448</td>\n",
       "      <td>1</td>\n",
       "    </tr>\n",
       "    <tr>\n",
       "      <th>1910540</th>\n",
       "      <td>12</td>\n",
       "      <td>24</td>\n",
       "      <td>2058</td>\n",
       "      <td>28</td>\n",
       "      <td>DFW</td>\n",
       "      <td>448</td>\n",
       "      <td>3</td>\n",
       "    </tr>\n",
       "    <tr>\n",
       "      <th>1910541</th>\n",
       "      <td>12</td>\n",
       "      <td>27</td>\n",
       "      <td>2131</td>\n",
       "      <td>63</td>\n",
       "      <td>DFW</td>\n",
       "      <td>448</td>\n",
       "      <td>6</td>\n",
       "    </tr>\n",
       "    <tr>\n",
       "      <th>1910542</th>\n",
       "      <td>12</td>\n",
       "      <td>29</td>\n",
       "      <td>2044</td>\n",
       "      <td>10</td>\n",
       "      <td>DFW</td>\n",
       "      <td>448</td>\n",
       "      <td>1</td>\n",
       "    </tr>\n",
       "  </tbody>\n",
       "</table>\n",
       "<p>168018 rows × 7 columns</p>\n",
       "</div>"
      ],
      "text/plain": [
       "         Month  DayofMonth  ArrTime  DepDelay Dest  Distance  DayofWeek\n",
       "66599        1           1      539        14  ORD      4243          2\n",
       "66600        1           4      448         8  ORD      4243          5\n",
       "66601        1           5      448        11  ORD      4243          6\n",
       "66602        1           6      529        36  ORD      4243          7\n",
       "66603        1           9      508         7  ORD      4243          3\n",
       "...        ...         ...      ...       ...  ...       ...        ...\n",
       "1910538     12          18     2158        78  DFW       448          4\n",
       "1910539     12          22     2142        63  DFW       448          1\n",
       "1910540     12          24     2058        28  DFW       448          3\n",
       "1910541     12          27     2131        63  DFW       448          6\n",
       "1910542     12          29     2044        10  DFW       448          1\n",
       "\n",
       "[168018 rows x 7 columns]"
      ]
     },
     "execution_count": 35,
     "metadata": {},
     "output_type": "execute_result"
    }
   ],
   "source": [
    "#setting dataframe to less than 120 min departure delay\n",
    "#fligths past 120 min wil be considered cancelled and\n",
    "#client can revceive full refund\n",
    "df = df[df.DepDelay <= 120]\n",
    "df"
   ]
  },
  {
   "cell_type": "code",
   "execution_count": 36,
   "id": "5d88ab1d",
   "metadata": {},
   "outputs": [],
   "source": [
    "df.to_csv('basic_df.csv')"
   ]
  }
 ],
 "metadata": {
  "kernelspec": {
   "display_name": "Python 3",
   "language": "python",
   "name": "python3"
  },
  "language_info": {
   "codemirror_mode": {
    "name": "ipython",
    "version": 3
   },
   "file_extension": ".py",
   "mimetype": "text/x-python",
   "name": "python",
   "nbconvert_exporter": "python",
   "pygments_lexer": "ipython3",
   "version": "3.8.8"
  }
 },
 "nbformat": 4,
 "nbformat_minor": 5
}
