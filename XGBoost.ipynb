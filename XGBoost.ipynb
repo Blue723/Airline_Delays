{
 "cells": [
  {
   "cell_type": "markdown",
   "id": "fda63778",
   "metadata": {},
   "source": [
    "# XGBoost"
   ]
  },
  {
   "cell_type": "markdown",
   "id": "4670ab23",
   "metadata": {},
   "source": [
    "XGBoost will create decision trees to determine a features weight then adjust weight based on each previous models error. Each predictor is trained using the residual errors of predecessor as labels. "
   ]
  },
  {
   "cell_type": "code",
   "execution_count": 1,
   "id": "6c503dd4",
   "metadata": {},
   "outputs": [],
   "source": [
    "import pandas as pd\n",
    "import numpy as np\n",
    "import seaborn as sns\n",
    "import matplotlib.pyplot as plt\n",
    "from sklearn.model_selection import train_test_split\n",
    "from sklearn.preprocessing import StandardScaler\n",
    "from xgboost import XGBClassifier\n",
    "from sklearn.metrics import classification_report\n",
    "from sklearn.metrics import mean_absolute_error, mean_squared_error\n",
    "from sklearn.metrics import accuracy_score, precision_score, recall_score, log_loss\n",
    "from sklearn.model_selection import RandomizedSearchCV\n",
    "from sklearn import tree\n",
    "from sklearn.metrics import confusion_matrix, plot_confusion_matrix\n",
    "from imblearn.over_sampling import SMOTE\n",
    "import warnings\n",
    "warnings.filterwarnings(\"ignore\") "
   ]
  },
  {
   "cell_type": "code",
   "execution_count": 2,
   "id": "91f47a4d",
   "metadata": {},
   "outputs": [],
   "source": [
    "df = pd.read_csv('df_dummies.csv')"
   ]
  },
  {
   "cell_type": "code",
   "execution_count": 3,
   "id": "29885bd0",
   "metadata": {},
   "outputs": [],
   "source": [
    "df= df.drop(columns=['Unnamed: 0'], axis=1)"
   ]
  },
  {
   "cell_type": "code",
   "execution_count": 4,
   "id": "c0dc6a41",
   "metadata": {},
   "outputs": [],
   "source": [
    "X = df.drop(columns=['DepDelay'], axis=1)\n",
    "y= df['DepDelay']"
   ]
  },
  {
   "cell_type": "code",
   "execution_count": 5,
   "id": "551dabdf",
   "metadata": {},
   "outputs": [],
   "source": [
    "X_train, X_test, y_train, y_test = train_test_split(X, y, random_state=42)"
   ]
  },
  {
   "cell_type": "code",
   "execution_count": 6,
   "id": "2f88d22a",
   "metadata": {},
   "outputs": [
    {
     "data": {
      "text/plain": [
       "StandardScaler()"
      ]
     },
     "execution_count": 6,
     "metadata": {},
     "output_type": "execute_result"
    }
   ],
   "source": [
    "scaler = StandardScaler()\n",
    "scaler.fit(X_train)"
   ]
  },
  {
   "cell_type": "code",
   "execution_count": 7,
   "id": "faea6200",
   "metadata": {},
   "outputs": [],
   "source": [
    "scaler_X_train = scaler.transform(X_train)\n",
    "scaler_X_test = scaler.transform(X_test)"
   ]
  },
  {
   "cell_type": "markdown",
   "id": "6f64aedb",
   "metadata": {},
   "source": [
    "#### Baseline XGB "
   ]
  },
  {
   "cell_type": "code",
   "execution_count": 8,
   "id": "03b55756",
   "metadata": {},
   "outputs": [],
   "source": [
    "xgbc = XGBClassifier(eval_metric='logloss')\n",
    "xgbc = xgbc"
   ]
  },
  {
   "cell_type": "code",
   "execution_count": 9,
   "id": "47a60172",
   "metadata": {},
   "outputs": [
    {
     "data": {
      "text/plain": [
       "XGBClassifier(base_score=0.5, booster='gbtree', colsample_bylevel=1,\n",
       "              colsample_bynode=1, colsample_bytree=1, eval_metric='logloss',\n",
       "              gamma=0, gpu_id=-1, importance_type='gain',\n",
       "              interaction_constraints='', learning_rate=0.300000012,\n",
       "              max_delta_step=0, max_depth=6, min_child_weight=1, missing=nan,\n",
       "              monotone_constraints='()', n_estimators=100, n_jobs=4,\n",
       "              num_parallel_tree=1, random_state=0, reg_alpha=0, reg_lambda=1,\n",
       "              scale_pos_weight=1, subsample=1, tree_method='exact',\n",
       "              validate_parameters=1, verbosity=None)"
      ]
     },
     "execution_count": 9,
     "metadata": {},
     "output_type": "execute_result"
    }
   ],
   "source": [
    "xgbc.fit(scaler_X_train, y_train)"
   ]
  },
  {
   "cell_type": "code",
   "execution_count": 10,
   "id": "4cebde06",
   "metadata": {},
   "outputs": [],
   "source": [
    "df_col = list(df.columns)\n",
    "df_col.remove('DepDelay')"
   ]
  },
  {
   "cell_type": "code",
   "execution_count": 11,
   "id": "5842ea79",
   "metadata": {},
   "outputs": [
    {
     "data": {
      "text/html": [
       "<div>\n",
       "<style scoped>\n",
       "    .dataframe tbody tr th:only-of-type {\n",
       "        vertical-align: middle;\n",
       "    }\n",
       "\n",
       "    .dataframe tbody tr th {\n",
       "        vertical-align: top;\n",
       "    }\n",
       "\n",
       "    .dataframe thead th {\n",
       "        text-align: right;\n",
       "    }\n",
       "</style>\n",
       "<table border=\"1\" class=\"dataframe\">\n",
       "  <thead>\n",
       "    <tr style=\"text-align: right;\">\n",
       "      <th></th>\n",
       "      <th>feature importance</th>\n",
       "    </tr>\n",
       "  </thead>\n",
       "  <tbody>\n",
       "    <tr>\n",
       "      <th>Dest_ORD</th>\n",
       "      <td>0.256904</td>\n",
       "    </tr>\n",
       "    <tr>\n",
       "      <th>ArrTime</th>\n",
       "      <td>0.126804</td>\n",
       "    </tr>\n",
       "    <tr>\n",
       "      <th>Dest_DEN</th>\n",
       "      <td>0.108092</td>\n",
       "    </tr>\n",
       "    <tr>\n",
       "      <th>Dest_LAX</th>\n",
       "      <td>0.089302</td>\n",
       "    </tr>\n",
       "    <tr>\n",
       "      <th>Distance</th>\n",
       "      <td>0.080668</td>\n",
       "    </tr>\n",
       "    <tr>\n",
       "      <th>Dest_DFW</th>\n",
       "      <td>0.080572</td>\n",
       "    </tr>\n",
       "    <tr>\n",
       "      <th>Month</th>\n",
       "      <td>0.072735</td>\n",
       "    </tr>\n",
       "    <tr>\n",
       "      <th>DayofMonth</th>\n",
       "      <td>0.064105</td>\n",
       "    </tr>\n",
       "    <tr>\n",
       "      <th>DayofWeek</th>\n",
       "      <td>0.062530</td>\n",
       "    </tr>\n",
       "    <tr>\n",
       "      <th>Dest_ATL</th>\n",
       "      <td>0.058288</td>\n",
       "    </tr>\n",
       "  </tbody>\n",
       "</table>\n",
       "</div>"
      ],
      "text/plain": [
       "            feature importance\n",
       "Dest_ORD              0.256904\n",
       "ArrTime               0.126804\n",
       "Dest_DEN              0.108092\n",
       "Dest_LAX              0.089302\n",
       "Distance              0.080668\n",
       "Dest_DFW              0.080572\n",
       "Month                 0.072735\n",
       "DayofMonth            0.064105\n",
       "DayofWeek             0.062530\n",
       "Dest_ATL              0.058288"
      ]
     },
     "execution_count": 11,
     "metadata": {},
     "output_type": "execute_result"
    }
   ],
   "source": [
    "df_feat = pd.DataFrame(xgbc.feature_importances_, index=df_col, columns=['feature importance']).sort_values('feature importance', ascending=False)\n",
    "df_feat"
   ]
  },
  {
   "cell_type": "code",
   "execution_count": 12,
   "id": "0f41eac8",
   "metadata": {},
   "outputs": [
    {
     "data": {
      "image/png": "[encoded data removed]",
      "text/plain": [
       "<Figure size 432x288 with 1 Axes>"
      ]
     },
     "metadata": {
      "needs_background": "light"
     },
     "output_type": "display_data"
    }
   ],
   "source": [
    "df_feat.plot(kind='bar');"
   ]
  },
  {
   "cell_type": "markdown",
   "id": "64d85d26",
   "metadata": {},
   "source": [
    "##### Model Train"
   ]
  },
  {
   "cell_type": "code",
   "execution_count": 13,
   "id": "30753357",
   "metadata": {},
   "outputs": [],
   "source": [
    "xgbc_pred_train = xgbc.predict(scaler_X_train)"
   ]
  },
  {
   "cell_type": "code",
   "execution_count": 14,
   "id": "1c76e687",
   "metadata": {},
   "outputs": [
    {
     "name": "stdout",
     "output_type": "stream",
     "text": [
      "              precision    recall  f1-score   support\n",
      "\n",
      "     On Time       0.72      0.21      0.32     41471\n",
      "       Delay       0.71      0.96      0.82     84542\n",
      "\n",
      "    accuracy                           0.71    126013\n",
      "   macro avg       0.71      0.58      0.57    126013\n",
      "weighted avg       0.71      0.71      0.65    126013\n",
      "\n"
     ]
    }
   ],
   "source": [
    "print(classification_report(y_train, xgbc_pred_train, target_names=['On Time', 'Delay']))"
   ]
  },
  {
   "cell_type": "code",
   "execution_count": 15,
   "id": "07222cbb",
   "metadata": {},
   "outputs": [
    {
     "name": "stdout",
     "output_type": "stream",
     "text": [
      "Mean Absolute Error: 0.28817661669827715\n",
      "Mean Squared Error: 0.28817661669827715\n",
      "Root Mean Squared Error: 0.5368208422726125\n"
     ]
    }
   ],
   "source": [
    "print('Mean Absolute Error:', mean_absolute_error(y_train, xgbc_pred_train))\n",
    "print('Mean Squared Error:', mean_squared_error(y_train, xgbc_pred_train))  \n",
    "print('Root Mean Squared Error:', np.sqrt(mean_squared_error(y_train, xgbc_pred_train)))"
   ]
  },
  {
   "cell_type": "markdown",
   "id": "6e11b3bd",
   "metadata": {},
   "source": [
    "##### Model Test"
   ]
  },
  {
   "cell_type": "code",
   "execution_count": 16,
   "id": "55c7ceff",
   "metadata": {},
   "outputs": [],
   "source": [
    "xgbc_pred_test = xgbc.predict(scaler_X_test)"
   ]
  },
  {
   "cell_type": "code",
   "execution_count": 17,
   "id": "4d05513f",
   "metadata": {},
   "outputs": [
    {
     "name": "stdout",
     "output_type": "stream",
     "text": [
      "              precision    recall  f1-score   support\n",
      "\n",
      "     On Time       0.58      0.16      0.25     13695\n",
      "       Delay       0.70      0.94      0.80     28310\n",
      "\n",
      "    accuracy                           0.69     42005\n",
      "   macro avg       0.64      0.55      0.53     42005\n",
      "weighted avg       0.66      0.69      0.62     42005\n",
      "\n"
     ]
    }
   ],
   "source": [
    "print(classification_report(y_test, xgbc_pred_test, target_names=['On Time', 'Delay']))"
   ]
  },
  {
   "cell_type": "code",
   "execution_count": 18,
   "id": "c906db04",
   "metadata": {},
   "outputs": [
    {
     "name": "stdout",
     "output_type": "stream",
     "text": [
      "Mean Absolute Error: 0.31234376859897633\n",
      "Mean Squared Error: 0.31234376859897633\n",
      "Root Mean Squared Error: 0.5588772392922943\n"
     ]
    }
   ],
   "source": [
    "print('Mean Absolute Error:', mean_absolute_error(y_test, xgbc_pred_test))\n",
    "print('Mean Squared Error:', mean_squared_error(y_test, xgbc_pred_test))  \n",
    "print('Root Mean Squared Error:', np.sqrt(mean_squared_error(y_test, xgbc_pred_test)))"
   ]
  },
  {
   "cell_type": "markdown",
   "id": "8aa6620c",
   "metadata": {},
   "source": [
    "##### Confusion Matrix"
   ]
  },
  {
   "cell_type": "code",
   "execution_count": 19,
   "id": "c9489f74",
   "metadata": {},
   "outputs": [
    {
     "data": {
      "text/plain": [
       "array([[ 2196, 11499],\n",
       "       [ 1621, 26689]], dtype=int64)"
      ]
     },
     "execution_count": 19,
     "metadata": {},
     "output_type": "execute_result"
    }
   ],
   "source": [
    "base_cnf_matrix = confusion_matrix(y_test, xgbc_pred_test)\n",
    "base_cnf_matrix"
   ]
  },
  {
   "cell_type": "code",
   "execution_count": 20,
   "id": "0041f7fb",
   "metadata": {},
   "outputs": [
    {
     "data": {
      "image/png": "[encoded data removed]",
      "text/plain": [
       "<Figure size 432x288 with 2 Axes>"
      ]
     },
     "metadata": {
      "needs_background": "light"
     },
     "output_type": "display_data"
    }
   ],
   "source": [
    "plot_confusion_matrix(xgbc, scaler_X_test, y_test,\n",
    "                      cmap=plt.cm.Greys)\n",
    "plt.show()"
   ]
  },
  {
   "cell_type": "markdown",
   "id": "bb357c25",
   "metadata": {},
   "source": [
    "#### Random Search"
   ]
  },
  {
   "cell_type": "code",
   "execution_count": 21,
   "id": "cf01d8d2",
   "metadata": {},
   "outputs": [],
   "source": [
    "xgb_param_grid={\n",
    "    'learning_rate': [0.1, 0.2, 0.3, 0.4],\n",
    "    'gamma': [0, 1, 2, 3],\n",
    "    'max_depth': [20,60],\n",
    "    'min_child_weight': [1, 2],\n",
    "    'subsample': [0.2, 0.5, 0.7, 0.9],\n",
    "}"
   ]
  },
  {
   "cell_type": "code",
   "execution_count": 22,
   "id": "ba72a174",
   "metadata": {},
   "outputs": [],
   "source": [
    "xgb_rand_search = RandomizedSearchCV(xgbc, xgb_param_grid)"
   ]
  },
  {
   "cell_type": "markdown",
   "id": "1a9981ed",
   "metadata": {},
   "source": [
    "##### Model Train"
   ]
  },
  {
   "cell_type": "code",
   "execution_count": 23,
   "id": "58ea6b53",
   "metadata": {},
   "outputs": [
    {
     "data": {
      "text/plain": [
       "RandomizedSearchCV(estimator=XGBClassifier(base_score=0.5, booster='gbtree',\n",
       "                                           colsample_bylevel=1,\n",
       "                                           colsample_bynode=1,\n",
       "                                           colsample_bytree=1,\n",
       "                                           eval_metric='logloss', gamma=0,\n",
       "                                           gpu_id=-1, importance_type='gain',\n",
       "                                           interaction_constraints='',\n",
       "                                           learning_rate=0.300000012,\n",
       "                                           max_delta_step=0, max_depth=6,\n",
       "                                           min_child_weight=1, missing=nan,\n",
       "                                           monotone_constraints='()',\n",
       "                                           n_estimators=100, n_jobs=4,\n",
       "                                           num_parallel_tree=1, random_state=0,\n",
       "                                           reg_alpha=0, reg_lambda=1,\n",
       "                                           scale_pos_weight=1, subsample=1,\n",
       "                                           tree_method='exact',\n",
       "                                           validate_parameters=1,\n",
       "                                           verbosity=None),\n",
       "                   param_distributions={'gamma': [0, 1, 2, 3],\n",
       "                                        'learning_rate': [0.1, 0.2, 0.3, 0.4],\n",
       "                                        'max_depth': [20, 60],\n",
       "                                        'min_child_weight': [1, 2],\n",
       "                                        'subsample': [0.2, 0.5, 0.7, 0.9]})"
      ]
     },
     "execution_count": 23,
     "metadata": {},
     "output_type": "execute_result"
    }
   ],
   "source": [
    "xgb_rand_search.fit(scaler_X_train, y_train)"
   ]
  },
  {
   "cell_type": "code",
   "execution_count": 24,
   "id": "fadef131",
   "metadata": {},
   "outputs": [],
   "source": [
    "xgb_rs_pred_train = xgb_rand_search.predict(scaler_X_train)"
   ]
  },
  {
   "cell_type": "code",
   "execution_count": 25,
   "id": "d4924da9",
   "metadata": {},
   "outputs": [
    {
     "name": "stdout",
     "output_type": "stream",
     "text": [
      "              precision    recall  f1-score   support\n",
      "\n",
      "     On Time       0.94      0.77      0.85     41471\n",
      "       Delay       0.89      0.98      0.93     84542\n",
      "\n",
      "    accuracy                           0.91    126013\n",
      "   macro avg       0.92      0.87      0.89    126013\n",
      "weighted avg       0.91      0.91      0.91    126013\n",
      "\n"
     ]
    }
   ],
   "source": [
    "print(classification_report(y_train, xgb_rs_pred_train, target_names=['On Time', 'Delay']))"
   ]
  },
  {
   "cell_type": "code",
   "execution_count": 26,
   "id": "f35a025b",
   "metadata": {},
   "outputs": [
    {
     "name": "stdout",
     "output_type": "stream",
     "text": [
      "Mean Absolute Error: 0.09218096545594502\n",
      "Mean Squared Error: 0.09218096545594502\n",
      "Root Mean Squared Error: 0.303613183929725\n"
     ]
    }
   ],
   "source": [
    "print('Mean Absolute Error:', mean_absolute_error(y_train, xgb_rs_pred_train))\n",
    "print('Mean Squared Error:', mean_squared_error(y_train, xgb_rs_pred_train))  \n",
    "print('Root Mean Squared Error:', np.sqrt(mean_squared_error(y_train, xgb_rs_pred_train)))"
   ]
  },
  {
   "cell_type": "markdown",
   "id": "1ee120c8",
   "metadata": {},
   "source": [
    "##### Model Test"
   ]
  },
  {
   "cell_type": "code",
   "execution_count": 27,
   "id": "335ae0a4",
   "metadata": {},
   "outputs": [],
   "source": [
    "xgb_rs_pred_test = xgb_rand_search.predict(scaler_X_test)"
   ]
  },
  {
   "cell_type": "code",
   "execution_count": 28,
   "id": "ad3f85b6",
   "metadata": {},
   "outputs": [
    {
     "name": "stdout",
     "output_type": "stream",
     "text": [
      "              precision    recall  f1-score   support\n",
      "\n",
      "     On Time       0.56      0.37      0.44     13695\n",
      "       Delay       0.74      0.86      0.79     28310\n",
      "\n",
      "    accuracy                           0.70     42005\n",
      "   macro avg       0.65      0.61      0.62     42005\n",
      "weighted avg       0.68      0.70      0.68     42005\n",
      "\n"
     ]
    }
   ],
   "source": [
    "print(classification_report(y_test, xgb_rs_pred_test, target_names=['On Time', 'Delay']))"
   ]
  },
  {
   "cell_type": "code",
   "execution_count": 29,
   "id": "377de604",
   "metadata": {},
   "outputs": [
    {
     "name": "stdout",
     "output_type": "stream",
     "text": [
      "Mean Absolute Error: 0.3020592786573027\n",
      "Mean Squared Error: 0.3020592786573027\n",
      "Root Mean Squared Error: 0.5495991981956512\n"
     ]
    }
   ],
   "source": [
    "print('Mean Absolute Error:', mean_absolute_error(y_test, xgb_rs_pred_test))\n",
    "print('Mean Squared Error:', mean_squared_error(y_test, xgb_rs_pred_test))  \n",
    "print('Root Mean Squared Error:', np.sqrt(mean_squared_error(y_test, xgb_rs_pred_test)))"
   ]
  },
  {
   "cell_type": "markdown",
   "id": "95333e55",
   "metadata": {},
   "source": [
    "##### Confusion Matrix"
   ]
  },
  {
   "cell_type": "code",
   "execution_count": 30,
   "id": "8dcb2130",
   "metadata": {},
   "outputs": [
    {
     "data": {
      "text/plain": [
       "array([[ 5062,  8633],\n",
       "       [ 4055, 24255]], dtype=int64)"
      ]
     },
     "execution_count": 30,
     "metadata": {},
     "output_type": "execute_result"
    }
   ],
   "source": [
    "cnf_matrix = confusion_matrix(y_test, xgb_rs_pred_test)\n",
    "cnf_matrix"
   ]
  },
  {
   "cell_type": "code",
   "execution_count": 31,
   "id": "7ebae52b",
   "metadata": {},
   "outputs": [
    {
     "data": {
      "image/png": "[encoded data removed]",
      "text/plain": [
       "<Figure size 432x288 with 2 Axes>"
      ]
     },
     "metadata": {
      "needs_background": "light"
     },
     "output_type": "display_data"
    }
   ],
   "source": [
    "plot_confusion_matrix(xgb_rand_search, scaler_X_test, y_test,\n",
    "                      cmap=plt.cm.Greys)\n",
    "plt.show()"
   ]
  },
  {
   "cell_type": "markdown",
   "id": "3ad8e0b3",
   "metadata": {},
   "source": [
    "#### SMOTE "
   ]
  },
  {
   "cell_type": "code",
   "execution_count": 32,
   "id": "8abe488e",
   "metadata": {},
   "outputs": [],
   "source": [
    "smote = SMOTE()"
   ]
  },
  {
   "cell_type": "markdown",
   "id": "f49f5bb2",
   "metadata": {},
   "source": [
    "##### Model Train"
   ]
  },
  {
   "cell_type": "code",
   "execution_count": 33,
   "id": "ffd2dfbc",
   "metadata": {},
   "outputs": [],
   "source": [
    "X_train_resampled, y_train_resampled = smote.fit_resample(scaler_X_train, y_train) "
   ]
  },
  {
   "cell_type": "code",
   "execution_count": 34,
   "id": "c761275e",
   "metadata": {},
   "outputs": [
    {
     "data": {
      "text/plain": [
       "RandomizedSearchCV(estimator=XGBClassifier(base_score=0.5, booster='gbtree',\n",
       "                                           colsample_bylevel=1,\n",
       "                                           colsample_bynode=1,\n",
       "                                           colsample_bytree=1,\n",
       "                                           eval_metric='logloss', gamma=0,\n",
       "                                           gpu_id=-1, importance_type='gain',\n",
       "                                           interaction_constraints='',\n",
       "                                           learning_rate=0.300000012,\n",
       "                                           max_delta_step=0, max_depth=6,\n",
       "                                           min_child_weight=1, missing=nan,\n",
       "                                           monotone_constraints='()',\n",
       "                                           n_estimators=100, n_jobs=4,\n",
       "                                           num_parallel_tree=1, random_state=0,\n",
       "                                           reg_alpha=0, reg_lambda=1,\n",
       "                                           scale_pos_weight=1, subsample=1,\n",
       "                                           tree_method='exact',\n",
       "                                           validate_parameters=1,\n",
       "                                           verbosity=None),\n",
       "                   param_distributions={'gamma': [0, 1, 2, 3],\n",
       "                                        'learning_rate': [0.1, 0.2, 0.3, 0.4],\n",
       "                                        'max_depth': [20, 60],\n",
       "                                        'min_child_weight': [1, 2],\n",
       "                                        'subsample': [0.2, 0.5, 0.7, 0.9]})"
      ]
     },
     "execution_count": 34,
     "metadata": {},
     "output_type": "execute_result"
    }
   ],
   "source": [
    "xgb_rand_search.fit(X_train_resampled, y_train_resampled)"
   ]
  },
  {
   "cell_type": "code",
   "execution_count": 35,
   "id": "1c951f02",
   "metadata": {},
   "outputs": [],
   "source": [
    "xgb_smote_pred_train = xgb_rand_search.predict(X_train_resampled)"
   ]
  },
  {
   "cell_type": "code",
   "execution_count": 36,
   "id": "25f7e963",
   "metadata": {},
   "outputs": [
    {
     "name": "stdout",
     "output_type": "stream",
     "text": [
      "              precision    recall  f1-score   support\n",
      "\n",
      "     On Time       0.99      0.96      0.97     84542\n",
      "       Delay       0.96      0.99      0.97     84542\n",
      "\n",
      "    accuracy                           0.97    169084\n",
      "   macro avg       0.97      0.97      0.97    169084\n",
      "weighted avg       0.97      0.97      0.97    169084\n",
      "\n"
     ]
    }
   ],
   "source": [
    "print(classification_report(y_train_resampled, xgb_smote_pred_train, target_names=['On Time', 'Delay']))"
   ]
  },
  {
   "cell_type": "code",
   "execution_count": 37,
   "id": "4744957a",
   "metadata": {},
   "outputs": [
    {
     "name": "stdout",
     "output_type": "stream",
     "text": [
      "Mean Absolute Error: 0.0260698824253034\n",
      "Mean Squared Error: 0.0260698824253034\n",
      "Root Mean Squared Error: 0.16146170575496654\n"
     ]
    }
   ],
   "source": [
    "print('Mean Absolute Error:', mean_absolute_error(y_train_resampled, xgb_smote_pred_train))\n",
    "print('Mean Squared Error:', mean_squared_error(y_train_resampled, xgb_smote_pred_train))  \n",
    "print('Root Mean Squared Error:', np.sqrt(mean_squared_error(y_train_resampled, xgb_smote_pred_train)))"
   ]
  },
  {
   "cell_type": "markdown",
   "id": "4ce74b48",
   "metadata": {},
   "source": [
    "##### Model Test"
   ]
  },
  {
   "cell_type": "code",
   "execution_count": 38,
   "id": "0c01ea8c",
   "metadata": {},
   "outputs": [],
   "source": [
    "X_test_resampled, y_test_resampled = smote.fit_resample(scaler_X_test, y_test) "
   ]
  },
  {
   "cell_type": "code",
   "execution_count": 39,
   "id": "242fd4f6",
   "metadata": {},
   "outputs": [],
   "source": [
    "xgb_smote_pred_test = xgb_rand_search.predict(X_test_resampled)"
   ]
  },
  {
   "cell_type": "code",
   "execution_count": 40,
   "id": "87da05e7",
   "metadata": {},
   "outputs": [
    {
     "name": "stdout",
     "output_type": "stream",
     "text": [
      "              precision    recall  f1-score   support\n",
      "\n",
      "     On Time       0.78      0.70      0.74     28310\n",
      "       Delay       0.73      0.81      0.77     28310\n",
      "\n",
      "    accuracy                           0.75     56620\n",
      "   macro avg       0.76      0.75      0.75     56620\n",
      "weighted avg       0.76      0.75      0.75     56620\n",
      "\n"
     ]
    }
   ],
   "source": [
    "print(classification_report(y_test_resampled, xgb_smote_pred_test, target_names=['On Time', 'Delay']))"
   ]
  },
  {
   "cell_type": "code",
   "execution_count": 41,
   "id": "4dda02a4",
   "metadata": {},
   "outputs": [
    {
     "name": "stdout",
     "output_type": "stream",
     "text": [
      "Mean Absolute Error: 0.24747439067467325\n",
      "Mean Squared Error: 0.24747439067467325\n",
      "Root Mean Squared Error: 0.49746797954709937\n"
     ]
    }
   ],
   "source": [
    "print('Mean Absolute Error:', mean_absolute_error(y_test_resampled, xgb_smote_pred_test))\n",
    "print('Mean Squared Error:', mean_squared_error(y_test_resampled, xgb_smote_pred_test))  \n",
    "print('Root Mean Squared Error:', np.sqrt(mean_squared_error(y_test_resampled, xgb_smote_pred_test)))"
   ]
  },
  {
   "cell_type": "markdown",
   "id": "35b9a14b",
   "metadata": {},
   "source": [
    "##### Confusion Matrix"
   ]
  },
  {
   "cell_type": "code",
   "execution_count": 42,
   "id": "f6a1b13e",
   "metadata": {},
   "outputs": [
    {
     "data": {
      "text/plain": [
       "array([[19793,  8517],\n",
       "       [ 5495, 22815]], dtype=int64)"
      ]
     },
     "execution_count": 42,
     "metadata": {},
     "output_type": "execute_result"
    }
   ],
   "source": [
    "cnf_matrix = confusion_matrix(y_test_resampled, xgb_smote_pred_test)\n",
    "cnf_matrix"
   ]
  },
  {
   "cell_type": "code",
   "execution_count": 43,
   "id": "f3508997",
   "metadata": {},
   "outputs": [
    {
     "data": {
      "image/png": "[encoded data removed]",
      "text/plain": [
       "<Figure size 432x288 with 2 Axes>"
      ]
     },
     "metadata": {
      "needs_background": "light"
     },
     "output_type": "display_data"
    }
   ],
   "source": [
    "plot_confusion_matrix(xgb_rand_search, X_test_resampled, y_test_resampled,\n",
    "                      cmap=plt.cm.Greys)\n",
    "plt.show()"
   ]
  },
  {
   "cell_type": "code",
   "execution_count": null,
   "id": "13132e3f",
   "metadata": {},
   "outputs": [],
   "source": []
  }
 ],
 "metadata": {
  "kernelspec": {
   "display_name": "Python 3",
   "language": "python",
   "name": "python3"
  },
  "language_info": {
   "codemirror_mode": {
    "name": "ipython",
    "version": 3
   },
   "file_extension": ".py",
   "mimetype": "text/x-python",
   "name": "python",
   "nbconvert_exporter": "python",
   "pygments_lexer": "ipython3",
   "version": "3.8.8"
  }
 },
 "nbformat": 4,
 "nbformat_minor": 5
}
