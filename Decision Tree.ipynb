{
 "cells": [
  {
   "cell_type": "markdown",
   "id": "9852a884",
   "metadata": {},
   "source": [
    "# Decision Tree Classifier"
   ]
  },
  {
   "cell_type": "markdown",
   "id": "0a6687ca",
   "metadata": {},
   "source": [
    "Decision Tree Classifier will use a feature's data to split the sample using Gini information gain to determine its path. Each split happens with different features until it reaches the stopping criteria. The model will then use the test sample to determine if the boolean training sample splits were correct. "
   ]
  },
  {
   "cell_type": "code",
   "execution_count": 1,
   "id": "93b139a1",
   "metadata": {},
   "outputs": [],
   "source": [
    "import pandas as pd\n",
    "import numpy as np\n",
    "import seaborn as sns\n",
    "import matplotlib.pyplot as plt\n",
    "from sklearn.model_selection import train_test_split\n",
    "from sklearn.preprocessing import StandardScaler\n",
    "from sklearn.tree import DecisionTreeClassifier, plot_tree\n",
    "from sklearn.metrics import classification_report\n",
    "from sklearn.metrics import mean_absolute_error, mean_squared_error\n",
    "from sklearn import tree\n",
    "from sklearn.metrics import accuracy_score, precision_score, recall_score, log_loss\n",
    "from sklearn.model_selection import RandomizedSearchCV\n",
    "from sklearn.metrics import confusion_matrix, plot_confusion_matrix\n",
    "from imblearn.over_sampling import SMOTE\n",
    "import warnings\n",
    "warnings.filterwarnings('ignore')"
   ]
  },
  {
   "cell_type": "code",
   "execution_count": 2,
   "id": "1e1889c1",
   "metadata": {},
   "outputs": [],
   "source": [
    "df = pd.read_csv('df_dummies.csv')"
   ]
  },
  {
   "cell_type": "code",
   "execution_count": 3,
   "id": "308f9759",
   "metadata": {},
   "outputs": [],
   "source": [
    "df= df.drop(columns=['Unnamed: 0'], axis=1)"
   ]
  },
  {
   "cell_type": "code",
   "execution_count": 4,
   "id": "afd3f2f4",
   "metadata": {
    "scrolled": false
   },
   "outputs": [
    {
     "name": "stdout",
     "output_type": "stream",
     "text": [
      "<class 'pandas.core.frame.DataFrame'>\n",
      "RangeIndex: 168018 entries, 0 to 168017\n",
      "Data columns (total 11 columns):\n",
      " #   Column      Non-Null Count   Dtype\n",
      "---  ------      --------------   -----\n",
      " 0   Month       168018 non-null  int64\n",
      " 1   DayofMonth  168018 non-null  int64\n",
      " 2   ArrTime     168018 non-null  int64\n",
      " 3   DepDelay    168018 non-null  int64\n",
      " 4   Distance    168018 non-null  int64\n",
      " 5   DayofWeek   168018 non-null  int64\n",
      " 6   Dest_ATL    168018 non-null  int64\n",
      " 7   Dest_DEN    168018 non-null  int64\n",
      " 8   Dest_DFW    168018 non-null  int64\n",
      " 9   Dest_LAX    168018 non-null  int64\n",
      " 10  Dest_ORD    168018 non-null  int64\n",
      "dtypes: int64(11)\n",
      "memory usage: 14.1 MB\n"
     ]
    }
   ],
   "source": [
    "df.info()"
   ]
  },
  {
   "cell_type": "code",
   "execution_count": 5,
   "id": "d3882083",
   "metadata": {},
   "outputs": [
    {
     "name": "stdout",
     "output_type": "stream",
     "text": [
      "Month\n",
      "6     19143\n",
      "1     17009\n",
      "3     16487\n",
      "2     16348\n",
      "7     15713\n",
      "5     14963\n",
      "12    14597\n",
      "4     14332\n",
      "8     13911\n",
      "9      9260\n",
      "10     8420\n",
      "11     7835\n",
      "Name: Month, dtype: int64\n",
      "\n",
      "DayofMonth\n",
      "7     6410\n",
      "22    6221\n",
      "21    5899\n",
      "1     5887\n",
      "19    5836\n",
      "14    5731\n",
      "2     5674\n",
      "15    5671\n",
      "8     5668\n",
      "11    5571\n",
      "3     5571\n",
      "9     5568\n",
      "27    5516\n",
      "17    5513\n",
      "20    5423\n",
      "18    5412\n",
      "25    5408\n",
      "24    5381\n",
      "26    5335\n",
      "28    5315\n",
      "16    5309\n",
      "29    5308\n",
      "12    5304\n",
      "13    5235\n",
      "5     5223\n",
      "6     5148\n",
      "10    5130\n",
      "4     5081\n",
      "23    5067\n",
      "30    5000\n",
      "31    3203\n",
      "Name: DayofMonth, dtype: int64\n",
      "\n",
      "ArrTime\n",
      "2019    322\n",
      "2036    303\n",
      "2052    303\n",
      "2012    302\n",
      "2027    299\n",
      "       ... \n",
      "429       1\n",
      "253       1\n",
      "407       1\n",
      "251       1\n",
      "240       1\n",
      "Name: ArrTime, Length: 1352, dtype: int64\n",
      "\n",
      "DepDelay\n",
      "1    112852\n",
      "0     55166\n",
      "Name: DepDelay, dtype: int64\n",
      "\n",
      "Distance\n",
      "802     5441\n",
      "1745    5198\n",
      "888     4412\n",
      "1235    3959\n",
      "641     3580\n",
      "        ... \n",
      "1014      10\n",
      "1081       8\n",
      "3414       7\n",
      "784        2\n",
      "373        2\n",
      "Name: Distance, Length: 329, dtype: int64\n",
      "\n",
      "DayofWeek\n",
      "5    27069\n",
      "1    25669\n",
      "7    24194\n",
      "4    23850\n",
      "3    23695\n",
      "2    23597\n",
      "6    19944\n",
      "Name: DayofWeek, dtype: int64\n",
      "\n",
      "Dest_ATL\n",
      "0    164399\n",
      "1      3619\n",
      "Name: Dest_ATL, dtype: int64\n",
      "\n",
      "Dest_DEN\n",
      "0    147607\n",
      "1     20411\n",
      "Name: Dest_DEN, dtype: int64\n",
      "\n",
      "Dest_DFW\n",
      "0    109941\n",
      "1     58077\n",
      "Name: Dest_DFW, dtype: int64\n",
      "\n",
      "Dest_LAX\n",
      "0    149613\n",
      "1     18405\n",
      "Name: Dest_LAX, dtype: int64\n",
      "\n",
      "Dest_ORD\n",
      "0    100512\n",
      "1     67506\n",
      "Name: Dest_ORD, dtype: int64\n",
      "\n"
     ]
    }
   ],
   "source": [
    "for col in df.columns:\n",
    "    print(col)\n",
    "    print(df[col].value_counts())\n",
    "    print()"
   ]
  },
  {
   "cell_type": "code",
   "execution_count": 6,
   "id": "2065eec3",
   "metadata": {},
   "outputs": [],
   "source": [
    "# set x and y\n",
    "X = df.drop(columns=['DepDelay'], axis=1)\n",
    "y= df['DepDelay']"
   ]
  },
  {
   "cell_type": "code",
   "execution_count": 7,
   "id": "158544f6",
   "metadata": {},
   "outputs": [],
   "source": [
    "#train test split: split train and test data into different randomly chosen samples\n",
    "X_train, X_test, y_train, y_test = train_test_split(X, y,test_size=.2, train_size=.8, random_state=42)"
   ]
  },
  {
   "cell_type": "code",
   "execution_count": 8,
   "id": "663ef067",
   "metadata": {},
   "outputs": [
    {
     "data": {
      "text/plain": [
       "StandardScaler()"
      ]
     },
     "execution_count": 8,
     "metadata": {},
     "output_type": "execute_result"
    }
   ],
   "source": [
    "#standard scaler\n",
    "scaler = StandardScaler()\n",
    "scaler.fit(X_train)"
   ]
  },
  {
   "cell_type": "code",
   "execution_count": 9,
   "id": "d3c8f889",
   "metadata": {},
   "outputs": [],
   "source": [
    "scaler_X_train = scaler.transform(X_train)\n",
    "scaler_X_test = scaler.transform(X_test)"
   ]
  },
  {
   "cell_type": "markdown",
   "id": "6c235340",
   "metadata": {},
   "source": [
    "### Baseline DTC "
   ]
  },
  {
   "cell_type": "code",
   "execution_count": 10,
   "id": "8df2930e",
   "metadata": {},
   "outputs": [
    {
     "data": {
      "text/plain": [
       "DecisionTreeClassifier()"
      ]
     },
     "execution_count": 10,
     "metadata": {},
     "output_type": "execute_result"
    }
   ],
   "source": [
    "dtc = DecisionTreeClassifier()\n",
    "dtc.fit(scaler_X_train, y_train)"
   ]
  },
  {
   "cell_type": "code",
   "execution_count": 11,
   "id": "e1e9826e",
   "metadata": {},
   "outputs": [],
   "source": [
    "df_col = list(df.columns)\n",
    "df_col.remove('DepDelay')"
   ]
  },
  {
   "cell_type": "markdown",
   "id": "dbf2e97f",
   "metadata": {},
   "source": [
    "##### Feature Importance "
   ]
  },
  {
   "cell_type": "code",
   "execution_count": 12,
   "id": "194d82c4",
   "metadata": {
    "scrolled": true
   },
   "outputs": [
    {
     "data": {
      "text/html": [
       "<div>\n",
       "<style scoped>\n",
       "    .dataframe tbody tr th:only-of-type {\n",
       "        vertical-align: middle;\n",
       "    }\n",
       "\n",
       "    .dataframe tbody tr th {\n",
       "        vertical-align: top;\n",
       "    }\n",
       "\n",
       "    .dataframe thead th {\n",
       "        text-align: right;\n",
       "    }\n",
       "</style>\n",
       "<table border=\"1\" class=\"dataframe\">\n",
       "  <thead>\n",
       "    <tr style=\"text-align: right;\">\n",
       "      <th></th>\n",
       "      <th>feature importance</th>\n",
       "    </tr>\n",
       "  </thead>\n",
       "  <tbody>\n",
       "    <tr>\n",
       "      <th>ArrTime</th>\n",
       "      <td>0.340883</td>\n",
       "    </tr>\n",
       "    <tr>\n",
       "      <th>Distance</th>\n",
       "      <td>0.223071</td>\n",
       "    </tr>\n",
       "    <tr>\n",
       "      <th>DayofMonth</th>\n",
       "      <td>0.180154</td>\n",
       "    </tr>\n",
       "    <tr>\n",
       "      <th>Month</th>\n",
       "      <td>0.126977</td>\n",
       "    </tr>\n",
       "    <tr>\n",
       "      <th>DayofWeek</th>\n",
       "      <td>0.103286</td>\n",
       "    </tr>\n",
       "    <tr>\n",
       "      <th>Dest_DEN</th>\n",
       "      <td>0.006767</td>\n",
       "    </tr>\n",
       "    <tr>\n",
       "      <th>Dest_DFW</th>\n",
       "      <td>0.006680</td>\n",
       "    </tr>\n",
       "    <tr>\n",
       "      <th>Dest_ORD</th>\n",
       "      <td>0.006584</td>\n",
       "    </tr>\n",
       "    <tr>\n",
       "      <th>Dest_LAX</th>\n",
       "      <td>0.003361</td>\n",
       "    </tr>\n",
       "    <tr>\n",
       "      <th>Dest_ATL</th>\n",
       "      <td>0.002237</td>\n",
       "    </tr>\n",
       "  </tbody>\n",
       "</table>\n",
       "</div>"
      ],
      "text/plain": [
       "            feature importance\n",
       "ArrTime               0.340883\n",
       "Distance              0.223071\n",
       "DayofMonth            0.180154\n",
       "Month                 0.126977\n",
       "DayofWeek             0.103286\n",
       "Dest_DEN              0.006767\n",
       "Dest_DFW              0.006680\n",
       "Dest_ORD              0.006584\n",
       "Dest_LAX              0.003361\n",
       "Dest_ATL              0.002237"
      ]
     },
     "execution_count": 12,
     "metadata": {},
     "output_type": "execute_result"
    }
   ],
   "source": [
    "df_feat = pd.DataFrame(dtc.feature_importances_, index=df_col, columns=['feature importance']).sort_values('feature importance', ascending=False)\n",
    "df_feat"
   ]
  },
  {
   "cell_type": "code",
   "execution_count": 13,
   "id": "29c3c8ec",
   "metadata": {},
   "outputs": [
    {
     "data": {
      "image/png": "[encoded data removed]",
      "text/plain": [
       "<Figure size 432x288 with 1 Axes>"
      ]
     },
     "metadata": {
      "needs_background": "light"
     },
     "output_type": "display_data"
    }
   ],
   "source": [
    "df_feat.plot(kind='bar');"
   ]
  },
  {
   "cell_type": "markdown",
   "id": "341a865f",
   "metadata": {},
   "source": [
    "##### Model Train"
   ]
  },
  {
   "cell_type": "code",
   "execution_count": 14,
   "id": "98acb70c",
   "metadata": {},
   "outputs": [],
   "source": [
    "dtc_pred_train = dtc.predict(scaler_X_train)"
   ]
  },
  {
   "cell_type": "markdown",
   "id": "5b6dc6d9",
   "metadata": {},
   "source": [
    "##### Model Test"
   ]
  },
  {
   "cell_type": "code",
   "execution_count": 15,
   "id": "c337c213",
   "metadata": {},
   "outputs": [],
   "source": [
    "dtc_pred_test = dtc.predict(scaler_X_test)"
   ]
  },
  {
   "cell_type": "code",
   "execution_count": 16,
   "id": "da3a25c5",
   "metadata": {},
   "outputs": [
    {
     "name": "stdout",
     "output_type": "stream",
     "text": [
      "              precision    recall  f1-score   support\n",
      "\n",
      "     On Time       0.44      0.46      0.45     10983\n",
      "       Delay       0.73      0.72      0.73     22621\n",
      "\n",
      "    accuracy                           0.63     33604\n",
      "   macro avg       0.59      0.59      0.59     33604\n",
      "weighted avg       0.64      0.63      0.64     33604\n",
      "\n"
     ]
    }
   ],
   "source": [
    "print(classification_report(y_test, dtc_pred_test, target_names=['On Time', 'Delay']))"
   ]
  },
  {
   "cell_type": "code",
   "execution_count": 17,
   "id": "c0272007",
   "metadata": {},
   "outputs": [
    {
     "name": "stdout",
     "output_type": "stream",
     "text": [
      "Mean Absolute Error: 0.3653731698607309\n",
      "Mean Squared Error: 0.3653731698607309\n",
      "Root Mean Squared Error: 0.6044610573566596\n"
     ]
    }
   ],
   "source": [
    "print('Mean Absolute Error:', mean_absolute_error(y_test, dtc_pred_test))\n",
    "print('Mean Squared Error:', mean_squared_error(y_test, dtc_pred_test))  \n",
    "print('Root Mean Squared Error:', np.sqrt(mean_squared_error(y_test, dtc_pred_test)))"
   ]
  },
  {
   "cell_type": "markdown",
   "id": "26c08734",
   "metadata": {},
   "source": [
    "##### Confusion Matrix"
   ]
  },
  {
   "cell_type": "code",
   "execution_count": 18,
   "id": "a723b627",
   "metadata": {},
   "outputs": [
    {
     "data": {
      "text/plain": [
       "array([[ 5026,  5957],\n",
       "       [ 6321, 16300]], dtype=int64)"
      ]
     },
     "execution_count": 18,
     "metadata": {},
     "output_type": "execute_result"
    }
   ],
   "source": [
    "base_cnf_matrix = confusion_matrix(y_test, dtc_pred_test)\n",
    "base_cnf_matrix"
   ]
  },
  {
   "cell_type": "code",
   "execution_count": 19,
   "id": "b7623121",
   "metadata": {
    "scrolled": true
   },
   "outputs": [
    {
     "data": {
      "image/png": "[encoded data removed]",
      "text/plain": [
       "<Figure size 432x288 with 2 Axes>"
      ]
     },
     "metadata": {
      "needs_background": "light"
     },
     "output_type": "display_data"
    }
   ],
   "source": [
    "plot_confusion_matrix(dtc, scaler_X_test, y_test,\n",
    "                      cmap=plt.cm.Reds)\n",
    "plt.show()"
   ]
  },
  {
   "cell_type": "markdown",
   "id": "ef1c77df",
   "metadata": {},
   "source": [
    "### Random Search"
   ]
  },
  {
   "cell_type": "markdown",
   "id": "d61f9131",
   "metadata": {},
   "source": [
    "Random Search will use all the combinations of hyperparameters to determine the best combination for the most accurate boolean sample splits."
   ]
  },
  {
   "cell_type": "code",
   "execution_count": 20,
   "id": "a2d7910c",
   "metadata": {},
   "outputs": [],
   "source": [
    "param_grid={\n",
    "    'criterion':['gini', 'entropy'],\n",
    "    'random_state': [1,20, 42, 100 ],\n",
    "    'max_depth':[5,10,20,30,40,50,60,70],\n",
    "    'min_samples_split':[5,10,20,25,30,40,50],\n",
    "    'min_samples_leaf':[1,100,200,300,400,500]\n",
    "            }"
   ]
  },
  {
   "cell_type": "code",
   "execution_count": 21,
   "id": "9973cdd7",
   "metadata": {},
   "outputs": [],
   "source": [
    "dtc_rand_search = RandomizedSearchCV(dtc, param_grid)"
   ]
  },
  {
   "cell_type": "markdown",
   "id": "319565e1",
   "metadata": {},
   "source": [
    "##### Model Train"
   ]
  },
  {
   "cell_type": "code",
   "execution_count": 22,
   "id": "77b2f207",
   "metadata": {
    "scrolled": true
   },
   "outputs": [
    {
     "data": {
      "text/plain": [
       "RandomizedSearchCV(estimator=DecisionTreeClassifier(),\n",
       "                   param_distributions={'criterion': ['gini', 'entropy'],\n",
       "                                        'max_depth': [5, 10, 20, 30, 40, 50, 60,\n",
       "                                                      70],\n",
       "                                        'min_samples_leaf': [1, 100, 200, 300,\n",
       "                                                             400, 500],\n",
       "                                        'min_samples_split': [5, 10, 20, 25, 30,\n",
       "                                                              40, 50],\n",
       "                                        'random_state': [1, 20, 42, 100]})"
      ]
     },
     "execution_count": 22,
     "metadata": {},
     "output_type": "execute_result"
    }
   ],
   "source": [
    "dtc_rand_search.fit(scaler_X_train, y_train)"
   ]
  },
  {
   "cell_type": "code",
   "execution_count": 23,
   "id": "e1f876db",
   "metadata": {},
   "outputs": [
    {
     "data": {
      "text/plain": [
       "{'random_state': 20,\n",
       " 'min_samples_split': 5,\n",
       " 'min_samples_leaf': 300,\n",
       " 'max_depth': 60,\n",
       " 'criterion': 'gini'}"
      ]
     },
     "execution_count": 23,
     "metadata": {},
     "output_type": "execute_result"
    }
   ],
   "source": [
    "dtc_rand_search.best_params_"
   ]
  },
  {
   "cell_type": "code",
   "execution_count": 24,
   "id": "093efcb6",
   "metadata": {},
   "outputs": [],
   "source": [
    "dtc_rs_pred_train = dtc_rand_search.predict(scaler_X_train)"
   ]
  },
  {
   "cell_type": "code",
   "execution_count": 25,
   "id": "2b23abba",
   "metadata": {},
   "outputs": [
    {
     "name": "stdout",
     "output_type": "stream",
     "text": [
      "              precision    recall  f1-score   support\n",
      "\n",
      "     On Time       0.57      0.13      0.22     44183\n",
      "       Delay       0.69      0.95      0.80     90231\n",
      "\n",
      "    accuracy                           0.68    134414\n",
      "   macro avg       0.63      0.54      0.51    134414\n",
      "weighted avg       0.65      0.68      0.61    134414\n",
      "\n"
     ]
    }
   ],
   "source": [
    "print(classification_report(y_train, dtc_rs_pred_train, target_names=['On Time', 'Delay']))"
   ]
  },
  {
   "cell_type": "code",
   "execution_count": 26,
   "id": "fec1273e",
   "metadata": {},
   "outputs": [
    {
     "name": "stdout",
     "output_type": "stream",
     "text": [
      "Mean Absolute Error: 0.3177124406683828\n",
      "Mean Squared Error: 0.3177124406683828\n",
      "Root Mean Squared Error: 0.5636598625664088\n"
     ]
    }
   ],
   "source": [
    "print('Mean Absolute Error:', mean_absolute_error(y_train, dtc_rs_pred_train))\n",
    "print('Mean Squared Error:', mean_squared_error(y_train, dtc_rs_pred_train))  \n",
    "print('Root Mean Squared Error:', np.sqrt(mean_squared_error(y_train, dtc_rs_pred_train)))"
   ]
  },
  {
   "cell_type": "markdown",
   "id": "752c6439",
   "metadata": {},
   "source": [
    "##### Model Test"
   ]
  },
  {
   "cell_type": "code",
   "execution_count": 27,
   "id": "5ce67f04",
   "metadata": {},
   "outputs": [],
   "source": [
    "dtc_rs_pred_test = dtc_rand_search.predict(scaler_X_test)"
   ]
  },
  {
   "cell_type": "code",
   "execution_count": 28,
   "id": "0fba7d09",
   "metadata": {},
   "outputs": [
    {
     "name": "stdout",
     "output_type": "stream",
     "text": [
      "              precision    recall  f1-score   support\n",
      "\n",
      "     On Time       0.54      0.13      0.21     10983\n",
      "       Delay       0.69      0.95      0.80     22621\n",
      "\n",
      "    accuracy                           0.68     33604\n",
      "   macro avg       0.61      0.54      0.50     33604\n",
      "weighted avg       0.64      0.68      0.61     33604\n",
      "\n"
     ]
    }
   ],
   "source": [
    "print(classification_report(y_test, dtc_rs_pred_test, target_names=['On Time', 'Delay']))"
   ]
  },
  {
   "cell_type": "code",
   "execution_count": 29,
   "id": "6ef51515",
   "metadata": {},
   "outputs": [
    {
     "name": "stdout",
     "output_type": "stream",
     "text": [
      "Mean Absolute Error: 0.32115224378050233\n",
      "Mean Squared Error: 0.32115224378050233\n",
      "Root Mean Squared Error: 0.5667029590363035\n"
     ]
    }
   ],
   "source": [
    "print('Mean Absolute Error:', mean_absolute_error(y_test, dtc_rs_pred_test))\n",
    "print('Mean Squared Error:', mean_squared_error(y_test, dtc_rs_pred_test))  \n",
    "print('Root Mean Squared Error:', np.sqrt(mean_squared_error(y_test, dtc_rs_pred_test)))"
   ]
  },
  {
   "cell_type": "markdown",
   "id": "7d322a49",
   "metadata": {},
   "source": [
    "##### Confusion Matrix"
   ]
  },
  {
   "cell_type": "code",
   "execution_count": 30,
   "id": "f92a5aea",
   "metadata": {},
   "outputs": [
    {
     "data": {
      "text/plain": [
       "array([[ 1413,  9570],\n",
       "       [ 1222, 21399]], dtype=int64)"
      ]
     },
     "execution_count": 30,
     "metadata": {},
     "output_type": "execute_result"
    }
   ],
   "source": [
    "cnf_matrix = confusion_matrix(y_test, dtc_rs_pred_test)\n",
    "cnf_matrix"
   ]
  },
  {
   "cell_type": "code",
   "execution_count": 31,
   "id": "f457fcc0",
   "metadata": {},
   "outputs": [
    {
     "data": {
      "image/png": "[encoded data removed]",
      "text/plain": [
       "<Figure size 432x288 with 2 Axes>"
      ]
     },
     "metadata": {
      "needs_background": "light"
     },
     "output_type": "display_data"
    }
   ],
   "source": [
    "plot_confusion_matrix(dtc_rand_search, scaler_X_test, y_test,\n",
    "                      cmap=plt.cm.Reds)\n",
    "plt.show()"
   ]
  },
  {
   "cell_type": "markdown",
   "id": "ddf40d47",
   "metadata": {},
   "source": [
    "### Smote "
   ]
  },
  {
   "cell_type": "code",
   "execution_count": 32,
   "id": "cc5c2528",
   "metadata": {},
   "outputs": [
    {
     "data": {
      "text/plain": [
       "1    112852\n",
       "0     55166\n",
       "Name: DepDelay, dtype: int64"
      ]
     },
     "execution_count": 32,
     "metadata": {},
     "output_type": "execute_result"
    }
   ],
   "source": [
    "# 0: On Time, 1: Delay\n",
    "df['DepDelay'].value_counts()"
   ]
  },
  {
   "cell_type": "markdown",
   "id": "7e4410af",
   "metadata": {},
   "source": [
    "There is a large difference between the data's On Time and Delay classifications, so upsampling with SMOTE may help my model train better. "
   ]
  },
  {
   "cell_type": "code",
   "execution_count": 33,
   "id": "adeb2019",
   "metadata": {},
   "outputs": [],
   "source": [
    "smote = SMOTE()"
   ]
  },
  {
   "cell_type": "markdown",
   "id": "0e242cb1",
   "metadata": {},
   "source": [
    "##### Model Train"
   ]
  },
  {
   "cell_type": "code",
   "execution_count": 34,
   "id": "17342ee0",
   "metadata": {},
   "outputs": [],
   "source": [
    "X_train_resampled, y_train_resampled = smote.fit_resample(scaler_X_train, y_train) "
   ]
  },
  {
   "cell_type": "code",
   "execution_count": 35,
   "id": "5a544744",
   "metadata": {},
   "outputs": [
    {
     "data": {
      "text/plain": [
       "RandomizedSearchCV(estimator=DecisionTreeClassifier(),\n",
       "                   param_distributions={'criterion': ['gini', 'entropy'],\n",
       "                                        'max_depth': [5, 10, 20, 30, 40, 50, 60,\n",
       "                                                      70],\n",
       "                                        'min_samples_leaf': [1, 100, 200, 300,\n",
       "                                                             400, 500],\n",
       "                                        'min_samples_split': [5, 10, 20, 25, 30,\n",
       "                                                              40, 50],\n",
       "                                        'random_state': [1, 20, 42, 100]})"
      ]
     },
     "execution_count": 35,
     "metadata": {},
     "output_type": "execute_result"
    }
   ],
   "source": [
    "dtc_rand_search.fit(X_train_resampled, y_train_resampled)"
   ]
  },
  {
   "cell_type": "code",
   "execution_count": 36,
   "id": "4d68f2e9",
   "metadata": {},
   "outputs": [],
   "source": [
    "dtc_smote_pred_train = dtc_rand_search.predict(X_train_resampled)"
   ]
  },
  {
   "cell_type": "code",
   "execution_count": 37,
   "id": "0c6d146e",
   "metadata": {},
   "outputs": [
    {
     "name": "stdout",
     "output_type": "stream",
     "text": [
      "              precision    recall  f1-score   support\n",
      "\n",
      "     On Time       0.94      0.97      0.96     90231\n",
      "       Delay       0.97      0.94      0.96     90231\n",
      "\n",
      "    accuracy                           0.96    180462\n",
      "   macro avg       0.96      0.96      0.96    180462\n",
      "weighted avg       0.96      0.96      0.96    180462\n",
      "\n"
     ]
    }
   ],
   "source": [
    "print(classification_report(y_train_resampled, dtc_smote_pred_train, target_names=['On Time', 'Delay']))"
   ]
  },
  {
   "cell_type": "code",
   "execution_count": 38,
   "id": "306f573a",
   "metadata": {},
   "outputs": [
    {
     "name": "stdout",
     "output_type": "stream",
     "text": [
      "Mean Absolute Error: 0.04399264111003979\n",
      "Mean Squared Error: 0.04399264111003979\n",
      "Root Mean Squared Error: 0.20974422783485555\n"
     ]
    }
   ],
   "source": [
    "print('Mean Absolute Error:', mean_absolute_error(y_train_resampled, dtc_smote_pred_train))\n",
    "print('Mean Squared Error:', mean_squared_error(y_train_resampled, dtc_smote_pred_train))  \n",
    "print('Root Mean Squared Error:', np.sqrt(mean_squared_error(y_train_resampled, dtc_smote_pred_train)))"
   ]
  },
  {
   "cell_type": "markdown",
   "id": "ec3dbe8f",
   "metadata": {},
   "source": [
    "##### Model Test"
   ]
  },
  {
   "cell_type": "code",
   "execution_count": 39,
   "id": "3ac7f356",
   "metadata": {},
   "outputs": [],
   "source": [
    "X_test_resampled, y_test_resampled = smote.fit_resample(scaler_X_test, y_test) "
   ]
  },
  {
   "cell_type": "code",
   "execution_count": 40,
   "id": "83603c8c",
   "metadata": {},
   "outputs": [],
   "source": [
    "dtc_smote_pred_test = dtc_rand_search.predict(X_test_resampled)"
   ]
  },
  {
   "cell_type": "code",
   "execution_count": 41,
   "id": "01250be7",
   "metadata": {},
   "outputs": [
    {
     "name": "stdout",
     "output_type": "stream",
     "text": [
      "              precision    recall  f1-score   support\n",
      "\n",
      "     On Time       0.65      0.63      0.64     22621\n",
      "       Delay       0.64      0.66      0.65     22621\n",
      "\n",
      "    accuracy                           0.65     45242\n",
      "   macro avg       0.65      0.65      0.65     45242\n",
      "weighted avg       0.65      0.65      0.65     45242\n",
      "\n"
     ]
    }
   ],
   "source": [
    "print(classification_report(y_test_resampled, dtc_smote_pred_test, target_names=['On Time', 'Delay']))"
   ]
  },
  {
   "cell_type": "code",
   "execution_count": 42,
   "id": "42e0ae0b",
   "metadata": {},
   "outputs": [
    {
     "name": "stdout",
     "output_type": "stream",
     "text": [
      "Mean Absolute Error: 0.35124441890278946\n",
      "Mean Squared Error: 0.35124441890278946\n",
      "Root Mean Squared Error: 0.5926587710502473\n"
     ]
    }
   ],
   "source": [
    "print('Mean Absolute Error:', mean_absolute_error(y_test_resampled, dtc_smote_pred_test))\n",
    "print('Mean Squared Error:', mean_squared_error(y_test_resampled, dtc_smote_pred_test))  \n",
    "print('Root Mean Squared Error:', np.sqrt(mean_squared_error(y_test_resampled, dtc_smote_pred_test)))"
   ]
  },
  {
   "cell_type": "markdown",
   "id": "04e9e090",
   "metadata": {},
   "source": [
    "##### Confusion Matrix"
   ]
  },
  {
   "cell_type": "code",
   "execution_count": 43,
   "id": "277c87e9",
   "metadata": {},
   "outputs": [
    {
     "data": {
      "text/plain": [
       "array([[14359,  8262],\n",
       "       [ 7629, 14992]], dtype=int64)"
      ]
     },
     "execution_count": 43,
     "metadata": {},
     "output_type": "execute_result"
    }
   ],
   "source": [
    "cnf_matrix = confusion_matrix(y_test_resampled, dtc_smote_pred_test)\n",
    "cnf_matrix"
   ]
  },
  {
   "cell_type": "code",
   "execution_count": 44,
   "id": "0d1d551a",
   "metadata": {},
   "outputs": [
    {
     "data": {
      "image/png": "[encoded data removed]",
      "text/plain": [
       "<Figure size 432x288 with 2 Axes>"
      ]
     },
     "metadata": {
      "needs_background": "light"
     },
     "output_type": "display_data"
    }
   ],
   "source": [
    "plot_confusion_matrix(dtc_rand_search, X_test_resampled, y_test_resampled,\n",
    "                      cmap=plt.cm.Reds)\n",
    "plt.show()"
   ]
  }
 ],
 "metadata": {
  "kernelspec": {
   "display_name": "Python 3",
   "language": "python",
   "name": "python3"
  },
  "language_info": {
   "codemirror_mode": {
    "name": "ipython",
    "version": 3
   },
   "file_extension": ".py",
   "mimetype": "text/x-python",
   "name": "python",
   "nbconvert_exporter": "python",
   "pygments_lexer": "ipython3",
   "version": "3.8.8"
  }
 },
 "nbformat": 4,
 "nbformat_minor": 5
}
