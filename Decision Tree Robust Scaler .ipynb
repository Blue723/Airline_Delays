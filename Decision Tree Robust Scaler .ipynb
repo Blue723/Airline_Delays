{
 "cells": [
  {
   "cell_type": "markdown",
   "id": "a78d5ecf",
   "metadata": {},
   "source": [
    "## Robust Scaler Decision Tree Classifier"
   ]
  },
  {
   "cell_type": "markdown",
   "id": "e8bfdc70",
   "metadata": {},
   "source": [
    "The notebook is iedntical to the other Decision Tree Tlassifier except the Robuts Scaler."
   ]
  },
  {
   "cell_type": "code",
   "execution_count": 1,
   "id": "93b139a1",
   "metadata": {},
   "outputs": [],
   "source": [
    "import pandas as pd\n",
    "import numpy as np\n",
    "import seaborn as sns\n",
    "import matplotlib.pyplot as plt\n",
    "from sklearn.model_selection import train_test_split\n",
    "from sklearn.preprocessing import RobustScaler\n",
    "from sklearn.linear_model import Lasso, Ridge\n",
    "from sklearn.tree import DecisionTreeClassifier, plot_tree\n",
    "from sklearn.metrics import classification_report\n",
    "from sklearn.metrics import mean_absolute_error, mean_squared_error\n",
    "from sklearn import tree\n",
    "from sklearn.metrics import accuracy_score, precision_score, recall_score, log_loss\n",
    "from sklearn.model_selection import RandomizedSearchCV\n",
    "from sklearn.metrics import confusion_matrix, plot_confusion_matrix\n",
    "from imblearn.over_sampling import SMOTE\n",
    "import warnings\n",
    "warnings.filterwarnings('ignore')"
   ]
  },
  {
   "cell_type": "code",
   "execution_count": 2,
   "id": "1e1889c1",
   "metadata": {},
   "outputs": [],
   "source": [
    "df = pd.read_csv('df_dummies.csv')"
   ]
  },
  {
   "cell_type": "code",
   "execution_count": 3,
   "id": "308f9759",
   "metadata": {},
   "outputs": [],
   "source": [
    "df= df.drop(columns=['Unnamed: 0'], axis=1)"
   ]
  },
  {
   "cell_type": "code",
   "execution_count": 4,
   "id": "afd3f2f4",
   "metadata": {
    "scrolled": false
   },
   "outputs": [
    {
     "name": "stdout",
     "output_type": "stream",
     "text": [
      "<class 'pandas.core.frame.DataFrame'>\n",
      "RangeIndex: 168018 entries, 0 to 168017\n",
      "Data columns (total 11 columns):\n",
      " #   Column      Non-Null Count   Dtype\n",
      "---  ------      --------------   -----\n",
      " 0   Month       168018 non-null  int64\n",
      " 1   DayofMonth  168018 non-null  int64\n",
      " 2   ArrTime     168018 non-null  int64\n",
      " 3   DepDelay    168018 non-null  int64\n",
      " 4   Distance    168018 non-null  int64\n",
      " 5   DayofWeek   168018 non-null  int64\n",
      " 6   Dest_ATL    168018 non-null  int64\n",
      " 7   Dest_DEN    168018 non-null  int64\n",
      " 8   Dest_DFW    168018 non-null  int64\n",
      " 9   Dest_LAX    168018 non-null  int64\n",
      " 10  Dest_ORD    168018 non-null  int64\n",
      "dtypes: int64(11)\n",
      "memory usage: 14.1 MB\n"
     ]
    }
   ],
   "source": [
    "df.info()"
   ]
  },
  {
   "cell_type": "code",
   "execution_count": 1,
   "id": "d3882083",
   "metadata": {},
   "outputs": [
    {
     "ename": "NameError",
     "evalue": "name 'df' is not defined",
     "output_type": "error",
     "traceback": [
      "\u001b[1;31m---------------------------------------------------------------------------\u001b[0m",
      "\u001b[1;31mNameError\u001b[0m                                 Traceback (most recent call last)",
      "\u001b[1;32m<ipython-input-1-00ad670e350b>\u001b[0m in \u001b[0;36m<module>\u001b[1;34m\u001b[0m\n\u001b[0;32m      1\u001b[0m \u001b[1;31m# value counts for each feature\u001b[0m\u001b[1;33m\u001b[0m\u001b[1;33m\u001b[0m\u001b[1;33m\u001b[0m\u001b[0m\n\u001b[1;32m----> 2\u001b[1;33m \u001b[1;32mfor\u001b[0m \u001b[0mcol\u001b[0m \u001b[1;32min\u001b[0m \u001b[0mdf\u001b[0m\u001b[1;33m.\u001b[0m\u001b[0mcolumns\u001b[0m\u001b[1;33m:\u001b[0m\u001b[1;33m\u001b[0m\u001b[1;33m\u001b[0m\u001b[0m\n\u001b[0m\u001b[0;32m      3\u001b[0m     \u001b[0mprint\u001b[0m\u001b[1;33m(\u001b[0m\u001b[0mcol\u001b[0m\u001b[1;33m)\u001b[0m\u001b[1;33m\u001b[0m\u001b[1;33m\u001b[0m\u001b[0m\n\u001b[0;32m      4\u001b[0m     \u001b[0mprint\u001b[0m\u001b[1;33m(\u001b[0m\u001b[0mdf\u001b[0m\u001b[1;33m[\u001b[0m\u001b[0mcol\u001b[0m\u001b[1;33m]\u001b[0m\u001b[1;33m.\u001b[0m\u001b[0mvalue_counts\u001b[0m\u001b[1;33m(\u001b[0m\u001b[1;33m)\u001b[0m\u001b[1;33m)\u001b[0m\u001b[1;33m\u001b[0m\u001b[1;33m\u001b[0m\u001b[0m\n\u001b[0;32m      5\u001b[0m     \u001b[0mprint\u001b[0m\u001b[1;33m(\u001b[0m\u001b[1;33m)\u001b[0m\u001b[1;33m\u001b[0m\u001b[1;33m\u001b[0m\u001b[0m\n",
      "\u001b[1;31mNameError\u001b[0m: name 'df' is not defined"
     ]
    }
   ],
   "source": [
    "# value counts for each feature\n",
    "for col in df.columns:\n",
    "    print(col)\n",
    "    print(df[col].value_counts())\n",
    "    print()"
   ]
  },
  {
   "cell_type": "code",
   "execution_count": 6,
   "id": "2065eec3",
   "metadata": {},
   "outputs": [],
   "source": [
    "# set x and y\n",
    "X = df.drop(columns=['DepDelay'], axis=1)\n",
    "y= df['DepDelay']"
   ]
  },
  {
   "cell_type": "code",
   "execution_count": 7,
   "id": "158544f6",
   "metadata": {},
   "outputs": [],
   "source": [
    "#train test split\n",
    "X_train, X_test, y_train, y_test = train_test_split(X, y,test_size=.2, train_size=.8, random_state=42)"
   ]
  },
  {
   "cell_type": "code",
   "execution_count": 8,
   "id": "6a98b629",
   "metadata": {},
   "outputs": [
    {
     "data": {
      "text/plain": [
       "Lasso()"
      ]
     },
     "execution_count": 8,
     "metadata": {},
     "output_type": "execute_result"
    }
   ],
   "source": [
    "#lasso for fun\n",
    "# LASSO: sum of actual minus predicted squared plus\n",
    "#takes absolute value of the  weighted feature with a lambda penalty. \n",
    "lasso = Lasso()\n",
    "lasso.fit(X_train, y_train)"
   ]
  },
  {
   "cell_type": "code",
   "execution_count": 9,
   "id": "cbef6328",
   "metadata": {},
   "outputs": [
    {
     "name": "stdout",
     "output_type": "stream",
     "text": [
      "Training r^2: 0.012976426265727037\n",
      "Test r^2: 0.011371839624029656\n",
      "Training MSE: 0.21779579272532543\n",
      "Test MSE: 0.21751229371306033\n"
     ]
    }
   ],
   "source": [
    "print('Training r^2:', lasso.score(X_train, y_train))\n",
    "print('Test r^2:', lasso.score(X_test, y_test))\n",
    "print('Training MSE:', mean_squared_error(y_train, lasso.predict(X_train)))\n",
    "print('Test MSE:', mean_squared_error(y_test, lasso.predict(X_test)))"
   ]
  },
  {
   "cell_type": "code",
   "execution_count": 10,
   "id": "e72732b8",
   "metadata": {},
   "outputs": [
    {
     "data": {
      "text/plain": [
       "Ridge()"
      ]
     },
     "execution_count": 10,
     "metadata": {},
     "output_type": "execute_result"
    }
   ],
   "source": [
    "#ridge for fun\n",
    "#RIDGE: sum of actual minus predicted squared plus\n",
    "#squares weighted feature with lambda penalty. \n",
    "ridge = Ridge()\n",
    "ridge.fit(X_train, y_train)"
   ]
  },
  {
   "cell_type": "code",
   "execution_count": 11,
   "id": "e2c65dd3",
   "metadata": {},
   "outputs": [
    {
     "name": "stdout",
     "output_type": "stream",
     "text": [
      "Training r^2: 0.01862462313268476\n",
      "Test r^2: 0.018814315126704617\n",
      "Training MSE: 0.21654946634889083\n",
      "Test MSE: 0.21587484296830867\n"
     ]
    }
   ],
   "source": [
    "print('Training r^2:', ridge.score(X_train, y_train))\n",
    "print('Test r^2:', ridge.score(X_test, y_test))\n",
    "print('Training MSE:', mean_squared_error(y_train, ridge.predict(X_train)))\n",
    "print('Test MSE:', mean_squared_error(y_test, ridge.predict(X_test)))"
   ]
  },
  {
   "cell_type": "code",
   "execution_count": 12,
   "id": "663ef067",
   "metadata": {},
   "outputs": [
    {
     "data": {
      "text/plain": [
       "RobustScaler()"
      ]
     },
     "execution_count": 12,
     "metadata": {},
     "output_type": "execute_result"
    }
   ],
   "source": [
    "#using robust scaler since data is usually has skew\n",
    "robust_scaler = RobustScaler()\n",
    "robust_scaler.fit(X_train)"
   ]
  },
  {
   "cell_type": "code",
   "execution_count": 13,
   "id": "d3c8f889",
   "metadata": {},
   "outputs": [],
   "source": [
    "scaler_X_train = robust_scaler.transform(X_train)\n",
    "scaler_X_test = robust_scaler.transform(X_test)"
   ]
  },
  {
   "cell_type": "markdown",
   "id": "6c235340",
   "metadata": {},
   "source": [
    "### Baseline DTC "
   ]
  },
  {
   "cell_type": "code",
   "execution_count": 14,
   "id": "8df2930e",
   "metadata": {},
   "outputs": [
    {
     "data": {
      "text/plain": [
       "DecisionTreeClassifier()"
      ]
     },
     "execution_count": 14,
     "metadata": {},
     "output_type": "execute_result"
    }
   ],
   "source": [
    "#decision tree classifier\n",
    "dtc = DecisionTreeClassifier()\n",
    "dtc.fit(scaler_X_train, y_train)"
   ]
  },
  {
   "cell_type": "code",
   "execution_count": 15,
   "id": "e1e9826e",
   "metadata": {},
   "outputs": [],
   "source": [
    "df_col = list(df.columns)\n",
    "df_col.remove('DepDelay')"
   ]
  },
  {
   "cell_type": "markdown",
   "id": "dbf2e97f",
   "metadata": {},
   "source": [
    "##### Feature Importance "
   ]
  },
  {
   "cell_type": "code",
   "execution_count": 16,
   "id": "194d82c4",
   "metadata": {
    "scrolled": true
   },
   "outputs": [
    {
     "data": {
      "text/html": [
       "<div>\n",
       "<style scoped>\n",
       "    .dataframe tbody tr th:only-of-type {\n",
       "        vertical-align: middle;\n",
       "    }\n",
       "\n",
       "    .dataframe tbody tr th {\n",
       "        vertical-align: top;\n",
       "    }\n",
       "\n",
       "    .dataframe thead th {\n",
       "        text-align: right;\n",
       "    }\n",
       "</style>\n",
       "<table border=\"1\" class=\"dataframe\">\n",
       "  <thead>\n",
       "    <tr style=\"text-align: right;\">\n",
       "      <th></th>\n",
       "      <th>feature importance</th>\n",
       "    </tr>\n",
       "  </thead>\n",
       "  <tbody>\n",
       "    <tr>\n",
       "      <th>ArrTime</th>\n",
       "      <td>0.340217</td>\n",
       "    </tr>\n",
       "    <tr>\n",
       "      <th>Distance</th>\n",
       "      <td>0.223944</td>\n",
       "    </tr>\n",
       "    <tr>\n",
       "      <th>DayofMonth</th>\n",
       "      <td>0.181197</td>\n",
       "    </tr>\n",
       "    <tr>\n",
       "      <th>Month</th>\n",
       "      <td>0.125923</td>\n",
       "    </tr>\n",
       "    <tr>\n",
       "      <th>DayofWeek</th>\n",
       "      <td>0.103402</td>\n",
       "    </tr>\n",
       "    <tr>\n",
       "      <th>Dest_DFW</th>\n",
       "      <td>0.006642</td>\n",
       "    </tr>\n",
       "    <tr>\n",
       "      <th>Dest_ORD</th>\n",
       "      <td>0.006586</td>\n",
       "    </tr>\n",
       "    <tr>\n",
       "      <th>Dest_DEN</th>\n",
       "      <td>0.006548</td>\n",
       "    </tr>\n",
       "    <tr>\n",
       "      <th>Dest_LAX</th>\n",
       "      <td>0.003621</td>\n",
       "    </tr>\n",
       "    <tr>\n",
       "      <th>Dest_ATL</th>\n",
       "      <td>0.001922</td>\n",
       "    </tr>\n",
       "  </tbody>\n",
       "</table>\n",
       "</div>"
      ],
      "text/plain": [
       "            feature importance\n",
       "ArrTime               0.340217\n",
       "Distance              0.223944\n",
       "DayofMonth            0.181197\n",
       "Month                 0.125923\n",
       "DayofWeek             0.103402\n",
       "Dest_DFW              0.006642\n",
       "Dest_ORD              0.006586\n",
       "Dest_DEN              0.006548\n",
       "Dest_LAX              0.003621\n",
       "Dest_ATL              0.001922"
      ]
     },
     "execution_count": 16,
     "metadata": {},
     "output_type": "execute_result"
    }
   ],
   "source": [
    "#features are wegithed the same as standard scaler\n",
    "df_feat = pd.DataFrame(dtc.feature_importances_, index=df_col, columns=['feature importance']).sort_values('feature importance', ascending=False)\n",
    "df_feat"
   ]
  },
  {
   "cell_type": "code",
   "execution_count": 17,
   "id": "29c3c8ec",
   "metadata": {},
   "outputs": [
    {
     "data": {
      "image/png": "[encoded data removed]",
      "text/plain": [
       "<Figure size 432x288 with 1 Axes>"
      ]
     },
     "metadata": {
      "needs_background": "light"
     },
     "output_type": "display_data"
    }
   ],
   "source": [
    "df_feat.plot(kind='bar');"
   ]
  },
  {
   "cell_type": "markdown",
   "id": "341a865f",
   "metadata": {},
   "source": [
    "##### Model Train"
   ]
  },
  {
   "cell_type": "code",
   "execution_count": 18,
   "id": "98acb70c",
   "metadata": {},
   "outputs": [],
   "source": [
    "dtc_pred_train = dtc.predict(scaler_X_train)"
   ]
  },
  {
   "cell_type": "code",
   "execution_count": 19,
   "id": "fd1ab1d3",
   "metadata": {},
   "outputs": [
    {
     "name": "stdout",
     "output_type": "stream",
     "text": [
      "              precision    recall  f1-score   support\n",
      "\n",
      "     On Time       1.00      1.00      1.00     44183\n",
      "       Delay       1.00      1.00      1.00     90231\n",
      "\n",
      "    accuracy                           1.00    134414\n",
      "   macro avg       1.00      1.00      1.00    134414\n",
      "weighted avg       1.00      1.00      1.00    134414\n",
      "\n"
     ]
    }
   ],
   "source": [
    "print(classification_report(y_train, dtc_pred_train, target_names=['On Time', 'Delay']))"
   ]
  },
  {
   "cell_type": "code",
   "execution_count": 20,
   "id": "39833402",
   "metadata": {},
   "outputs": [
    {
     "name": "stdout",
     "output_type": "stream",
     "text": [
      "Mean Absolute Error: 0.0002380704390911661\n",
      "Mean Squared Error: 0.0002380704390911661\n",
      "Root Mean Squared Error: 0.015429531395708882\n"
     ]
    }
   ],
   "source": [
    "print('Mean Absolute Error:', mean_absolute_error(y_train, dtc_pred_train))\n",
    "print('Mean Squared Error:', mean_squared_error(y_train, dtc_pred_train))  \n",
    "print('Root Mean Squared Error:', np.sqrt(mean_squared_error(y_train, dtc_pred_train)))"
   ]
  },
  {
   "cell_type": "markdown",
   "id": "5b6dc6d9",
   "metadata": {},
   "source": [
    "##### Model Test"
   ]
  },
  {
   "cell_type": "code",
   "execution_count": 21,
   "id": "c337c213",
   "metadata": {},
   "outputs": [],
   "source": [
    "dtc_pred_test = dtc.predict(scaler_X_test)"
   ]
  },
  {
   "cell_type": "code",
   "execution_count": 22,
   "id": "da3a25c5",
   "metadata": {},
   "outputs": [
    {
     "name": "stdout",
     "output_type": "stream",
     "text": [
      "              precision    recall  f1-score   support\n",
      "\n",
      "     On Time       0.44      0.46      0.45     10983\n",
      "       Delay       0.73      0.72      0.72     22621\n",
      "\n",
      "    accuracy                           0.63     33604\n",
      "   macro avg       0.59      0.59      0.59     33604\n",
      "weighted avg       0.64      0.63      0.63     33604\n",
      "\n"
     ]
    }
   ],
   "source": [
    "#no change in outcome with robust scaler\n",
    "print(classification_report(y_test, dtc_pred_test, target_names=['On Time', 'Delay']))"
   ]
  },
  {
   "cell_type": "code",
   "execution_count": 23,
   "id": "c0272007",
   "metadata": {},
   "outputs": [
    {
     "name": "stdout",
     "output_type": "stream",
     "text": [
      "Mean Absolute Error: 0.3670991548625164\n",
      "Mean Squared Error: 0.3670991548625164\n",
      "Root Mean Squared Error: 0.6058870809503338\n"
     ]
    }
   ],
   "source": [
    "print('Mean Absolute Error:', mean_absolute_error(y_test, dtc_pred_test))\n",
    "print('Mean Squared Error:', mean_squared_error(y_test, dtc_pred_test))  \n",
    "print('Root Mean Squared Error:', np.sqrt(mean_squared_error(y_test, dtc_pred_test)))"
   ]
  },
  {
   "cell_type": "markdown",
   "id": "26c08734",
   "metadata": {},
   "source": [
    "##### Confusion Matrix"
   ]
  },
  {
   "cell_type": "code",
   "execution_count": 24,
   "id": "a723b627",
   "metadata": {},
   "outputs": [
    {
     "data": {
      "text/plain": [
       "array([[ 5009,  5974],\n",
       "       [ 6362, 16259]], dtype=int64)"
      ]
     },
     "execution_count": 24,
     "metadata": {},
     "output_type": "execute_result"
    }
   ],
   "source": [
    "base_cnf_matrix = confusion_matrix(y_test, dtc_pred_test)\n",
    "base_cnf_matrix"
   ]
  },
  {
   "cell_type": "code",
   "execution_count": 25,
   "id": "b7623121",
   "metadata": {},
   "outputs": [
    {
     "data": {
      "image/png": "[encoded data removed]",
      "text/plain": [
       "<Figure size 432x288 with 2 Axes>"
      ]
     },
     "metadata": {
      "needs_background": "light"
     },
     "output_type": "display_data"
    }
   ],
   "source": [
    "plot_confusion_matrix(dtc, scaler_X_test, y_test,\n",
    "                      cmap=plt.cm.Reds)\n",
    "plt.show()"
   ]
  },
  {
   "cell_type": "markdown",
   "id": "ef1c77df",
   "metadata": {},
   "source": [
    "### Random Search"
   ]
  },
  {
   "cell_type": "code",
   "execution_count": 26,
   "id": "a2d7910c",
   "metadata": {},
   "outputs": [],
   "source": [
    "param_grid={\n",
    "    'criterion':['gini', 'entropy'],\n",
    "    'random_state': [1,20, 42, 100 ],\n",
    "    'max_depth':[5,10,20,30,40,50,60,70],\n",
    "    'min_samples_split':[5,10,20,25,30,40,50],\n",
    "    'min_samples_leaf':[1,100,200,300,400,500]\n",
    "            }"
   ]
  },
  {
   "cell_type": "code",
   "execution_count": 27,
   "id": "9973cdd7",
   "metadata": {},
   "outputs": [],
   "source": [
    "dtc_rand_search = RandomizedSearchCV(dtc, param_grid)"
   ]
  },
  {
   "cell_type": "markdown",
   "id": "319565e1",
   "metadata": {},
   "source": [
    "##### Model Train"
   ]
  },
  {
   "cell_type": "code",
   "execution_count": 28,
   "id": "77b2f207",
   "metadata": {
    "scrolled": true
   },
   "outputs": [
    {
     "data": {
      "text/plain": [
       "RandomizedSearchCV(estimator=DecisionTreeClassifier(),\n",
       "                   param_distributions={'criterion': ['gini', 'entropy'],\n",
       "                                        'max_depth': [5, 10, 20, 30, 40, 50, 60,\n",
       "                                                      70],\n",
       "                                        'min_samples_leaf': [1, 100, 200, 300,\n",
       "                                                             400, 500],\n",
       "                                        'min_samples_split': [5, 10, 20, 25, 30,\n",
       "                                                              40, 50],\n",
       "                                        'random_state': [1, 20, 42, 100]})"
      ]
     },
     "execution_count": 28,
     "metadata": {},
     "output_type": "execute_result"
    }
   ],
   "source": [
    "dtc_rand_search.fit(scaler_X_train, y_train)"
   ]
  },
  {
   "cell_type": "code",
   "execution_count": 29,
   "id": "e1f876db",
   "metadata": {},
   "outputs": [
    {
     "data": {
      "text/plain": [
       "{'random_state': 1,\n",
       " 'min_samples_split': 20,\n",
       " 'min_samples_leaf': 300,\n",
       " 'max_depth': 60,\n",
       " 'criterion': 'gini'}"
      ]
     },
     "execution_count": 29,
     "metadata": {},
     "output_type": "execute_result"
    }
   ],
   "source": [
    "dtc_rand_search.best_params_"
   ]
  },
  {
   "cell_type": "code",
   "execution_count": 30,
   "id": "093efcb6",
   "metadata": {},
   "outputs": [],
   "source": [
    "dtc_rs_pred_train = dtc_rand_search.predict(scaler_X_train)"
   ]
  },
  {
   "cell_type": "code",
   "execution_count": 31,
   "id": "2b23abba",
   "metadata": {},
   "outputs": [
    {
     "name": "stdout",
     "output_type": "stream",
     "text": [
      "              precision    recall  f1-score   support\n",
      "\n",
      "     On Time       0.57      0.13      0.22     44183\n",
      "       Delay       0.69      0.95      0.80     90231\n",
      "\n",
      "    accuracy                           0.68    134414\n",
      "   macro avg       0.63      0.54      0.51    134414\n",
      "weighted avg       0.65      0.68      0.61    134414\n",
      "\n"
     ]
    }
   ],
   "source": [
    "#again consistent with standard scaler\n",
    "print(classification_report(y_train, dtc_rs_pred_train, target_names=['On Time', 'Delay']))"
   ]
  },
  {
   "cell_type": "code",
   "execution_count": 32,
   "id": "fec1273e",
   "metadata": {},
   "outputs": [
    {
     "name": "stdout",
     "output_type": "stream",
     "text": [
      "Mean Absolute Error: 0.3177124406683828\n",
      "Mean Squared Error: 0.3177124406683828\n",
      "Root Mean Squared Error: 0.5636598625664088\n"
     ]
    }
   ],
   "source": [
    "print('Mean Absolute Error:', mean_absolute_error(y_train, dtc_rs_pred_train))\n",
    "print('Mean Squared Error:', mean_squared_error(y_train, dtc_rs_pred_train))  \n",
    "print('Root Mean Squared Error:', np.sqrt(mean_squared_error(y_train, dtc_rs_pred_train)))"
   ]
  },
  {
   "cell_type": "markdown",
   "id": "752c6439",
   "metadata": {},
   "source": [
    "##### Model Test"
   ]
  },
  {
   "cell_type": "code",
   "execution_count": 33,
   "id": "5ce67f04",
   "metadata": {},
   "outputs": [],
   "source": [
    "dtc_rs_pred_test = dtc_rand_search.predict(scaler_X_test)"
   ]
  },
  {
   "cell_type": "code",
   "execution_count": 34,
   "id": "0fba7d09",
   "metadata": {},
   "outputs": [
    {
     "name": "stdout",
     "output_type": "stream",
     "text": [
      "              precision    recall  f1-score   support\n",
      "\n",
      "     On Time       0.54      0.13      0.21     10983\n",
      "       Delay       0.69      0.95      0.80     22621\n",
      "\n",
      "    accuracy                           0.68     33604\n",
      "   macro avg       0.61      0.54      0.50     33604\n",
      "weighted avg       0.64      0.68      0.61     33604\n",
      "\n"
     ]
    }
   ],
   "source": [
    "print(classification_report(y_test, dtc_rs_pred_test, target_names=['On Time', 'Delay']))"
   ]
  },
  {
   "cell_type": "code",
   "execution_count": 35,
   "id": "6ef51515",
   "metadata": {},
   "outputs": [
    {
     "name": "stdout",
     "output_type": "stream",
     "text": [
      "Mean Absolute Error: 0.32115224378050233\n",
      "Mean Squared Error: 0.32115224378050233\n",
      "Root Mean Squared Error: 0.5667029590363035\n"
     ]
    }
   ],
   "source": [
    "print('Mean Absolute Error:', mean_absolute_error(y_test, dtc_rs_pred_test))\n",
    "print('Mean Squared Error:', mean_squared_error(y_test, dtc_rs_pred_test))  \n",
    "print('Root Mean Squared Error:', np.sqrt(mean_squared_error(y_test, dtc_rs_pred_test)))"
   ]
  },
  {
   "cell_type": "markdown",
   "id": "7d322a49",
   "metadata": {},
   "source": [
    "##### Confusion Matrix"
   ]
  },
  {
   "cell_type": "code",
   "execution_count": 36,
   "id": "f92a5aea",
   "metadata": {},
   "outputs": [
    {
     "data": {
      "text/plain": [
       "array([[ 1413,  9570],\n",
       "       [ 1222, 21399]], dtype=int64)"
      ]
     },
     "execution_count": 36,
     "metadata": {},
     "output_type": "execute_result"
    }
   ],
   "source": [
    "cnf_matrix = confusion_matrix(y_test, dtc_rs_pred_test)\n",
    "cnf_matrix"
   ]
  },
  {
   "cell_type": "code",
   "execution_count": 37,
   "id": "f457fcc0",
   "metadata": {},
   "outputs": [
    {
     "data": {
      "image/png": "[encoded data removed]",
      "text/plain": [
       "<Figure size 432x288 with 2 Axes>"
      ]
     },
     "metadata": {
      "needs_background": "light"
     },
     "output_type": "display_data"
    }
   ],
   "source": [
    "plot_confusion_matrix(dtc_rand_search, scaler_X_test, y_test,\n",
    "                      cmap=plt.cm.Reds)\n",
    "plt.show()"
   ]
  },
  {
   "cell_type": "markdown",
   "id": "ddf40d47",
   "metadata": {},
   "source": [
    "### Smote "
   ]
  },
  {
   "cell_type": "code",
   "execution_count": 38,
   "id": "adeb2019",
   "metadata": {},
   "outputs": [],
   "source": [
    "smote = SMOTE()"
   ]
  },
  {
   "cell_type": "markdown",
   "id": "0e242cb1",
   "metadata": {},
   "source": [
    "##### Model Train"
   ]
  },
  {
   "cell_type": "code",
   "execution_count": 39,
   "id": "17342ee0",
   "metadata": {},
   "outputs": [],
   "source": [
    "X_train_resampled, y_train_resampled = smote.fit_resample(scaler_X_train, y_train) "
   ]
  },
  {
   "cell_type": "code",
   "execution_count": 40,
   "id": "5a544744",
   "metadata": {},
   "outputs": [
    {
     "data": {
      "text/plain": [
       "RandomizedSearchCV(estimator=DecisionTreeClassifier(),\n",
       "                   param_distributions={'criterion': ['gini', 'entropy'],\n",
       "                                        'max_depth': [5, 10, 20, 30, 40, 50, 60,\n",
       "                                                      70],\n",
       "                                        'min_samples_leaf': [1, 100, 200, 300,\n",
       "                                                             400, 500],\n",
       "                                        'min_samples_split': [5, 10, 20, 25, 30,\n",
       "                                                              40, 50],\n",
       "                                        'random_state': [1, 20, 42, 100]})"
      ]
     },
     "execution_count": 40,
     "metadata": {},
     "output_type": "execute_result"
    }
   ],
   "source": [
    "dtc_rand_search.fit(X_train_resampled, y_train_resampled)"
   ]
  },
  {
   "cell_type": "code",
   "execution_count": 41,
   "id": "4d68f2e9",
   "metadata": {},
   "outputs": [],
   "source": [
    "dtc_smote_pred_train = dtc_rand_search.predict(X_train_resampled)"
   ]
  },
  {
   "cell_type": "code",
   "execution_count": 42,
   "id": "0c6d146e",
   "metadata": {},
   "outputs": [
    {
     "name": "stdout",
     "output_type": "stream",
     "text": [
      "              precision    recall  f1-score   support\n",
      "\n",
      "     On Time       0.68      0.67      0.67     90231\n",
      "       Delay       0.67      0.69      0.68     90231\n",
      "\n",
      "    accuracy                           0.68    180462\n",
      "   macro avg       0.68      0.68      0.68    180462\n",
      "weighted avg       0.68      0.68      0.68    180462\n",
      "\n"
     ]
    }
   ],
   "source": [
    "print(classification_report(y_train_resampled, dtc_smote_pred_train, target_names=['On Time', 'Delay']))"
   ]
  },
  {
   "cell_type": "code",
   "execution_count": 43,
   "id": "306f573a",
   "metadata": {},
   "outputs": [
    {
     "name": "stdout",
     "output_type": "stream",
     "text": [
      "Mean Absolute Error: 0.3209927851846926\n",
      "Mean Squared Error: 0.3209927851846926\n",
      "Root Mean Squared Error: 0.5665622518176556\n"
     ]
    }
   ],
   "source": [
    "print('Mean Absolute Error:', mean_absolute_error(y_train_resampled, dtc_smote_pred_train))\n",
    "print('Mean Squared Error:', mean_squared_error(y_train_resampled, dtc_smote_pred_train))  \n",
    "print('Root Mean Squared Error:', np.sqrt(mean_squared_error(y_train_resampled, dtc_smote_pred_train)))"
   ]
  },
  {
   "cell_type": "markdown",
   "id": "ec3dbe8f",
   "metadata": {},
   "source": [
    "##### Model Test"
   ]
  },
  {
   "cell_type": "code",
   "execution_count": 44,
   "id": "3ac7f356",
   "metadata": {},
   "outputs": [],
   "source": [
    "X_test_resampled, y_test_resampled = smote.fit_resample(scaler_X_test, y_test) "
   ]
  },
  {
   "cell_type": "code",
   "execution_count": 45,
   "id": "83603c8c",
   "metadata": {},
   "outputs": [],
   "source": [
    "dtc_smote_pred_test = dtc_rand_search.predict(X_test_resampled)"
   ]
  },
  {
   "cell_type": "code",
   "execution_count": 46,
   "id": "01250be7",
   "metadata": {},
   "outputs": [
    {
     "name": "stdout",
     "output_type": "stream",
     "text": [
      "              precision    recall  f1-score   support\n",
      "\n",
      "     On Time       0.65      0.62      0.63     22621\n",
      "       Delay       0.63      0.66      0.65     22621\n",
      "\n",
      "    accuracy                           0.64     45242\n",
      "   macro avg       0.64      0.64      0.64     45242\n",
      "weighted avg       0.64      0.64      0.64     45242\n",
      "\n"
     ]
    }
   ],
   "source": [
    "print(classification_report(y_test_resampled, dtc_smote_pred_test, target_names=['On Time', 'Delay']))"
   ]
  },
  {
   "cell_type": "code",
   "execution_count": 47,
   "id": "42e0ae0b",
   "metadata": {},
   "outputs": [
    {
     "name": "stdout",
     "output_type": "stream",
     "text": [
      "Mean Absolute Error: 0.3599973475973653\n",
      "Mean Squared Error: 0.3599973475973653\n",
      "Root Mean Squared Error: 0.5999977896603997\n"
     ]
    }
   ],
   "source": [
    "print('Mean Absolute Error:', mean_absolute_error(y_test_resampled, dtc_smote_pred_test))\n",
    "print('Mean Squared Error:', mean_squared_error(y_test_resampled, dtc_smote_pred_test))  \n",
    "print('Root Mean Squared Error:', np.sqrt(mean_squared_error(y_test_resampled, dtc_smote_pred_test)))"
   ]
  },
  {
   "cell_type": "markdown",
   "id": "04e9e090",
   "metadata": {},
   "source": [
    "##### Confusion Matrix"
   ]
  },
  {
   "cell_type": "code",
   "execution_count": 48,
   "id": "277c87e9",
   "metadata": {},
   "outputs": [
    {
     "data": {
      "text/plain": [
       "array([[13975,  8646],\n",
       "       [ 7641, 14980]], dtype=int64)"
      ]
     },
     "execution_count": 48,
     "metadata": {},
     "output_type": "execute_result"
    }
   ],
   "source": [
    "cnf_matrix = confusion_matrix(y_test_resampled, dtc_smote_pred_test)\n",
    "cnf_matrix"
   ]
  },
  {
   "cell_type": "code",
   "execution_count": 49,
   "id": "0d1d551a",
   "metadata": {},
   "outputs": [
    {
     "data": {
      "image/png": "[encoded data removed]",
      "text/plain": [
       "<Figure size 432x288 with 2 Axes>"
      ]
     },
     "metadata": {
      "needs_background": "light"
     },
     "output_type": "display_data"
    }
   ],
   "source": [
    "plot_confusion_matrix(dtc_rand_search, X_test_resampled, y_test_resampled,\n",
    "                      cmap=plt.cm.Reds)\n",
    "plt.show()"
   ]
  },
  {
   "cell_type": "markdown",
   "id": "ed2b8ce0",
   "metadata": {},
   "source": [
    "### Conclusion"
   ]
  },
  {
   "cell_type": "markdown",
   "id": "8e2ab52a",
   "metadata": {},
   "source": [
    "Robust scaler does not appear to significantly affect the models. "
   ]
  }
 ],
 "metadata": {
  "kernelspec": {
   "display_name": "Python 3",
   "language": "python",
   "name": "python3"
  },
  "language_info": {
   "codemirror_mode": {
    "name": "ipython",
    "version": 3
   },
   "file_extension": ".py",
   "mimetype": "text/x-python",
   "name": "python",
   "nbconvert_exporter": "python",
   "pygments_lexer": "ipython3",
   "version": "3.8.8"
  }
 },
 "nbformat": 4,
 "nbformat_minor": 5
}
