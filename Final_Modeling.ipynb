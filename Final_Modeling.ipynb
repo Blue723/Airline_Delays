{
 "cells": [
  {
   "cell_type": "code",
   "execution_count": 1,
   "id": "790afceb",
   "metadata": {},
   "outputs": [],
   "source": [
    "import pandas as pd\n",
    "import numpy as np\n",
    "import matplotlib.pyplot as plt\n",
    "from sklearn.model_selection import train_test_split\n",
    "from sklearn.preprocessing import StandardScaler\n",
    "from sklearn.tree import DecisionTreeClassifier, plot_tree\n",
    "from sklearn.ensemble import RandomForestClassifier\n",
    "from xgboost import XGBClassifier\n",
    "from sklearn.metrics import classification_report\n",
    "from sklearn.metrics import mean_absolute_error, mean_squared_error\n",
    "from sklearn import tree\n",
    "from sklearn.metrics import accuracy_score, precision_score, recall_score, log_loss\n",
    "from sklearn.model_selection import RandomizedSearchCV\n",
    "from sklearn.metrics import confusion_matrix, plot_confusion_matrix\n",
    "from imblearn.over_sampling import SMOTE\n",
    "import warnings\n",
    "warnings.filterwarnings('ignore')"
   ]
  },
  {
   "cell_type": "code",
   "execution_count": 2,
   "id": "2b229a12",
   "metadata": {},
   "outputs": [],
   "source": [
    "df = pd.read_csv('df_dummies.csv')"
   ]
  },
  {
   "cell_type": "code",
   "execution_count": 3,
   "id": "b05a0ce9",
   "metadata": {},
   "outputs": [],
   "source": [
    "df= df.drop(columns=['Unnamed: 0'], axis=1)"
   ]
  },
  {
   "cell_type": "code",
   "execution_count": 4,
   "id": "6800f08c",
   "metadata": {},
   "outputs": [
    {
     "name": "stdout",
     "output_type": "stream",
     "text": [
      "<class 'pandas.core.frame.DataFrame'>\n",
      "RangeIndex: 168018 entries, 0 to 168017\n",
      "Data columns (total 11 columns):\n",
      " #   Column      Non-Null Count   Dtype\n",
      "---  ------      --------------   -----\n",
      " 0   Month       168018 non-null  int64\n",
      " 1   DayofMonth  168018 non-null  int64\n",
      " 2   ArrTime     168018 non-null  int64\n",
      " 3   DepDelay    168018 non-null  int64\n",
      " 4   Distance    168018 non-null  int64\n",
      " 5   DayofWeek   168018 non-null  int64\n",
      " 6   Dest_ATL    168018 non-null  int64\n",
      " 7   Dest_DEN    168018 non-null  int64\n",
      " 8   Dest_DFW    168018 non-null  int64\n",
      " 9   Dest_LAX    168018 non-null  int64\n",
      " 10  Dest_ORD    168018 non-null  int64\n",
      "dtypes: int64(11)\n",
      "memory usage: 14.1 MB\n"
     ]
    }
   ],
   "source": [
    "df.info()"
   ]
  },
  {
   "cell_type": "code",
   "execution_count": 5,
   "id": "7fe6e1ba",
   "metadata": {},
   "outputs": [
    {
     "name": "stdout",
     "output_type": "stream",
     "text": [
      "Month\n",
      "6     19143\n",
      "1     17009\n",
      "3     16487\n",
      "2     16348\n",
      "7     15713\n",
      "5     14963\n",
      "12    14597\n",
      "4     14332\n",
      "8     13911\n",
      "9      9260\n",
      "10     8420\n",
      "11     7835\n",
      "Name: Month, dtype: int64\n",
      "\n",
      "DayofMonth\n",
      "7     6410\n",
      "22    6221\n",
      "21    5899\n",
      "1     5887\n",
      "19    5836\n",
      "14    5731\n",
      "2     5674\n",
      "15    5671\n",
      "8     5668\n",
      "11    5571\n",
      "3     5571\n",
      "9     5568\n",
      "27    5516\n",
      "17    5513\n",
      "20    5423\n",
      "18    5412\n",
      "25    5408\n",
      "24    5381\n",
      "26    5335\n",
      "28    5315\n",
      "16    5309\n",
      "29    5308\n",
      "12    5304\n",
      "13    5235\n",
      "5     5223\n",
      "6     5148\n",
      "10    5130\n",
      "4     5081\n",
      "23    5067\n",
      "30    5000\n",
      "31    3203\n",
      "Name: DayofMonth, dtype: int64\n",
      "\n",
      "ArrTime\n",
      "2019    322\n",
      "2036    303\n",
      "2052    303\n",
      "2012    302\n",
      "2027    299\n",
      "       ... \n",
      "429       1\n",
      "253       1\n",
      "407       1\n",
      "251       1\n",
      "240       1\n",
      "Name: ArrTime, Length: 1352, dtype: int64\n",
      "\n",
      "DepDelay\n",
      "1    112852\n",
      "0     55166\n",
      "Name: DepDelay, dtype: int64\n",
      "\n",
      "Distance\n",
      "802     5441\n",
      "1745    5198\n",
      "888     4412\n",
      "1235    3959\n",
      "641     3580\n",
      "        ... \n",
      "1014      10\n",
      "1081       8\n",
      "3414       7\n",
      "784        2\n",
      "373        2\n",
      "Name: Distance, Length: 329, dtype: int64\n",
      "\n",
      "DayofWeek\n",
      "5    27069\n",
      "1    25669\n",
      "7    24194\n",
      "4    23850\n",
      "3    23695\n",
      "2    23597\n",
      "6    19944\n",
      "Name: DayofWeek, dtype: int64\n",
      "\n",
      "Dest_ATL\n",
      "0    164399\n",
      "1      3619\n",
      "Name: Dest_ATL, dtype: int64\n",
      "\n",
      "Dest_DEN\n",
      "0    147607\n",
      "1     20411\n",
      "Name: Dest_DEN, dtype: int64\n",
      "\n",
      "Dest_DFW\n",
      "0    109941\n",
      "1     58077\n",
      "Name: Dest_DFW, dtype: int64\n",
      "\n",
      "Dest_LAX\n",
      "0    149613\n",
      "1     18405\n",
      "Name: Dest_LAX, dtype: int64\n",
      "\n",
      "Dest_ORD\n",
      "0    100512\n",
      "1     67506\n",
      "Name: Dest_ORD, dtype: int64\n",
      "\n"
     ]
    }
   ],
   "source": [
    "for col in df.columns:\n",
    "    print(col)\n",
    "    print(df[col].value_counts())\n",
    "    print()"
   ]
  },
  {
   "cell_type": "code",
   "execution_count": 6,
   "id": "c5a90d32",
   "metadata": {},
   "outputs": [],
   "source": [
    "X = df.drop(columns=['DepDelay'], axis=1)\n",
    "y= df['DepDelay']"
   ]
  },
  {
   "cell_type": "code",
   "execution_count": 7,
   "id": "7dc76393",
   "metadata": {},
   "outputs": [],
   "source": [
    "X_train, X_test, y_train, y_test = train_test_split(X, y,test_size=.2, train_size=.8, random_state=42)"
   ]
  },
  {
   "cell_type": "code",
   "execution_count": 8,
   "id": "dc96ce0c",
   "metadata": {},
   "outputs": [
    {
     "data": {
      "text/plain": [
       "StandardScaler()"
      ]
     },
     "execution_count": 8,
     "metadata": {},
     "output_type": "execute_result"
    }
   ],
   "source": [
    "scaler = StandardScaler()\n",
    "scaler.fit(X_train)"
   ]
  },
  {
   "cell_type": "code",
   "execution_count": 9,
   "id": "f259cde4",
   "metadata": {},
   "outputs": [],
   "source": [
    "scaler_X_train = scaler.transform(X_train)\n",
    "scaler_X_test = scaler.transform(X_test)"
   ]
  },
  {
   "cell_type": "markdown",
   "id": "0c1a2746",
   "metadata": {},
   "source": [
    "Standardize the data to set all of the freatures relativly the same. Especially since Arrival Time and Distance are contiuous measurements and are skewed. Other features are categorical. "
   ]
  },
  {
   "cell_type": "markdown",
   "id": "802adff7",
   "metadata": {},
   "source": [
    "### Baseline Models and Feature Importance"
   ]
  },
  {
   "cell_type": "markdown",
   "id": "9ba37cf1",
   "metadata": {},
   "source": [
    "##### Decision Tree"
   ]
  },
  {
   "cell_type": "markdown",
   "id": "b6fbde52",
   "metadata": {},
   "source": [
    "I will use a decision tree model since the data possibly has varying scenarios that could lead to a delay. Decision tree model will determine multiple possible scenarios to predict a flights delay. "
   ]
  },
  {
   "cell_type": "markdown",
   "id": "8006f493",
   "metadata": {},
   "source": [
    "Decision Tree Classifier will use a feature's data to split the sample using Gini information gain to determine its path. Each split happens with different features until it reaches the stopping criteria. The model will then use the test sample to determine if the boolean training sample splits were correct."
   ]
  },
  {
   "cell_type": "code",
   "execution_count": 10,
   "id": "1663e5f5",
   "metadata": {},
   "outputs": [
    {
     "data": {
      "text/plain": [
       "DecisionTreeClassifier()"
      ]
     },
     "execution_count": 10,
     "metadata": {},
     "output_type": "execute_result"
    }
   ],
   "source": [
    "dtc = DecisionTreeClassifier()\n",
    "dtc.fit(scaler_X_train, y_train)"
   ]
  },
  {
   "cell_type": "code",
   "execution_count": 11,
   "id": "7d7ac090",
   "metadata": {},
   "outputs": [],
   "source": [
    "df_col = list(df.columns)\n",
    "df_col.remove('DepDelay')"
   ]
  },
  {
   "cell_type": "markdown",
   "id": "32a2d06e",
   "metadata": {},
   "source": [
    "##### Feature Importance "
   ]
  },
  {
   "cell_type": "code",
   "execution_count": 12,
   "id": "329e0cfe",
   "metadata": {
    "scrolled": true
   },
   "outputs": [
    {
     "data": {
      "text/html": [
       "<div>\n",
       "<style scoped>\n",
       "    .dataframe tbody tr th:only-of-type {\n",
       "        vertical-align: middle;\n",
       "    }\n",
       "\n",
       "    .dataframe tbody tr th {\n",
       "        vertical-align: top;\n",
       "    }\n",
       "\n",
       "    .dataframe thead th {\n",
       "        text-align: right;\n",
       "    }\n",
       "</style>\n",
       "<table border=\"1\" class=\"dataframe\">\n",
       "  <thead>\n",
       "    <tr style=\"text-align: right;\">\n",
       "      <th></th>\n",
       "      <th>feature importance</th>\n",
       "    </tr>\n",
       "  </thead>\n",
       "  <tbody>\n",
       "    <tr>\n",
       "      <th>ArrTime</th>\n",
       "      <td>0.339394</td>\n",
       "    </tr>\n",
       "    <tr>\n",
       "      <th>Distance</th>\n",
       "      <td>0.224055</td>\n",
       "    </tr>\n",
       "    <tr>\n",
       "      <th>DayofMonth</th>\n",
       "      <td>0.180415</td>\n",
       "    </tr>\n",
       "    <tr>\n",
       "      <th>Month</th>\n",
       "      <td>0.126788</td>\n",
       "    </tr>\n",
       "    <tr>\n",
       "      <th>DayofWeek</th>\n",
       "      <td>0.104205</td>\n",
       "    </tr>\n",
       "    <tr>\n",
       "      <th>Dest_DFW</th>\n",
       "      <td>0.006868</td>\n",
       "    </tr>\n",
       "    <tr>\n",
       "      <th>Dest_ORD</th>\n",
       "      <td>0.006621</td>\n",
       "    </tr>\n",
       "    <tr>\n",
       "      <th>Dest_DEN</th>\n",
       "      <td>0.006377</td>\n",
       "    </tr>\n",
       "    <tr>\n",
       "      <th>Dest_LAX</th>\n",
       "      <td>0.003359</td>\n",
       "    </tr>\n",
       "    <tr>\n",
       "      <th>Dest_ATL</th>\n",
       "      <td>0.001917</td>\n",
       "    </tr>\n",
       "  </tbody>\n",
       "</table>\n",
       "</div>"
      ],
      "text/plain": [
       "            feature importance\n",
       "ArrTime               0.339394\n",
       "Distance              0.224055\n",
       "DayofMonth            0.180415\n",
       "Month                 0.126788\n",
       "DayofWeek             0.104205\n",
       "Dest_DFW              0.006868\n",
       "Dest_ORD              0.006621\n",
       "Dest_DEN              0.006377\n",
       "Dest_LAX              0.003359\n",
       "Dest_ATL              0.001917"
      ]
     },
     "execution_count": 12,
     "metadata": {},
     "output_type": "execute_result"
    }
   ],
   "source": [
    "df_feat = pd.DataFrame(dtc.feature_importances_, index=df_col, columns=['feature importance']).sort_values('feature importance', ascending=False)\n",
    "df_feat"
   ]
  },
  {
   "cell_type": "code",
   "execution_count": 13,
   "id": "7a15d14c",
   "metadata": {
    "scrolled": true
   },
   "outputs": [
    {
     "data": {
      "image/png": "[encoded data removed]",
      "text/plain": [
       "<Figure size 432x288 with 1 Axes>"
      ]
     },
     "metadata": {
      "needs_background": "light"
     },
     "output_type": "display_data"
    }
   ],
   "source": [
    "df_feat.plot(kind='bar', );"
   ]
  },
  {
   "cell_type": "markdown",
   "id": "69859ace",
   "metadata": {},
   "source": [
    "Arrival Time and Distance have the most weight possibly because they are continuous variables and have more magnitudes than other features."
   ]
  },
  {
   "cell_type": "code",
   "execution_count": 14,
   "id": "e06efc7b",
   "metadata": {},
   "outputs": [],
   "source": [
    "dtc_pred_train = dtc.predict(scaler_X_train)"
   ]
  },
  {
   "cell_type": "code",
   "execution_count": 15,
   "id": "ee29fce6",
   "metadata": {},
   "outputs": [
    {
     "name": "stdout",
     "output_type": "stream",
     "text": [
      "              precision    recall  f1-score   support\n",
      "\n",
      "     On Time       1.00      1.00      1.00     44183\n",
      "       Delay       1.00      1.00      1.00     90231\n",
      "\n",
      "    accuracy                           1.00    134414\n",
      "   macro avg       1.00      1.00      1.00    134414\n",
      "weighted avg       1.00      1.00      1.00    134414\n",
      "\n"
     ]
    }
   ],
   "source": [
    "print(classification_report(y_train, dtc_pred_train, target_names=['On Time', 'Delay']))"
   ]
  },
  {
   "cell_type": "code",
   "execution_count": 16,
   "id": "6e4e028e",
   "metadata": {},
   "outputs": [
    {
     "name": "stdout",
     "output_type": "stream",
     "text": [
      "Mean Absolute Error: 0.0002380704390911661\n",
      "Mean Squared Error: 0.0002380704390911661\n",
      "Root Mean Squared Error: 0.015429531395708882\n"
     ]
    }
   ],
   "source": [
    "print('Mean Absolute Error:', mean_absolute_error(y_train, dtc_pred_train))\n",
    "print('Mean Squared Error:', mean_squared_error(y_train, dtc_pred_train))  \n",
    "print('Root Mean Squared Error:', np.sqrt(mean_squared_error(y_train, dtc_pred_train)))"
   ]
  },
  {
   "cell_type": "markdown",
   "id": "d80ea584",
   "metadata": {},
   "source": [
    "##### Random Forest"
   ]
  },
  {
   "cell_type": "markdown",
   "id": "0dee96ba",
   "metadata": {},
   "source": [
    "The next model is random forest. This model is creating multiple decision trees in order to find the best prediciton model."
   ]
  },
  {
   "cell_type": "markdown",
   "id": "563b8419",
   "metadata": {},
   "source": [
    "Random Forest Classifier will use different samples to create many decision trees in order to determine the best classificaiton method. "
   ]
  },
  {
   "cell_type": "code",
   "execution_count": 17,
   "id": "af4ef34d",
   "metadata": {},
   "outputs": [
    {
     "data": {
      "text/plain": [
       "RandomForestClassifier()"
      ]
     },
     "execution_count": 17,
     "metadata": {},
     "output_type": "execute_result"
    }
   ],
   "source": [
    "rfc = RandomForestClassifier()\n",
    "rfc.fit(scaler_X_train, y_train)"
   ]
  },
  {
   "cell_type": "markdown",
   "id": "91613204",
   "metadata": {},
   "source": [
    "##### Feature Importance "
   ]
  },
  {
   "cell_type": "code",
   "execution_count": 18,
   "id": "14872470",
   "metadata": {
    "scrolled": true
   },
   "outputs": [
    {
     "data": {
      "text/html": [
       "<div>\n",
       "<style scoped>\n",
       "    .dataframe tbody tr th:only-of-type {\n",
       "        vertical-align: middle;\n",
       "    }\n",
       "\n",
       "    .dataframe tbody tr th {\n",
       "        vertical-align: top;\n",
       "    }\n",
       "\n",
       "    .dataframe thead th {\n",
       "        text-align: right;\n",
       "    }\n",
       "</style>\n",
       "<table border=\"1\" class=\"dataframe\">\n",
       "  <thead>\n",
       "    <tr style=\"text-align: right;\">\n",
       "      <th></th>\n",
       "      <th>feature importance</th>\n",
       "    </tr>\n",
       "  </thead>\n",
       "  <tbody>\n",
       "    <tr>\n",
       "      <th>ArrTime</th>\n",
       "      <td>0.410595</td>\n",
       "    </tr>\n",
       "    <tr>\n",
       "      <th>Distance</th>\n",
       "      <td>0.263577</td>\n",
       "    </tr>\n",
       "    <tr>\n",
       "      <th>DayofMonth</th>\n",
       "      <td>0.152022</td>\n",
       "    </tr>\n",
       "    <tr>\n",
       "      <th>Month</th>\n",
       "      <td>0.085325</td>\n",
       "    </tr>\n",
       "    <tr>\n",
       "      <th>DayofWeek</th>\n",
       "      <td>0.071635</td>\n",
       "    </tr>\n",
       "    <tr>\n",
       "      <th>Dest_ORD</th>\n",
       "      <td>0.005041</td>\n",
       "    </tr>\n",
       "    <tr>\n",
       "      <th>Dest_DFW</th>\n",
       "      <td>0.003922</td>\n",
       "    </tr>\n",
       "    <tr>\n",
       "      <th>Dest_DEN</th>\n",
       "      <td>0.003259</td>\n",
       "    </tr>\n",
       "    <tr>\n",
       "      <th>Dest_LAX</th>\n",
       "      <td>0.003197</td>\n",
       "    </tr>\n",
       "    <tr>\n",
       "      <th>Dest_ATL</th>\n",
       "      <td>0.001428</td>\n",
       "    </tr>\n",
       "  </tbody>\n",
       "</table>\n",
       "</div>"
      ],
      "text/plain": [
       "            feature importance\n",
       "ArrTime               0.410595\n",
       "Distance              0.263577\n",
       "DayofMonth            0.152022\n",
       "Month                 0.085325\n",
       "DayofWeek             0.071635\n",
       "Dest_ORD              0.005041\n",
       "Dest_DFW              0.003922\n",
       "Dest_DEN              0.003259\n",
       "Dest_LAX              0.003197\n",
       "Dest_ATL              0.001428"
      ]
     },
     "execution_count": 18,
     "metadata": {},
     "output_type": "execute_result"
    }
   ],
   "source": [
    "df_feat = pd.DataFrame(rfc.feature_importances_, index=df_col, columns=['feature importance']).sort_values('feature importance', ascending=False)\n",
    "df_feat"
   ]
  },
  {
   "cell_type": "code",
   "execution_count": 19,
   "id": "01328eda",
   "metadata": {
    "scrolled": true
   },
   "outputs": [
    {
     "data": {
      "image/png": "[encoded data removed]",
      "text/plain": [
       "<Figure size 432x288 with 1 Axes>"
      ]
     },
     "metadata": {
      "needs_background": "light"
     },
     "output_type": "display_data"
    }
   ],
   "source": [
    "df_feat.plot(kind='bar');"
   ]
  },
  {
   "cell_type": "markdown",
   "id": "abd93ac0",
   "metadata": {},
   "source": [
    "Again, Arrival Time and distance are weighted more in this model. "
   ]
  },
  {
   "cell_type": "code",
   "execution_count": 20,
   "id": "c6374679",
   "metadata": {},
   "outputs": [],
   "source": [
    "rfc_pred_train = rfc.predict(scaler_X_train)"
   ]
  },
  {
   "cell_type": "code",
   "execution_count": 21,
   "id": "72291d79",
   "metadata": {},
   "outputs": [
    {
     "name": "stdout",
     "output_type": "stream",
     "text": [
      "              precision    recall  f1-score   support\n",
      "\n",
      "     On Time       1.00      1.00      1.00     44183\n",
      "       Delay       1.00      1.00      1.00     90231\n",
      "\n",
      "    accuracy                           1.00    134414\n",
      "   macro avg       1.00      1.00      1.00    134414\n",
      "weighted avg       1.00      1.00      1.00    134414\n",
      "\n"
     ]
    }
   ],
   "source": [
    "print(classification_report(y_train, rfc_pred_train, target_names=['On Time', 'Delay']))"
   ]
  },
  {
   "cell_type": "code",
   "execution_count": 22,
   "id": "2bea482e",
   "metadata": {},
   "outputs": [
    {
     "name": "stdout",
     "output_type": "stream",
     "text": [
      "Mean Absolute Error: 0.00024551014031276504\n",
      "Mean Squared Error: 0.00024551014031276504\n",
      "Root Mean Squared Error: 0.015668763203034407\n"
     ]
    }
   ],
   "source": [
    "print('Mean Absolute Error:', mean_absolute_error(y_train, rfc_pred_train))\n",
    "print('Mean Squared Error:', mean_squared_error(y_train, rfc_pred_train))  \n",
    "print('Root Mean Squared Error:', np.sqrt(mean_squared_error(y_train, rfc_pred_train)))"
   ]
  },
  {
   "cell_type": "markdown",
   "id": "f53133d7",
   "metadata": {},
   "source": [
    "##### XGBoost"
   ]
  },
  {
   "cell_type": "markdown",
   "id": "04431497",
   "metadata": {},
   "source": [
    "XGBoost will create decision trees to determine a features weight then adjust weight based on each previous models error. Each predictor is trained using the residual errors of predecessor as labels."
   ]
  },
  {
   "cell_type": "code",
   "execution_count": 23,
   "id": "ed36e01e",
   "metadata": {},
   "outputs": [],
   "source": [
    "xgbc = XGBClassifier(eval_metric='logloss')"
   ]
  },
  {
   "cell_type": "code",
   "execution_count": 24,
   "id": "d19f1619",
   "metadata": {},
   "outputs": [
    {
     "data": {
      "text/plain": [
       "XGBClassifier(base_score=0.5, booster='gbtree', colsample_bylevel=1,\n",
       "              colsample_bynode=1, colsample_bytree=1, eval_metric='logloss',\n",
       "              gamma=0, gpu_id=-1, importance_type='gain',\n",
       "              interaction_constraints='', learning_rate=0.300000012,\n",
       "              max_delta_step=0, max_depth=6, min_child_weight=1, missing=nan,\n",
       "              monotone_constraints='()', n_estimators=100, n_jobs=4,\n",
       "              num_parallel_tree=1, random_state=0, reg_alpha=0, reg_lambda=1,\n",
       "              scale_pos_weight=1, subsample=1, tree_method='exact',\n",
       "              validate_parameters=1, verbosity=None)"
      ]
     },
     "execution_count": 24,
     "metadata": {},
     "output_type": "execute_result"
    }
   ],
   "source": [
    "xgbc.fit(scaler_X_train, y_train)"
   ]
  },
  {
   "cell_type": "markdown",
   "id": "def55661",
   "metadata": {},
   "source": [
    "##### Feature Importance "
   ]
  },
  {
   "cell_type": "code",
   "execution_count": 25,
   "id": "8d173068",
   "metadata": {
    "scrolled": true
   },
   "outputs": [
    {
     "data": {
      "text/html": [
       "<div>\n",
       "<style scoped>\n",
       "    .dataframe tbody tr th:only-of-type {\n",
       "        vertical-align: middle;\n",
       "    }\n",
       "\n",
       "    .dataframe tbody tr th {\n",
       "        vertical-align: top;\n",
       "    }\n",
       "\n",
       "    .dataframe thead th {\n",
       "        text-align: right;\n",
       "    }\n",
       "</style>\n",
       "<table border=\"1\" class=\"dataframe\">\n",
       "  <thead>\n",
       "    <tr style=\"text-align: right;\">\n",
       "      <th></th>\n",
       "      <th>feature importance</th>\n",
       "    </tr>\n",
       "  </thead>\n",
       "  <tbody>\n",
       "    <tr>\n",
       "      <th>Dest_ORD</th>\n",
       "      <td>0.244758</td>\n",
       "    </tr>\n",
       "    <tr>\n",
       "      <th>ArrTime</th>\n",
       "      <td>0.133344</td>\n",
       "    </tr>\n",
       "    <tr>\n",
       "      <th>Dest_DEN</th>\n",
       "      <td>0.105455</td>\n",
       "    </tr>\n",
       "    <tr>\n",
       "      <th>Dest_LAX</th>\n",
       "      <td>0.091589</td>\n",
       "    </tr>\n",
       "    <tr>\n",
       "      <th>Distance</th>\n",
       "      <td>0.082504</td>\n",
       "    </tr>\n",
       "    <tr>\n",
       "      <th>Dest_DFW</th>\n",
       "      <td>0.081158</td>\n",
       "    </tr>\n",
       "    <tr>\n",
       "      <th>Month</th>\n",
       "      <td>0.075802</td>\n",
       "    </tr>\n",
       "    <tr>\n",
       "      <th>DayofWeek</th>\n",
       "      <td>0.068360</td>\n",
       "    </tr>\n",
       "    <tr>\n",
       "      <th>DayofMonth</th>\n",
       "      <td>0.068198</td>\n",
       "    </tr>\n",
       "    <tr>\n",
       "      <th>Dest_ATL</th>\n",
       "      <td>0.048833</td>\n",
       "    </tr>\n",
       "  </tbody>\n",
       "</table>\n",
       "</div>"
      ],
      "text/plain": [
       "            feature importance\n",
       "Dest_ORD              0.244758\n",
       "ArrTime               0.133344\n",
       "Dest_DEN              0.105455\n",
       "Dest_LAX              0.091589\n",
       "Distance              0.082504\n",
       "Dest_DFW              0.081158\n",
       "Month                 0.075802\n",
       "DayofWeek             0.068360\n",
       "DayofMonth            0.068198\n",
       "Dest_ATL              0.048833"
      ]
     },
     "execution_count": 25,
     "metadata": {},
     "output_type": "execute_result"
    }
   ],
   "source": [
    "df_feat = pd.DataFrame(xgbc.feature_importances_, index=df_col, columns=['feature importance']).sort_values('feature importance', ascending=False)\n",
    "df_feat"
   ]
  },
  {
   "cell_type": "code",
   "execution_count": 26,
   "id": "1bcd0703",
   "metadata": {
    "scrolled": true
   },
   "outputs": [
    {
     "data": {
      "image/png": "[encoded data removed]",
      "text/plain": [
       "<Figure size 432x288 with 1 Axes>"
      ]
     },
     "metadata": {
      "needs_background": "light"
     },
     "output_type": "display_data"
    }
   ],
   "source": [
    "df_feat.plot(kind='bar');"
   ]
  },
  {
   "cell_type": "markdown",
   "id": "10743f79",
   "metadata": {},
   "source": [
    "XGBoost weighs each feature more evenly, particularly the destinations weighing more than in previous models. "
   ]
  },
  {
   "cell_type": "code",
   "execution_count": 27,
   "id": "acbd0ee8",
   "metadata": {},
   "outputs": [],
   "source": [
    "xgbc_pred_train = xgbc.predict(scaler_X_train)"
   ]
  },
  {
   "cell_type": "code",
   "execution_count": 28,
   "id": "54951ee7",
   "metadata": {},
   "outputs": [
    {
     "name": "stdout",
     "output_type": "stream",
     "text": [
      "              precision    recall  f1-score   support\n",
      "\n",
      "     On Time       0.71      0.20      0.31     44183\n",
      "       Delay       0.71      0.96      0.82     90231\n",
      "\n",
      "    accuracy                           0.71    134414\n",
      "   macro avg       0.71      0.58      0.56    134414\n",
      "weighted avg       0.71      0.71      0.65    134414\n",
      "\n"
     ]
    }
   ],
   "source": [
    "print(classification_report(y_train, xgbc_pred_train, target_names=['On Time', 'Delay']))"
   ]
  },
  {
   "cell_type": "code",
   "execution_count": 29,
   "id": "70e3009e",
   "metadata": {},
   "outputs": [
    {
     "name": "stdout",
     "output_type": "stream",
     "text": [
      "Mean Absolute Error: 0.2898953978008243\n",
      "Mean Squared Error: 0.2898953978008243\n",
      "Root Mean Squared Error: 0.5384193512503282\n"
     ]
    }
   ],
   "source": [
    "print('Mean Absolute Error:', mean_absolute_error(y_train, xgbc_pred_train))\n",
    "print('Mean Squared Error:', mean_squared_error(y_train, xgbc_pred_train))  \n",
    "print('Root Mean Squared Error:', np.sqrt(mean_squared_error(y_train, xgbc_pred_train)))"
   ]
  },
  {
   "cell_type": "markdown",
   "id": "6f334cc7",
   "metadata": {},
   "source": [
    "#### Baseline Testing Models"
   ]
  },
  {
   "cell_type": "markdown",
   "id": "065f048c",
   "metadata": {},
   "source": [
    "##### Decision Tree"
   ]
  },
  {
   "cell_type": "code",
   "execution_count": 30,
   "id": "8e2bd2d8",
   "metadata": {},
   "outputs": [],
   "source": [
    "dtc_pred_test = dtc.predict(scaler_X_test)"
   ]
  },
  {
   "cell_type": "code",
   "execution_count": 31,
   "id": "0cd0c682",
   "metadata": {},
   "outputs": [
    {
     "name": "stdout",
     "output_type": "stream",
     "text": [
      "              precision    recall  f1-score   support\n",
      "\n",
      "     On Time       0.44      0.46      0.45     10983\n",
      "       Delay       0.73      0.72      0.73     22621\n",
      "\n",
      "    accuracy                           0.64     33604\n",
      "   macro avg       0.59      0.59      0.59     33604\n",
      "weighted avg       0.64      0.64      0.64     33604\n",
      "\n"
     ]
    }
   ],
   "source": [
    "print(classification_report(y_test, dtc_pred_test, target_names=['On Time', 'Delay']))"
   ]
  },
  {
   "cell_type": "markdown",
   "id": "507c05b0",
   "metadata": {},
   "source": [
    "The baseline decision tree model captures the delay, 72% of the predicted delays, are actually delays. And of the delays, 71% are predicted."
   ]
  },
  {
   "cell_type": "code",
   "execution_count": 32,
   "id": "3b49f16d",
   "metadata": {},
   "outputs": [
    {
     "name": "stdout",
     "output_type": "stream",
     "text": [
      "Mean Absolute Error: 0.36483751934293535\n",
      "Mean Squared Error: 0.36483751934293535\n",
      "Root Mean Squared Error: 0.6040178137629182\n"
     ]
    }
   ],
   "source": [
    "print('Mean Absolute Error:', mean_absolute_error(y_test, dtc_pred_test))\n",
    "print('Mean Squared Error:', mean_squared_error(y_test, dtc_pred_test))  \n",
    "print('Root Mean Squared Error:', np.sqrt(mean_squared_error(y_test, dtc_pred_test)))"
   ]
  },
  {
   "cell_type": "markdown",
   "id": "f0f2fc15",
   "metadata": {},
   "source": [
    "##### Random Forest"
   ]
  },
  {
   "cell_type": "code",
   "execution_count": 33,
   "id": "8ff9c490",
   "metadata": {},
   "outputs": [],
   "source": [
    "rfc_pred_test = rfc.predict(scaler_X_test)"
   ]
  },
  {
   "cell_type": "code",
   "execution_count": 34,
   "id": "b8b22f82",
   "metadata": {},
   "outputs": [
    {
     "name": "stdout",
     "output_type": "stream",
     "text": [
      "              precision    recall  f1-score   support\n",
      "\n",
      "     On Time       0.48      0.30      0.37     10983\n",
      "       Delay       0.71      0.84      0.77     22621\n",
      "\n",
      "    accuracy                           0.66     33604\n",
      "   macro avg       0.59      0.57      0.57     33604\n",
      "weighted avg       0.64      0.66      0.64     33604\n",
      "\n"
     ]
    }
   ],
   "source": [
    "print(classification_report(y_test, rfc_pred_test, target_names=['On Time', 'Delay']))"
   ]
  },
  {
   "cell_type": "markdown",
   "id": "7b5d91e7",
   "metadata": {},
   "source": [
    "The baseline decision tree model captures the dela,y 71% of the predicted delays, are actually delays. And of the delays, 82% are predicted. The model was able to increase its recall because of its use of many decision trees to predict, therefore able to find more scenarios predicting delay."
   ]
  },
  {
   "cell_type": "code",
   "execution_count": 35,
   "id": "d3fffef7",
   "metadata": {},
   "outputs": [
    {
     "name": "stdout",
     "output_type": "stream",
     "text": [
      "Mean Absolute Error: 0.3370729675038686\n",
      "Mean Squared Error: 0.3370729675038686\n",
      "Root Mean Squared Error: 0.5805798545453231\n"
     ]
    }
   ],
   "source": [
    "print('Mean Absolute Error:', mean_absolute_error(y_test, rfc_pred_test))\n",
    "print('Mean Squared Error:', mean_squared_error(y_test, rfc_pred_test))  \n",
    "print('Root Mean Squared Error:', np.sqrt(mean_squared_error(y_test, rfc_pred_test)))"
   ]
  },
  {
   "cell_type": "markdown",
   "id": "9d09d418",
   "metadata": {},
   "source": [
    "##### XGBoost"
   ]
  },
  {
   "cell_type": "code",
   "execution_count": 36,
   "id": "9a32cd20",
   "metadata": {},
   "outputs": [],
   "source": [
    "xgbc_pred_test = xgbc.predict(scaler_X_test)"
   ]
  },
  {
   "cell_type": "code",
   "execution_count": 37,
   "id": "5892ff67",
   "metadata": {},
   "outputs": [
    {
     "name": "stdout",
     "output_type": "stream",
     "text": [
      "              precision    recall  f1-score   support\n",
      "\n",
      "     On Time       0.58      0.16      0.24     10983\n",
      "       Delay       0.70      0.94      0.80     22621\n",
      "\n",
      "    accuracy                           0.69     33604\n",
      "   macro avg       0.64      0.55      0.52     33604\n",
      "weighted avg       0.66      0.69      0.62     33604\n",
      "\n"
     ]
    }
   ],
   "source": [
    "print(classification_report(y_test, xgbc_pred_test, target_names=['On Time', 'Delay']))"
   ]
  },
  {
   "cell_type": "markdown",
   "id": "5bbcd838",
   "metadata": {},
   "source": [
    "The baseline decision tree model captures the dela,y 69% of the predicted delays, are actually delays. And of the delays, 93% are predicted. "
   ]
  },
  {
   "cell_type": "code",
   "execution_count": 38,
   "id": "6af7849d",
   "metadata": {},
   "outputs": [
    {
     "name": "stdout",
     "output_type": "stream",
     "text": [
      "Mean Absolute Error: 0.3132960361861683\n",
      "Mean Squared Error: 0.3132960361861683\n",
      "Root Mean Squared Error: 0.5597285379415349\n"
     ]
    }
   ],
   "source": [
    "print('Mean Absolute Error:', mean_absolute_error(y_test, xgbc_pred_test))\n",
    "print('Mean Squared Error:', mean_squared_error(y_test, xgbc_pred_test))  \n",
    "print('Root Mean Squared Error:', np.sqrt(mean_squared_error(y_test, xgbc_pred_test)))"
   ]
  },
  {
   "cell_type": "markdown",
   "id": "319f4c16",
   "metadata": {},
   "source": [
    "#### Confusion Matrix"
   ]
  },
  {
   "cell_type": "markdown",
   "id": "25be94bb",
   "metadata": {},
   "source": [
    "##### Decision Tree"
   ]
  },
  {
   "cell_type": "code",
   "execution_count": 39,
   "id": "ef7d0b0a",
   "metadata": {},
   "outputs": [
    {
     "data": {
      "image/png": "[encoded data removed]",
      "text/plain": [
       "<Figure size 432x288 with 2 Axes>"
      ]
     },
     "metadata": {
      "needs_background": "light"
     },
     "output_type": "display_data"
    }
   ],
   "source": [
    "plot_confusion_matrix(dtc, scaler_X_test, y_test,\n",
    "                      cmap=plt.cm.Reds)\n",
    "plt.show()"
   ]
  },
  {
   "cell_type": "markdown",
   "id": "539492cf",
   "metadata": {},
   "source": [
    "##### Random Forest"
   ]
  },
  {
   "cell_type": "code",
   "execution_count": 40,
   "id": "d2f4269e",
   "metadata": {},
   "outputs": [
    {
     "data": {
      "image/png": "[encoded data removed]",
      "text/plain": [
       "<Figure size 432x288 with 2 Axes>"
      ]
     },
     "metadata": {
      "needs_background": "light"
     },
     "output_type": "display_data"
    }
   ],
   "source": [
    "plot_confusion_matrix(rfc, scaler_X_test, y_test,\n",
    "                      cmap=plt.cm.Blues)\n",
    "plt.show()"
   ]
  },
  {
   "cell_type": "markdown",
   "id": "8beceb16",
   "metadata": {},
   "source": [
    "##### XGBoost"
   ]
  },
  {
   "cell_type": "code",
   "execution_count": 41,
   "id": "33db67c9",
   "metadata": {},
   "outputs": [
    {
     "data": {
      "image/png": "[encoded data removed]",
      "text/plain": [
       "<Figure size 432x288 with 2 Axes>"
      ]
     },
     "metadata": {
      "needs_background": "light"
     },
     "output_type": "display_data"
    }
   ],
   "source": [
    "plot_confusion_matrix(xgbc, scaler_X_test, y_test,\n",
    "                      cmap=plt.cm.Greys)\n",
    "plt.show()"
   ]
  },
  {
   "cell_type": "markdown",
   "id": "08622e1a",
   "metadata": {},
   "source": [
    "### Random Search"
   ]
  },
  {
   "cell_type": "markdown",
   "id": "fe9ef67b",
   "metadata": {},
   "source": [
    "Random Search will use all the combinations of hyperparameters to determine the best combination for the most accurate sample splits."
   ]
  },
  {
   "cell_type": "markdown",
   "id": "01e007a4",
   "metadata": {},
   "source": [
    "##### Parameter Grid"
   ]
  },
  {
   "cell_type": "code",
   "execution_count": 42,
   "id": "61208e8d",
   "metadata": {},
   "outputs": [],
   "source": [
    "param_grid={\n",
    "    'criterion':['gini', 'entropy'],\n",
    "    'random_state': [1,20, 42, 100 ],\n",
    "    'max_depth':[5,10,20,30,40,50,60,70],\n",
    "    'min_samples_split':[5,10,20,25,30,40,50],\n",
    "    'min_samples_leaf':[1,100,200,300,400,500]\n",
    "}"
   ]
  },
  {
   "cell_type": "markdown",
   "id": "1237bbda",
   "metadata": {},
   "source": [
    "#### Random Search Training Models"
   ]
  },
  {
   "cell_type": "markdown",
   "id": "e94811b8",
   "metadata": {},
   "source": [
    "##### Decision Tree"
   ]
  },
  {
   "cell_type": "code",
   "execution_count": 43,
   "id": "c6039889",
   "metadata": {},
   "outputs": [],
   "source": [
    "dtc_rand_search = RandomizedSearchCV(dtc, param_grid)"
   ]
  },
  {
   "cell_type": "code",
   "execution_count": 44,
   "id": "26409ddf",
   "metadata": {},
   "outputs": [
    {
     "data": {
      "text/plain": [
       "RandomizedSearchCV(estimator=DecisionTreeClassifier(),\n",
       "                   param_distributions={'criterion': ['gini', 'entropy'],\n",
       "                                        'max_depth': [5, 10, 20, 30, 40, 50, 60,\n",
       "                                                      70],\n",
       "                                        'min_samples_leaf': [1, 100, 200, 300,\n",
       "                                                             400, 500],\n",
       "                                        'min_samples_split': [5, 10, 20, 25, 30,\n",
       "                                                              40, 50],\n",
       "                                        'random_state': [1, 20, 42, 100]})"
      ]
     },
     "execution_count": 44,
     "metadata": {},
     "output_type": "execute_result"
    }
   ],
   "source": [
    "dtc_rand_search.fit(scaler_X_train, y_train)"
   ]
  },
  {
   "cell_type": "code",
   "execution_count": 45,
   "id": "ae1a3eae",
   "metadata": {},
   "outputs": [
    {
     "data": {
      "text/plain": [
       "{'random_state': 42,\n",
       " 'min_samples_split': 25,\n",
       " 'min_samples_leaf': 200,\n",
       " 'max_depth': 10,\n",
       " 'criterion': 'entropy'}"
      ]
     },
     "execution_count": 45,
     "metadata": {},
     "output_type": "execute_result"
    }
   ],
   "source": [
    "dtc_rand_search.best_params_"
   ]
  },
  {
   "cell_type": "code",
   "execution_count": 46,
   "id": "3d94058d",
   "metadata": {},
   "outputs": [],
   "source": [
    "dtc_rs_pred_train = dtc_rand_search.predict(scaler_X_train)"
   ]
  },
  {
   "cell_type": "code",
   "execution_count": 47,
   "id": "f57d0f52",
   "metadata": {},
   "outputs": [
    {
     "name": "stdout",
     "output_type": "stream",
     "text": [
      "              precision    recall  f1-score   support\n",
      "\n",
      "     On Time       0.56      0.12      0.20     44183\n",
      "       Delay       0.69      0.95      0.80     90231\n",
      "\n",
      "    accuracy                           0.68    134414\n",
      "   macro avg       0.63      0.54      0.50    134414\n",
      "weighted avg       0.65      0.68      0.60    134414\n",
      "\n"
     ]
    }
   ],
   "source": [
    "print(classification_report(y_train, dtc_rs_pred_train, target_names=['On Time', 'Delay']))"
   ]
  },
  {
   "cell_type": "code",
   "execution_count": 48,
   "id": "db2d8a7a",
   "metadata": {},
   "outputs": [
    {
     "name": "stdout",
     "output_type": "stream",
     "text": [
      "Mean Absolute Error: 0.31996667013852725\n",
      "Mean Squared Error: 0.31996667013852725\n",
      "Root Mean Squared Error: 0.5656559644682687\n"
     ]
    }
   ],
   "source": [
    "print('Mean Absolute Error:', mean_absolute_error(y_train, dtc_rs_pred_train))\n",
    "print('Mean Squared Error:', mean_squared_error(y_train, dtc_rs_pred_train))  \n",
    "print('Root Mean Squared Error:', np.sqrt(mean_squared_error(y_train, dtc_rs_pred_train)))"
   ]
  },
  {
   "cell_type": "markdown",
   "id": "37453dee",
   "metadata": {},
   "source": [
    "##### Random Forest"
   ]
  },
  {
   "cell_type": "code",
   "execution_count": 49,
   "id": "34f175db",
   "metadata": {},
   "outputs": [],
   "source": [
    "rfc_rand_search = RandomizedSearchCV(rfc, param_grid)"
   ]
  },
  {
   "cell_type": "code",
   "execution_count": 50,
   "id": "58c06349",
   "metadata": {},
   "outputs": [
    {
     "data": {
      "text/plain": [
       "RandomizedSearchCV(estimator=RandomForestClassifier(),\n",
       "                   param_distributions={'criterion': ['gini', 'entropy'],\n",
       "                                        'max_depth': [5, 10, 20, 30, 40, 50, 60,\n",
       "                                                      70],\n",
       "                                        'min_samples_leaf': [1, 100, 200, 300,\n",
       "                                                             400, 500],\n",
       "                                        'min_samples_split': [5, 10, 20, 25, 30,\n",
       "                                                              40, 50],\n",
       "                                        'random_state': [1, 20, 42, 100]})"
      ]
     },
     "execution_count": 50,
     "metadata": {},
     "output_type": "execute_result"
    }
   ],
   "source": [
    "rfc_rand_search.fit(scaler_X_train, y_train)"
   ]
  },
  {
   "cell_type": "code",
   "execution_count": 51,
   "id": "3db5b473",
   "metadata": {},
   "outputs": [
    {
     "data": {
      "text/plain": [
       "{'random_state': 42,\n",
       " 'min_samples_split': 30,\n",
       " 'min_samples_leaf': 100,\n",
       " 'max_depth': 40,\n",
       " 'criterion': 'gini'}"
      ]
     },
     "execution_count": 51,
     "metadata": {},
     "output_type": "execute_result"
    }
   ],
   "source": [
    "rfc_rand_search.best_params_"
   ]
  },
  {
   "cell_type": "code",
   "execution_count": 52,
   "id": "457a5c24",
   "metadata": {},
   "outputs": [],
   "source": [
    "rfc_rs_pred_train = rfc_rand_search.predict(scaler_X_train)"
   ]
  },
  {
   "cell_type": "code",
   "execution_count": 53,
   "id": "9a4f1987",
   "metadata": {},
   "outputs": [
    {
     "name": "stdout",
     "output_type": "stream",
     "text": [
      "              precision    recall  f1-score   support\n",
      "\n",
      "     On Time       0.71      0.03      0.06     44183\n",
      "       Delay       0.68      0.99      0.81     90231\n",
      "\n",
      "    accuracy                           0.68    134414\n",
      "   macro avg       0.69      0.51      0.43    134414\n",
      "weighted avg       0.69      0.68      0.56    134414\n",
      "\n"
     ]
    }
   ],
   "source": [
    "print(classification_report(y_train, rfc_rs_pred_train, target_names=['On Time', 'Delay']))"
   ]
  },
  {
   "cell_type": "code",
   "execution_count": 54,
   "id": "deb97179",
   "metadata": {},
   "outputs": [
    {
     "name": "stdout",
     "output_type": "stream",
     "text": [
      "Mean Absolute Error: 0.3225854449685301\n",
      "Mean Squared Error: 0.3225854449685301\n",
      "Root Mean Squared Error: 0.5679660596976989\n"
     ]
    }
   ],
   "source": [
    "print('Mean Absolute Error:', mean_absolute_error(y_train, rfc_rs_pred_train))\n",
    "print('Mean Squared Error:', mean_squared_error(y_train, rfc_rs_pred_train))  \n",
    "print('Root Mean Squared Error:', np.sqrt(mean_squared_error(y_train, rfc_rs_pred_train)))"
   ]
  },
  {
   "cell_type": "markdown",
   "id": "b9ffd0ed",
   "metadata": {},
   "source": [
    "##### XGBoost"
   ]
  },
  {
   "cell_type": "code",
   "execution_count": 55,
   "id": "3c3c34e2",
   "metadata": {},
   "outputs": [],
   "source": [
    "xgb_param_grid={\n",
    "    'learning_rate': [0.1, 0.2, 0.3, 0.4],\n",
    "    'gamma': [0, 1, 2, 3],\n",
    "    'max_depth': [20,60],\n",
    "    'min_child_weight': [1, 2],\n",
    "    'subsample': [0.2, 0.5, 0.7, 0.9],\n",
    "}"
   ]
  },
  {
   "cell_type": "code",
   "execution_count": 56,
   "id": "75580f99",
   "metadata": {},
   "outputs": [],
   "source": [
    "xgb_rand_search = RandomizedSearchCV(xgbc, xgb_param_grid)"
   ]
  },
  {
   "cell_type": "code",
   "execution_count": 57,
   "id": "83e5d52f",
   "metadata": {},
   "outputs": [
    {
     "data": {
      "text/plain": [
       "RandomizedSearchCV(estimator=XGBClassifier(base_score=0.5, booster='gbtree',\n",
       "                                           colsample_bylevel=1,\n",
       "                                           colsample_bynode=1,\n",
       "                                           colsample_bytree=1,\n",
       "                                           eval_metric='logloss', gamma=0,\n",
       "                                           gpu_id=-1, importance_type='gain',\n",
       "                                           interaction_constraints='',\n",
       "                                           learning_rate=0.300000012,\n",
       "                                           max_delta_step=0, max_depth=6,\n",
       "                                           min_child_weight=1, missing=nan,\n",
       "                                           monotone_constraints='()',\n",
       "                                           n_estimators=100, n_jobs=4,\n",
       "                                           num_parallel_tree=1, random_state=0,\n",
       "                                           reg_alpha=0, reg_lambda=1,\n",
       "                                           scale_pos_weight=1, subsample=1,\n",
       "                                           tree_method='exact',\n",
       "                                           validate_parameters=1,\n",
       "                                           verbosity=None),\n",
       "                   param_distributions={'gamma': [0, 1, 2, 3],\n",
       "                                        'learning_rate': [0.1, 0.2, 0.3, 0.4],\n",
       "                                        'max_depth': [20, 60],\n",
       "                                        'min_child_weight': [1, 2],\n",
       "                                        'subsample': [0.2, 0.5, 0.7, 0.9]})"
      ]
     },
     "execution_count": 57,
     "metadata": {},
     "output_type": "execute_result"
    }
   ],
   "source": [
    "xgb_rand_search.fit(scaler_X_train, y_train)"
   ]
  },
  {
   "cell_type": "code",
   "execution_count": 58,
   "id": "26c23e60",
   "metadata": {},
   "outputs": [],
   "source": [
    "xgb_rs_pred_train = xgb_rand_search.predict(scaler_X_train)"
   ]
  },
  {
   "cell_type": "code",
   "execution_count": 59,
   "id": "39b59361",
   "metadata": {},
   "outputs": [
    {
     "name": "stdout",
     "output_type": "stream",
     "text": [
      "              precision    recall  f1-score   support\n",
      "\n",
      "     On Time       1.00      0.99      1.00     44183\n",
      "       Delay       1.00      1.00      1.00     90231\n",
      "\n",
      "    accuracy                           1.00    134414\n",
      "   macro avg       1.00      1.00      1.00    134414\n",
      "weighted avg       1.00      1.00      1.00    134414\n",
      "\n"
     ]
    }
   ],
   "source": [
    "print(classification_report(y_train, xgb_rs_pred_train, target_names=['On Time', 'Delay']))"
   ]
  },
  {
   "cell_type": "code",
   "execution_count": 60,
   "id": "db10cff5",
   "metadata": {},
   "outputs": [
    {
     "name": "stdout",
     "output_type": "stream",
     "text": [
      "Mean Absolute Error: 0.002633654232446025\n",
      "Mean Squared Error: 0.002633654232446025\n",
      "Root Mean Squared Error: 0.05131914099481815\n"
     ]
    }
   ],
   "source": [
    "print('Mean Absolute Error:', mean_absolute_error(y_train, xgb_rs_pred_train))\n",
    "print('Mean Squared Error:', mean_squared_error(y_train, xgb_rs_pred_train))  \n",
    "print('Root Mean Squared Error:', np.sqrt(mean_squared_error(y_train, xgb_rs_pred_train)))"
   ]
  },
  {
   "cell_type": "markdown",
   "id": "ed8d9f14",
   "metadata": {},
   "source": [
    "#### Random Search Testing Models"
   ]
  },
  {
   "cell_type": "markdown",
   "id": "eb64956d",
   "metadata": {},
   "source": [
    "##### Decision Tree"
   ]
  },
  {
   "cell_type": "code",
   "execution_count": 61,
   "id": "c3cd58c2",
   "metadata": {},
   "outputs": [],
   "source": [
    "dtc_rs_pred_test = dtc_rand_search.predict(scaler_X_test)"
   ]
  },
  {
   "cell_type": "code",
   "execution_count": 62,
   "id": "a26dab69",
   "metadata": {},
   "outputs": [
    {
     "name": "stdout",
     "output_type": "stream",
     "text": [
      "              precision    recall  f1-score   support\n",
      "\n",
      "     On Time       0.52      0.11      0.18     10983\n",
      "       Delay       0.69      0.95      0.80     22621\n",
      "\n",
      "    accuracy                           0.68     33604\n",
      "   macro avg       0.60      0.53      0.49     33604\n",
      "weighted avg       0.63      0.68      0.60     33604\n",
      "\n"
     ]
    }
   ],
   "source": [
    "print(classification_report(y_test, dtc_rs_pred_test, target_names=['On Time', 'Delay']))"
   ]
  },
  {
   "cell_type": "code",
   "execution_count": 63,
   "id": "4be1f6d0",
   "metadata": {},
   "outputs": [
    {
     "name": "stdout",
     "output_type": "stream",
     "text": [
      "Mean Absolute Error: 0.32418759671467684\n",
      "Mean Squared Error: 0.32418759671467684\n",
      "Root Mean Squared Error: 0.5693747419008652\n"
     ]
    }
   ],
   "source": [
    "print('Mean Absolute Error:', mean_absolute_error(y_test, dtc_rs_pred_test))\n",
    "print('Mean Squared Error:', mean_squared_error(y_test, dtc_rs_pred_test))  \n",
    "print('Root Mean Squared Error:', np.sqrt(mean_squared_error(y_test, dtc_rs_pred_test)))"
   ]
  },
  {
   "cell_type": "markdown",
   "id": "c76b1f59",
   "metadata": {},
   "source": [
    "##### Random Forest"
   ]
  },
  {
   "cell_type": "code",
   "execution_count": 64,
   "id": "ef1b7878",
   "metadata": {},
   "outputs": [],
   "source": [
    "rfc_rs_pred_test = rfc_rand_search.predict(scaler_X_test)"
   ]
  },
  {
   "cell_type": "code",
   "execution_count": 65,
   "id": "b5b9d95c",
   "metadata": {},
   "outputs": [
    {
     "name": "stdout",
     "output_type": "stream",
     "text": [
      "              precision    recall  f1-score   support\n",
      "\n",
      "     On Time       0.62      0.03      0.05     10983\n",
      "       Delay       0.68      0.99      0.81     22621\n",
      "\n",
      "    accuracy                           0.68     33604\n",
      "   macro avg       0.65      0.51      0.43     33604\n",
      "weighted avg       0.66      0.68      0.56     33604\n",
      "\n"
     ]
    }
   ],
   "source": [
    "print(classification_report(y_test, rfc_rs_pred_test, target_names=['On Time', 'Delay']))"
   ]
  },
  {
   "cell_type": "code",
   "execution_count": 66,
   "id": "3d5924d5",
   "metadata": {},
   "outputs": [
    {
     "name": "stdout",
     "output_type": "stream",
     "text": [
      "Mean Absolute Error: 0.3234733960242828\n",
      "Mean Squared Error: 0.3234733960242828\n",
      "Root Mean Squared Error: 0.5687472162782714\n"
     ]
    }
   ],
   "source": [
    "print('Mean Absolute Error:', mean_absolute_error(y_test, rfc_rs_pred_test))\n",
    "print('Mean Squared Error:', mean_squared_error(y_test, rfc_rs_pred_test))  \n",
    "print('Root Mean Squared Error:', np.sqrt(mean_squared_error(y_test, rfc_rs_pred_test)))"
   ]
  },
  {
   "cell_type": "markdown",
   "id": "4f8d0b39",
   "metadata": {},
   "source": [
    "##### XGBoost"
   ]
  },
  {
   "cell_type": "code",
   "execution_count": 67,
   "id": "a9bb070f",
   "metadata": {},
   "outputs": [],
   "source": [
    "xgb_rs_pred_test = xgb_rand_search.predict(scaler_X_test)"
   ]
  },
  {
   "cell_type": "code",
   "execution_count": 68,
   "id": "e84f78e8",
   "metadata": {},
   "outputs": [
    {
     "name": "stdout",
     "output_type": "stream",
     "text": [
      "              precision    recall  f1-score   support\n",
      "\n",
      "     On Time       0.54      0.39      0.45     10983\n",
      "       Delay       0.74      0.84      0.79     22621\n",
      "\n",
      "    accuracy                           0.69     33604\n",
      "   macro avg       0.64      0.61      0.62     33604\n",
      "weighted avg       0.67      0.69      0.68     33604\n",
      "\n"
     ]
    }
   ],
   "source": [
    "print(classification_report(y_test, xgb_rs_pred_test, target_names=['On Time', 'Delay']))"
   ]
  },
  {
   "cell_type": "code",
   "execution_count": 69,
   "id": "65fd0397",
   "metadata": {},
   "outputs": [
    {
     "name": "stdout",
     "output_type": "stream",
     "text": [
      "Mean Absolute Error: 0.3074633972146173\n",
      "Mean Squared Error: 0.3074633972146173\n",
      "Root Mean Squared Error: 0.5544938207181549\n"
     ]
    }
   ],
   "source": [
    "print('Mean Absolute Error:', mean_absolute_error(y_test, xgb_rs_pred_test))\n",
    "print('Mean Squared Error:', mean_squared_error(y_test, xgb_rs_pred_test))  \n",
    "print('Root Mean Squared Error:', np.sqrt(mean_squared_error(y_test, xgb_rs_pred_test)))"
   ]
  },
  {
   "cell_type": "markdown",
   "id": "e8f5fb3b",
   "metadata": {},
   "source": [
    "For our decision tree and random forest recall increased from our baseline and XGBoost generally stayed the same."
   ]
  },
  {
   "cell_type": "markdown",
   "id": "f0f16722",
   "metadata": {},
   "source": [
    "#### Confusion Matrix"
   ]
  },
  {
   "cell_type": "markdown",
   "id": "a8edfa46",
   "metadata": {},
   "source": [
    "##### Decision Tree"
   ]
  },
  {
   "cell_type": "code",
   "execution_count": 70,
   "id": "0d932057",
   "metadata": {},
   "outputs": [
    {
     "data": {
      "image/png": "[encoded data removed]",
      "text/plain": [
       "<Figure size 432x288 with 2 Axes>"
      ]
     },
     "metadata": {
      "needs_background": "light"
     },
     "output_type": "display_data"
    }
   ],
   "source": [
    "plot_confusion_matrix(dtc_rand_search, scaler_X_test, y_test,\n",
    "                      cmap=plt.cm.Reds)\n",
    "plt.show()"
   ]
  },
  {
   "cell_type": "markdown",
   "id": "7cd6734e",
   "metadata": {},
   "source": [
    "##### Random Forest"
   ]
  },
  {
   "cell_type": "code",
   "execution_count": 71,
   "id": "b23d479c",
   "metadata": {},
   "outputs": [
    {
     "data": {
      "image/png": "[encoded data removed]",
      "text/plain": [
       "<Figure size 432x288 with 2 Axes>"
      ]
     },
     "metadata": {
      "needs_background": "light"
     },
     "output_type": "display_data"
    }
   ],
   "source": [
    "plot_confusion_matrix(rfc_rand_search, scaler_X_test, y_test,\n",
    "                      cmap=plt.cm.Blues)\n",
    "plt.show()"
   ]
  },
  {
   "cell_type": "markdown",
   "id": "2d1b45c1",
   "metadata": {},
   "source": [
    "##### XGBoost"
   ]
  },
  {
   "cell_type": "code",
   "execution_count": 72,
   "id": "29930abd",
   "metadata": {},
   "outputs": [
    {
     "data": {
      "image/png": "[encoded data removed]",
      "text/plain": [
       "<Figure size 432x288 with 2 Axes>"
      ]
     },
     "metadata": {
      "needs_background": "light"
     },
     "output_type": "display_data"
    }
   ],
   "source": [
    "plot_confusion_matrix(xgb_rand_search, scaler_X_test, y_test,\n",
    "                      cmap=plt.cm.Greys)\n",
    "plt.show()"
   ]
  },
  {
   "cell_type": "markdown",
   "id": "76229dda",
   "metadata": {},
   "source": [
    "### SMOTE "
   ]
  },
  {
   "cell_type": "markdown",
   "id": "33d32cde",
   "metadata": {},
   "source": [
    "Since Delay classification contains more data than our On Time classification. There could possibly be a discrepency when comparing different sized sests. SMOTE helps with this class imbalance, so we are better to assume the classifications affect the results equally. "
   ]
  },
  {
   "cell_type": "markdown",
   "id": "7c02d8b0",
   "metadata": {},
   "source": [
    "SMOTE will provide a more realistic prediction with each classification evenly balanced before calcualting our estimator. "
   ]
  },
  {
   "cell_type": "code",
   "execution_count": 73,
   "id": "c2106777",
   "metadata": {},
   "outputs": [
    {
     "data": {
      "text/plain": [
       "1    112852\n",
       "0     55166\n",
       "Name: DepDelay, dtype: int64"
      ]
     },
     "execution_count": 73,
     "metadata": {},
     "output_type": "execute_result"
    }
   ],
   "source": [
    "df['DepDelay'].value_counts()"
   ]
  },
  {
   "cell_type": "code",
   "execution_count": 74,
   "id": "ac389558",
   "metadata": {},
   "outputs": [],
   "source": [
    "smote = SMOTE()"
   ]
  },
  {
   "cell_type": "markdown",
   "id": "09fb4d1d",
   "metadata": {},
   "source": [
    "#### SMOTE Training Models"
   ]
  },
  {
   "cell_type": "code",
   "execution_count": 75,
   "id": "e845ef46",
   "metadata": {},
   "outputs": [],
   "source": [
    "X_train_resampled, y_train_resampled = smote.fit_resample(scaler_X_train, y_train) "
   ]
  },
  {
   "cell_type": "markdown",
   "id": "e08aa794",
   "metadata": {},
   "source": [
    "##### Decision Tree"
   ]
  },
  {
   "cell_type": "code",
   "execution_count": 76,
   "id": "d8f503a5",
   "metadata": {},
   "outputs": [
    {
     "data": {
      "text/plain": [
       "RandomizedSearchCV(estimator=DecisionTreeClassifier(),\n",
       "                   param_distributions={'criterion': ['gini', 'entropy'],\n",
       "                                        'max_depth': [5, 10, 20, 30, 40, 50, 60,\n",
       "                                                      70],\n",
       "                                        'min_samples_leaf': [1, 100, 200, 300,\n",
       "                                                             400, 500],\n",
       "                                        'min_samples_split': [5, 10, 20, 25, 30,\n",
       "                                                              40, 50],\n",
       "                                        'random_state': [1, 20, 42, 100]})"
      ]
     },
     "execution_count": 76,
     "metadata": {},
     "output_type": "execute_result"
    }
   ],
   "source": [
    "dtc_rand_search.fit(X_train_resampled, y_train_resampled)"
   ]
  },
  {
   "cell_type": "code",
   "execution_count": 77,
   "id": "a04d2fc8",
   "metadata": {},
   "outputs": [],
   "source": [
    "dtc_smote_pred_train = dtc_rand_search.predict(X_train_resampled)"
   ]
  },
  {
   "cell_type": "code",
   "execution_count": 78,
   "id": "30a10840",
   "metadata": {},
   "outputs": [
    {
     "name": "stdout",
     "output_type": "stream",
     "text": [
      "              precision    recall  f1-score   support\n",
      "\n",
      "     On Time       0.69      0.65      0.67     90231\n",
      "       Delay       0.67      0.71      0.69     90231\n",
      "\n",
      "    accuracy                           0.68    180462\n",
      "   macro avg       0.68      0.68      0.68    180462\n",
      "weighted avg       0.68      0.68      0.68    180462\n",
      "\n"
     ]
    }
   ],
   "source": [
    "print(classification_report(y_train_resampled, dtc_smote_pred_train, target_names=['On Time', 'Delay']))"
   ]
  },
  {
   "cell_type": "code",
   "execution_count": 79,
   "id": "12ab7660",
   "metadata": {},
   "outputs": [
    {
     "name": "stdout",
     "output_type": "stream",
     "text": [
      "Mean Absolute Error: 0.3218239851048974\n",
      "Mean Squared Error: 0.3218239851048974\n",
      "Root Mean Squared Error: 0.5672953244165665\n"
     ]
    }
   ],
   "source": [
    "print('Mean Absolute Error:', mean_absolute_error(y_train_resampled, dtc_smote_pred_train))\n",
    "print('Mean Squared Error:', mean_squared_error(y_train_resampled, dtc_smote_pred_train))  \n",
    "print('Root Mean Squared Error:', np.sqrt(mean_squared_error(y_train_resampled, dtc_smote_pred_train)))"
   ]
  },
  {
   "cell_type": "markdown",
   "id": "b4b5a140",
   "metadata": {},
   "source": [
    "##### Random Forest"
   ]
  },
  {
   "cell_type": "code",
   "execution_count": 80,
   "id": "34e74840",
   "metadata": {},
   "outputs": [
    {
     "data": {
      "text/plain": [
       "RandomizedSearchCV(estimator=RandomForestClassifier(),\n",
       "                   param_distributions={'criterion': ['gini', 'entropy'],\n",
       "                                        'max_depth': [5, 10, 20, 30, 40, 50, 60,\n",
       "                                                      70],\n",
       "                                        'min_samples_leaf': [1, 100, 200, 300,\n",
       "                                                             400, 500],\n",
       "                                        'min_samples_split': [5, 10, 20, 25, 30,\n",
       "                                                              40, 50],\n",
       "                                        'random_state': [1, 20, 42, 100]})"
      ]
     },
     "execution_count": 80,
     "metadata": {},
     "output_type": "execute_result"
    }
   ],
   "source": [
    "rfc_rand_search.fit(X_train_resampled, y_train_resampled)"
   ]
  },
  {
   "cell_type": "code",
   "execution_count": 81,
   "id": "5fafa66d",
   "metadata": {},
   "outputs": [],
   "source": [
    "rfc_smote_pred_train = rfc_rand_search.predict(X_train_resampled)"
   ]
  },
  {
   "cell_type": "code",
   "execution_count": 82,
   "id": "26c9630e",
   "metadata": {},
   "outputs": [
    {
     "name": "stdout",
     "output_type": "stream",
     "text": [
      "              precision    recall  f1-score   support\n",
      "\n",
      "     On Time       0.83      0.83      0.83     90231\n",
      "       Delay       0.83      0.83      0.83     90231\n",
      "\n",
      "    accuracy                           0.83    180462\n",
      "   macro avg       0.83      0.83      0.83    180462\n",
      "weighted avg       0.83      0.83      0.83    180462\n",
      "\n"
     ]
    }
   ],
   "source": [
    "print(classification_report(y_train_resampled, rfc_smote_pred_train, target_names=['On Time', 'Delay']))"
   ]
  },
  {
   "cell_type": "code",
   "execution_count": 83,
   "id": "f2694dd6",
   "metadata": {},
   "outputs": [
    {
     "name": "stdout",
     "output_type": "stream",
     "text": [
      "Mean Absolute Error: 0.16891090645121964\n",
      "Mean Squared Error: 0.16891090645121964\n",
      "Root Mean Squared Error: 0.4109877205601399\n"
     ]
    }
   ],
   "source": [
    "print('Mean Absolute Error:', mean_absolute_error(y_train_resampled, rfc_smote_pred_train))\n",
    "print('Mean Squared Error:', mean_squared_error(y_train_resampled, rfc_smote_pred_train))  \n",
    "print('Root Mean Squared Error:', np.sqrt(mean_squared_error(y_train_resampled, rfc_smote_pred_train)))"
   ]
  },
  {
   "cell_type": "markdown",
   "id": "04f7e4ea",
   "metadata": {},
   "source": [
    "##### XGBoost"
   ]
  },
  {
   "cell_type": "code",
   "execution_count": 84,
   "id": "16060b0b",
   "metadata": {},
   "outputs": [
    {
     "data": {
      "text/plain": [
       "RandomizedSearchCV(estimator=XGBClassifier(base_score=0.5, booster='gbtree',\n",
       "                                           colsample_bylevel=1,\n",
       "                                           colsample_bynode=1,\n",
       "                                           colsample_bytree=1,\n",
       "                                           eval_metric='logloss', gamma=0,\n",
       "                                           gpu_id=-1, importance_type='gain',\n",
       "                                           interaction_constraints='',\n",
       "                                           learning_rate=0.300000012,\n",
       "                                           max_delta_step=0, max_depth=6,\n",
       "                                           min_child_weight=1, missing=nan,\n",
       "                                           monotone_constraints='()',\n",
       "                                           n_estimators=100, n_jobs=4,\n",
       "                                           num_parallel_tree=1, random_state=0,\n",
       "                                           reg_alpha=0, reg_lambda=1,\n",
       "                                           scale_pos_weight=1, subsample=1,\n",
       "                                           tree_method='exact',\n",
       "                                           validate_parameters=1,\n",
       "                                           verbosity=None),\n",
       "                   param_distributions={'gamma': [0, 1, 2, 3],\n",
       "                                        'learning_rate': [0.1, 0.2, 0.3, 0.4],\n",
       "                                        'max_depth': [20, 60],\n",
       "                                        'min_child_weight': [1, 2],\n",
       "                                        'subsample': [0.2, 0.5, 0.7, 0.9]})"
      ]
     },
     "execution_count": 84,
     "metadata": {},
     "output_type": "execute_result"
    }
   ],
   "source": [
    "xgb_rand_search.fit(X_train_resampled, y_train_resampled)"
   ]
  },
  {
   "cell_type": "code",
   "execution_count": 85,
   "id": "05d76d48",
   "metadata": {},
   "outputs": [],
   "source": [
    "xgb_smote_pred_train = xgb_rand_search.predict(X_train_resampled)"
   ]
  },
  {
   "cell_type": "code",
   "execution_count": 86,
   "id": "a8f881d7",
   "metadata": {},
   "outputs": [
    {
     "name": "stdout",
     "output_type": "stream",
     "text": [
      "              precision    recall  f1-score   support\n",
      "\n",
      "     On Time       1.00      1.00      1.00     90231\n",
      "       Delay       1.00      1.00      1.00     90231\n",
      "\n",
      "    accuracy                           1.00    180462\n",
      "   macro avg       1.00      1.00      1.00    180462\n",
      "weighted avg       1.00      1.00      1.00    180462\n",
      "\n"
     ]
    }
   ],
   "source": [
    "print(classification_report(y_train_resampled, xgb_smote_pred_train, target_names=['On Time', 'Delay']))"
   ]
  },
  {
   "cell_type": "code",
   "execution_count": 87,
   "id": "5d1d6c34",
   "metadata": {},
   "outputs": [
    {
     "name": "stdout",
     "output_type": "stream",
     "text": [
      "Mean Absolute Error: 0.002188826456539327\n",
      "Mean Squared Error: 0.002188826456539327\n",
      "Root Mean Squared Error: 0.04678489560252675\n"
     ]
    }
   ],
   "source": [
    "print('Mean Absolute Error:', mean_absolute_error(y_train_resampled, xgb_smote_pred_train))\n",
    "print('Mean Squared Error:', mean_squared_error(y_train_resampled, xgb_smote_pred_train))  \n",
    "print('Root Mean Squared Error:', np.sqrt(mean_squared_error(y_train_resampled, xgb_smote_pred_train)))"
   ]
  },
  {
   "cell_type": "markdown",
   "id": "8aee50fe",
   "metadata": {},
   "source": [
    "#### SMOTE Testing Models"
   ]
  },
  {
   "cell_type": "markdown",
   "id": "53e4a0c0",
   "metadata": {},
   "source": [
    "##### Decision Tree"
   ]
  },
  {
   "cell_type": "code",
   "execution_count": 88,
   "id": "a618472b",
   "metadata": {},
   "outputs": [],
   "source": [
    "dtc_smote_pred_test = dtc_rand_search.predict(scaler_X_test)"
   ]
  },
  {
   "cell_type": "code",
   "execution_count": 89,
   "id": "d1998496",
   "metadata": {},
   "outputs": [
    {
     "name": "stdout",
     "output_type": "stream",
     "text": [
      "              precision    recall  f1-score   support\n",
      "\n",
      "     On Time       0.44      0.51      0.47     10983\n",
      "       Delay       0.74      0.68      0.71     22621\n",
      "\n",
      "    accuracy                           0.62     33604\n",
      "   macro avg       0.59      0.60      0.59     33604\n",
      "weighted avg       0.64      0.62      0.63     33604\n",
      "\n"
     ]
    }
   ],
   "source": [
    "print(classification_report(y_test, dtc_smote_pred_test, target_names=['On Time', 'Delay']))"
   ]
  },
  {
   "cell_type": "code",
   "execution_count": 90,
   "id": "758b8924",
   "metadata": {},
   "outputs": [
    {
     "name": "stdout",
     "output_type": "stream",
     "text": [
      "Mean Absolute Error: 0.37629448875133914\n",
      "Mean Squared Error: 0.37629448875133914\n",
      "Root Mean Squared Error: 0.6134284707700965\n"
     ]
    }
   ],
   "source": [
    "print('Mean Absolute Error:', mean_absolute_error(y_test, dtc_smote_pred_test))\n",
    "print('Mean Squared Error:', mean_squared_error(y_test, dtc_smote_pred_test))  \n",
    "print('Root Mean Squared Error:', np.sqrt(mean_squared_error(y_test, dtc_smote_pred_test)))"
   ]
  },
  {
   "cell_type": "markdown",
   "id": "0ec43fa3",
   "metadata": {},
   "source": [
    "##### Random Forest"
   ]
  },
  {
   "cell_type": "code",
   "execution_count": 91,
   "id": "c6ab0c6e",
   "metadata": {},
   "outputs": [],
   "source": [
    "rfc_smote_pred_test = rfc_rand_search.predict(scaler_X_test)"
   ]
  },
  {
   "cell_type": "code",
   "execution_count": 92,
   "id": "226e33ff",
   "metadata": {},
   "outputs": [
    {
     "name": "stdout",
     "output_type": "stream",
     "text": [
      "              precision    recall  f1-score   support\n",
      "\n",
      "     On Time       0.47      0.51      0.49     10983\n",
      "       Delay       0.75      0.72      0.74     22621\n",
      "\n",
      "    accuracy                           0.65     33604\n",
      "   macro avg       0.61      0.61      0.61     33604\n",
      "weighted avg       0.66      0.65      0.65     33604\n",
      "\n"
     ]
    }
   ],
   "source": [
    "print(classification_report(y_test, rfc_smote_pred_test, target_names=['On Time', 'Delay']))"
   ]
  },
  {
   "cell_type": "code",
   "execution_count": 93,
   "id": "273d04fd",
   "metadata": {},
   "outputs": [
    {
     "name": "stdout",
     "output_type": "stream",
     "text": [
      "Mean Absolute Error: 0.3488275205332699\n",
      "Mean Squared Error: 0.3488275205332699\n",
      "Root Mean Squared Error: 0.5906162210211212\n"
     ]
    }
   ],
   "source": [
    "print('Mean Absolute Error:', mean_absolute_error(y_test, rfc_smote_pred_test))\n",
    "print('Mean Squared Error:', mean_squared_error(y_test, rfc_smote_pred_test))  \n",
    "print('Root Mean Squared Error:', np.sqrt(mean_squared_error(y_test, rfc_smote_pred_test)))"
   ]
  },
  {
   "cell_type": "markdown",
   "id": "44a4e9b7",
   "metadata": {},
   "source": [
    "##### XGBoost"
   ]
  },
  {
   "cell_type": "code",
   "execution_count": 94,
   "id": "8dc0a243",
   "metadata": {},
   "outputs": [],
   "source": [
    "xgb_smote_pred_test = xgb_rand_search.predict(scaler_X_test)"
   ]
  },
  {
   "cell_type": "code",
   "execution_count": 95,
   "id": "5bc05616",
   "metadata": {},
   "outputs": [
    {
     "name": "stdout",
     "output_type": "stream",
     "text": [
      "              precision    recall  f1-score   support\n",
      "\n",
      "     On Time       0.53      0.45      0.49     10983\n",
      "       Delay       0.75      0.80      0.78     22621\n",
      "\n",
      "    accuracy                           0.69     33604\n",
      "   macro avg       0.64      0.63      0.63     33604\n",
      "weighted avg       0.68      0.69      0.68     33604\n",
      "\n"
     ]
    }
   ],
   "source": [
    "print(classification_report(y_test, xgb_smote_pred_test, target_names=['On Time', 'Delay']))"
   ]
  },
  {
   "cell_type": "code",
   "execution_count": 96,
   "id": "98e35841",
   "metadata": {},
   "outputs": [
    {
     "name": "stdout",
     "output_type": "stream",
     "text": [
      "Mean Absolute Error: 0.3121949767884776\n",
      "Mean Squared Error: 0.3121949767884776\n",
      "Root Mean Squared Error: 0.5587441067147622\n"
     ]
    }
   ],
   "source": [
    "print('Mean Absolute Error:', mean_absolute_error(y_test, xgb_smote_pred_test))\n",
    "print('Mean Squared Error:', mean_squared_error(y_test, xgb_smote_pred_test))  \n",
    "print('Root Mean Squared Error:', np.sqrt(mean_squared_error(y_test, xgb_smote_pred_test)))"
   ]
  },
  {
   "cell_type": "markdown",
   "id": "1d21d421",
   "metadata": {},
   "source": [
    "With SMOTE our On Time predictions have increased and it closely reflects the Delay's prediciton and recall. "
   ]
  },
  {
   "cell_type": "markdown",
   "id": "cb09cb74",
   "metadata": {},
   "source": [
    "#### Confusion Matrix"
   ]
  },
  {
   "cell_type": "markdown",
   "id": "f286f4cb",
   "metadata": {},
   "source": [
    "##### Decision Tree"
   ]
  },
  {
   "cell_type": "code",
   "execution_count": 97,
   "id": "6022f23f",
   "metadata": {},
   "outputs": [
    {
     "data": {
      "image/png": "[encoded data removed]",
      "text/plain": [
       "<Figure size 432x288 with 2 Axes>"
      ]
     },
     "metadata": {
      "needs_background": "light"
     },
     "output_type": "display_data"
    }
   ],
   "source": [
    "plot_confusion_matrix(dtc_rand_search, scaler_X_test, y_test,\n",
    "                      cmap=plt.cm.Reds)\n",
    "plt.show()"
   ]
  },
  {
   "cell_type": "markdown",
   "id": "26e98630",
   "metadata": {},
   "source": [
    "##### Random Forest"
   ]
  },
  {
   "cell_type": "code",
   "execution_count": 98,
   "id": "be195a8b",
   "metadata": {
    "scrolled": true
   },
   "outputs": [
    {
     "data": {
      "image/png": "[encoded data removed]",
      "text/plain": [
       "<Figure size 432x288 with 2 Axes>"
      ]
     },
     "metadata": {
      "needs_background": "light"
     },
     "output_type": "display_data"
    }
   ],
   "source": [
    "plot_confusion_matrix(rfc_rand_search, scaler_X_test, y_test,\n",
    "                      cmap=plt.cm.Blues)\n",
    "plt.show()"
   ]
  },
  {
   "cell_type": "markdown",
   "id": "986bd1d3",
   "metadata": {},
   "source": [
    "##### XGBoost"
   ]
  },
  {
   "cell_type": "code",
   "execution_count": 99,
   "id": "c76cd5b7",
   "metadata": {},
   "outputs": [
    {
     "data": {
      "image/png": "[encoded data removed]",
      "text/plain": [
       "<Figure size 432x288 with 2 Axes>"
      ]
     },
     "metadata": {
      "needs_background": "light"
     },
     "output_type": "display_data"
    }
   ],
   "source": [
    "plot_confusion_matrix(xgb_rand_search, scaler_X_test, y_test,\n",
    "                      cmap=plt.cm.Greys)\n",
    "plt.show()"
   ]
  }
 ],
 "metadata": {
  "kernelspec": {
   "display_name": "Python 3",
   "language": "python",
   "name": "python3"
  },
  "language_info": {
   "codemirror_mode": {
    "name": "ipython",
    "version": 3
   },
   "file_extension": ".py",
   "mimetype": "text/x-python",
   "name": "python",
   "nbconvert_exporter": "python",
   "pygments_lexer": "ipython3",
   "version": "3.8.8"
  }
 },
 "nbformat": 4,
 "nbformat_minor": 5
}
