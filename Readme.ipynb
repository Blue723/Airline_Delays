{
 "cells": [
  {
   "cell_type": "markdown",
   "id": "53c00cf5",
   "metadata": {},
   "source": [
    "# Readme"
   ]
  },
  {
   "cell_type": "markdown",
   "id": "38d4ff4b",
   "metadata": {},
   "source": [
    "![image](img/dep_pic.png)"
   ]
  },
  {
   "cell_type": "markdown",
   "id": "4d834c84",
   "metadata": {},
   "source": [
    "This project aims to build a model that predicts an Airline's flight departure delay. The model will represent the Airlines American Airlines (AA), United Airlines (UA), and American Eagle Airlines (MQ)."
   ]
  },
  {
   "cell_type": "markdown",
   "id": "3e5e8b5c",
   "metadata": {},
   "source": [
    "Planning ahead can help you recognize potential disruptions to help save time and money. A company's ability to recognize when their employee might have a fligth problem ahead of time, will help the company make adjustments to prevent further interruptions. I would like the model to help a customer determine if their flight will be delayed, so they might plan to reschedule. "
   ]
  },
  {
   "cell_type": "markdown",
   "id": "ae4ba08f",
   "metadata": {},
   "source": [
    "The models used are Decision Tree, Random Forest, and XGBoost. Each model has a baseline, then applied random search, then SMOTE. So we can observe each model's  predictions."
   ]
  },
  {
   "cell_type": "markdown",
   "id": "49a4e28e",
   "metadata": {},
   "source": [
    "#### Model's Features and Parameters "
   ]
  },
  {
   "cell_type": "markdown",
   "id": "0a74e1c5",
   "metadata": {},
   "source": [
    "Departure delay will be defined as any delay more than 15 minutes. "
   ]
  },
  {
   "cell_type": "markdown",
   "id": "8e6239c3",
   "metadata": {},
   "source": [
    "The features used to predict delay:\n",
    " - Arrival Time of the flight\n",
    " - Distance of the Flight \n",
    " - Day of Month\n",
    " - Month\n",
    " - Day of Week \n",
    " - Destination:\n",
    "     - Dallas Fort-Worth\n",
    "     - Denver\n",
    "     - Orlando\n",
    "     - Los Angeles \n",
    "     - Atlanta"
   ]
  },
  {
   "cell_type": "markdown",
   "id": "8e9ab282",
   "metadata": {},
   "source": [
    "### Feature Importance"
   ]
  },
  {
   "cell_type": "markdown",
   "id": "f8572935",
   "metadata": {},
   "source": [
    "##### Decision Tree"
   ]
  },
  {
   "cell_type": "markdown",
   "id": "90c82aa3",
   "metadata": {},
   "source": [
    "I will use a decision tree model since the data possibly has varying scenarios that could lead to a delay. Decision tree model will determine multiple possible scenarios to predict a flights delay."
   ]
  },
  {
   "cell_type": "markdown",
   "id": "9d34fc91",
   "metadata": {},
   "source": [
    "![image.png](img/dtc_feat_imp.png)"
   ]
  },
  {
   "cell_type": "markdown",
   "id": "a96489d2",
   "metadata": {},
   "source": [
    "The next model is random forest. This model is creating multiple decision trees in order to find the best prediciton model."
   ]
  },
  {
   "cell_type": "markdown",
   "id": "3993f487",
   "metadata": {},
   "source": [
    "##### Random Forest"
   ]
  },
  {
   "cell_type": "markdown",
   "id": "bc359148",
   "metadata": {},
   "source": [
    "Random Forest Arrival time and Distance effeect the model more than decision tree..."
   ]
  },
  {
   "cell_type": "markdown",
   "id": "dc59443c",
   "metadata": {},
   "source": [
    "![image.png](img/rfc_feat_imp.png)"
   ]
  },
  {
   "cell_type": "markdown",
   "id": "6bf4f161",
   "metadata": {},
   "source": [
    "Again, Arrival Time and distance are weighted more in this model. "
   ]
  },
  {
   "cell_type": "markdown",
   "id": "95903191",
   "metadata": {},
   "source": [
    "##### XGBoost"
   ]
  },
  {
   "cell_type": "markdown",
   "id": "0e984af7",
   "metadata": {},
   "source": [
    "XGBoost reduces variance and bias when creating the prediction model and resists overfitting."
   ]
  },
  {
   "cell_type": "markdown",
   "id": "8a2d7274",
   "metadata": {},
   "source": [
    "![image.png](img/xgb_feat_imp.png)"
   ]
  },
  {
   "cell_type": "markdown",
   "id": "d05cc756",
   "metadata": {},
   "source": [
    "XGBoost weighs each feature more evenly, particularly the destinations weighing more than in previous models. "
   ]
  },
  {
   "cell_type": "markdown",
   "id": "b2fcc316",
   "metadata": {},
   "source": [
    "### Baseline Models"
   ]
  },
  {
   "cell_type": "markdown",
   "id": "057d1955",
   "metadata": {},
   "source": [
    "#### Decision Tree "
   ]
  },
  {
   "cell_type": "markdown",
   "id": "483e12bc",
   "metadata": {},
   "source": [
    "![image.png](img/dtc_base_con_mat.png)"
   ]
  },
  {
   "cell_type": "markdown",
   "id": "7deb13b1",
   "metadata": {},
   "source": [
    "                   precision recall f1-score   support\n",
    "\n",
    "       On Time       0.45      0.46      0.45     10962\n",
    "       Delay         0.72      0.71      0.71     21509\n",
    "\n",
    "    accuracy                           0.63     32471\n",
    "    macro avg       0.58      0.59      0.58     32471\n",
    "    weighted avg    0.63      0.63      0.63     32471"
   ]
  },
  {
   "cell_type": "markdown",
   "id": "2b5106f5",
   "metadata": {},
   "source": [
    "The baseline decision tree model captures the delay, 72% of the predicted delays, are actually delays. And of the delays, 71% are predicted."
   ]
  },
  {
   "cell_type": "markdown",
   "id": "1099e098",
   "metadata": {},
   "source": [
    "#### Random Forest"
   ]
  },
  {
   "cell_type": "markdown",
   "id": "26effd01",
   "metadata": {},
   "source": [
    "![image.png](img/rfc_base_con_mat.png)"
   ]
  },
  {
   "cell_type": "markdown",
   "id": "b012b4d0",
   "metadata": {},
   "source": [
    "                   precision recall f1-score   support\n",
    "\n",
    "       On Time       0.49      0.33      0.39     10962\n",
    "       Delay         0.71      0.83      0.76     21509\n",
    "\n",
    "    accuracy                           0.66     32471\n",
    "    macro avg       0.60      0.58      0.58     32471\n",
    "    weighted avg    0.63      0.66      0.64     32471"
   ]
  },
  {
   "cell_type": "markdown",
   "id": "92de73c1",
   "metadata": {},
   "source": [
    "The baseline decision tree model captures the dela,y 71% of the predicted delays, are actually delays. And of the delays, 83% are predicted. The model was able to increase its recall because of its use of many decision trees to predict, therefore able to find more scenarios predicting delay."
   ]
  },
  {
   "cell_type": "markdown",
   "id": "6c675679",
   "metadata": {},
   "source": [
    "##### XGBoost"
   ]
  },
  {
   "cell_type": "markdown",
   "id": "8d6a9e60",
   "metadata": {},
   "source": [
    "![image.png](img/xgb_base_con_mat.png)"
   ]
  },
  {
   "cell_type": "markdown",
   "id": "67a666ee",
   "metadata": {},
   "source": [
    "                   precision recall f1-score   support\n",
    "\n",
    "       On Time       0.59      0.19      0.28     10962\n",
    "       Delay         0.69      0.93      0.80     21509\n",
    "\n",
    "    accuracy                           0.68     32471\n",
    "    macro avg       0.64      0.56      0.54     32471\n",
    "    weighted avg    0.66      0.68      0.62     32471"
   ]
  },
  {
   "cell_type": "markdown",
   "id": "8e400f90",
   "metadata": {},
   "source": [
    "The baseline decision tree model captures the dela,y 69% of the predicted delays, are actually delays. And of the delays, 93% are predicted."
   ]
  },
  {
   "cell_type": "markdown",
   "id": "b3f1b459",
   "metadata": {},
   "source": [
    "## Random Search"
   ]
  },
  {
   "cell_type": "markdown",
   "id": "41fd07ff",
   "metadata": {},
   "source": [
    "Random Search will provide a more detailed observation of the data. It will provide and test our models with multiple hyperparameters so we are able to experiment with improving our models. "
   ]
  },
  {
   "cell_type": "markdown",
   "id": "7d3c7cc4",
   "metadata": {},
   "source": [
    "##### Decision Tree"
   ]
  },
  {
   "cell_type": "markdown",
   "id": "a6409847",
   "metadata": {},
   "source": [
    "![image.png](img/dtc_rs_con_mat.png)"
   ]
  },
  {
   "cell_type": "markdown",
   "id": "0fd164cb",
   "metadata": {},
   "source": [
    "                  precision  recall    f1-score   support\n",
    "\n",
    "     On Time       0.53      0.14      0.22     10962\n",
    "       Delay       0.68      0.94      0.79     21509\n",
    "\n",
    "    accuracy                           0.67     32471\n",
    "    macro avg       0.61      0.54      0.50     32471\n",
    "    weighted avg    0.63      0.67      0.60     32471"
   ]
  },
  {
   "cell_type": "markdown",
   "id": "65377733",
   "metadata": {},
   "source": [
    "##### Random Forest"
   ]
  },
  {
   "cell_type": "markdown",
   "id": "747cc940",
   "metadata": {},
   "source": [
    "![image.png](img/rfc_rs_con_mat.png)"
   ]
  },
  {
   "cell_type": "markdown",
   "id": "964c9c5a",
   "metadata": {},
   "source": [
    "                  precision  recall    f1-score support\n",
    "\n",
    "     On Time       0.61      0.15      0.23     10962\n",
    "       Delay       0.67      0.99      0.80     21509\n",
    "\n",
    "    accuracy                           0.67     32471\n",
    "    macro avg       0.64      0.51      0.43     32471\n",
    "    weighted avg    0.65      0.67      0.55     32471"
   ]
  },
  {
   "cell_type": "markdown",
   "id": "11b09777",
   "metadata": {},
   "source": [
    "##### XGBoost"
   ]
  },
  {
   "cell_type": "markdown",
   "id": "451bf5f7",
   "metadata": {},
   "source": [
    "![image.png](img/xgb_rs_con_mat.png)"
   ]
  },
  {
   "cell_type": "markdown",
   "id": "ad1f7a5e",
   "metadata": {},
   "source": [
    "                   precision recall    f1-score   support\n",
    "\n",
    "     On Time       0.54      0.41      0.47     10962\n",
    "       Delay       0.73      0.82      0.77     21509\n",
    "\n",
    "    accuracy                           0.68     32471\n",
    "    macro avg       0.64      0.62      0.62     32471\n",
    "    weighted avg    0.67      0.68      0.67     32471"
   ]
  },
  {
   "cell_type": "markdown",
   "id": "c492d421",
   "metadata": {},
   "source": [
    "For our decision tree and random forest recall increased from our baseline and XGBoost generally stayed the same."
   ]
  },
  {
   "cell_type": "markdown",
   "id": "875ffeb5",
   "metadata": {},
   "source": [
    "## SMOTE"
   ]
  },
  {
   "cell_type": "markdown",
   "id": "431e6fd7",
   "metadata": {},
   "source": [
    "##### Decision Tree"
   ]
  },
  {
   "cell_type": "markdown",
   "id": "6ff9d4c4",
   "metadata": {},
   "source": [
    "![image.png](img/dtc_smote_con_mat.png)"
   ]
  },
  {
   "cell_type": "markdown",
   "id": "95ed0dea",
   "metadata": {},
   "source": [
    "                  precision  recall  f1-score   support\n",
    "\n",
    "     On Time       0.64      0.63      0.64     21509\n",
    "       Delay       0.64      0.65      0.64     21509\n",
    "\n",
    "    accuracy                           0.64     43018\n",
    "    macro avg       0.64      0.64      0.64     43018\n",
    "    weighted avg    0.64      0.64      0.64     43018"
   ]
  },
  {
   "cell_type": "markdown",
   "id": "091016ba",
   "metadata": {},
   "source": [
    "##### Random Forest"
   ]
  },
  {
   "cell_type": "markdown",
   "id": "938828b7",
   "metadata": {},
   "source": [
    "![image.png](img/rfc_smote_con_mat.png)"
   ]
  },
  {
   "cell_type": "markdown",
   "id": "233b2462",
   "metadata": {},
   "source": [
    "                  precision  recall  f1-score   support\n",
    "\n",
    "     On Time       0.71      0.66      0.68     21509\n",
    "       Delay       0.68      0.73      0.71     21509\n",
    "\n",
    "    accuracy                           0.69     43018\n",
    "    macro avg       0.70      0.69      0.69     43018\n",
    "    weighted avg    0.70      0.69      0.69     43018"
   ]
  },
  {
   "cell_type": "markdown",
   "id": "790edfe8",
   "metadata": {},
   "source": [
    "##### XGBoost"
   ]
  },
  {
   "cell_type": "markdown",
   "id": "5e3aadfd",
   "metadata": {},
   "source": [
    "![image.png](img/xgb_smote_con_mat.png)"
   ]
  },
  {
   "cell_type": "markdown",
   "id": "de8c8526",
   "metadata": {},
   "source": [
    "                  precision  recall  f1-score   support\n",
    "\n",
    "     On Time       0.76      0.70      0.73     21509\n",
    "       Delay       0.72      0.78      0.75     21509\n",
    "\n",
    "    accuracy                           0.74     43018\n",
    "    macro avg       0.74      0.74      0.74     43018\n",
    "    weighted avg    0.74      0.74      0.74     43018"
   ]
  },
  {
   "cell_type": "markdown",
   "id": "d390374c",
   "metadata": {},
   "source": [
    "With SMOTE our On Time predictions have increased and it closely reflects the Delay's prediciton and recall. "
   ]
  },
  {
   "cell_type": "markdown",
   "id": "d57df75d",
   "metadata": {},
   "source": [
    "A XGBoost model with random searched parameters and SMOTE classification is the best model for predicting flight delays. "
   ]
  }
 ],
 "metadata": {
  "kernelspec": {
   "display_name": "Python 3",
   "language": "python",
   "name": "python3"
  },
  "language_info": {
   "codemirror_mode": {
    "name": "ipython",
    "version": 3
   },
   "file_extension": ".py",
   "mimetype": "text/x-python",
   "name": "python",
   "nbconvert_exporter": "python",
   "pygments_lexer": "ipython3",
   "version": "3.8.8"
  }
 },
 "nbformat": 4,
 "nbformat_minor": 5
}
